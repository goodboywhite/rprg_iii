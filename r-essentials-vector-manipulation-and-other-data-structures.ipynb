{
 "cells": [
  {
   "cell_type": "markdown",
   "metadata": {
    "slideshow": {
     "slide_type": "slide"
    }
   },
   "source": [
    "# R Essentials\n",
    "\n",
    "> Vector Manipulation and Other Data Structures\n",
    "\n",
    "Tony Yao-Jen Kuo"
   ]
  },
  {
   "cell_type": "markdown",
   "metadata": {
    "slideshow": {
     "slide_type": "subslide"
    }
   },
   "source": [
    "## Agenda\n",
    "\n",
    "- An overview\n",
    "- Vector manipulation\n",
    "- Flow of control: iteration\n",
    "- `list`\n",
    "- `factor`\n",
    "- `data.frame`\n",
    "- `matrix`\n",
    "- `array`"
   ]
  },
  {
   "cell_type": "markdown",
   "metadata": {
    "slideshow": {
     "slide_type": "slide"
    }
   },
   "source": [
    "# An overview"
   ]
  },
  {
   "cell_type": "markdown",
   "metadata": {
    "slideshow": {
     "slide_type": "subslide"
    }
   },
   "source": [
    "## Data structures have several important properties\n",
    "\n",
    "- collects smaller vectors\n",
    "- can be indexing\n",
    "- can be slicing\n",
    "- are iterable"
   ]
  },
  {
   "cell_type": "markdown",
   "metadata": {
    "slideshow": {
     "slide_type": "slide"
    }
   },
   "source": [
    "# Vector manipulation"
   ]
  },
  {
   "cell_type": "markdown",
   "metadata": {
    "slideshow": {
     "slide_type": "subslide"
    }
   },
   "source": [
    "## Characteristics of a vector\n",
    "\n",
    "- element-wise operation\n",
    "- uniformed class\n",
    "- supports logical filtering"
   ]
  },
  {
   "cell_type": "markdown",
   "metadata": {
    "slideshow": {
     "slide_type": "subslide"
    }
   },
   "source": [
    "## Why is there always a `[1]` before we `print()` something in console?"
   ]
  },
  {
   "cell_type": "code",
   "execution_count": 1,
   "metadata": {},
   "outputs": [
    {
     "name": "stdout",
     "output_type": "stream",
     "text": [
      "[1] \"Hello world\"\n"
     ]
    }
   ],
   "source": [
    "print(\"Hello world\")"
   ]
  },
  {
   "cell_type": "markdown",
   "metadata": {
    "slideshow": {
     "slide_type": "subslide"
    }
   },
   "source": [
    "## Using c() to create vectors with length larger than 1"
   ]
  },
  {
   "cell_type": "code",
   "execution_count": 2,
   "metadata": {
    "slideshow": {
     "slide_type": "-"
    }
   },
   "outputs": [
    {
     "data": {
      "text/html": [
       "<ol class=list-inline>\n",
       "\t<li>'Jeremy Lin'</li>\n",
       "\t<li>'Michael Jordan'</li>\n",
       "\t<li>'Shaquille O\\'Neal'</li>\n",
       "</ol>\n"
      ],
      "text/latex": [
       "\\begin{enumerate*}\n",
       "\\item 'Jeremy Lin'\n",
       "\\item 'Michael Jordan'\n",
       "\\item 'Shaquille O\\textbackslash{}'Neal'\n",
       "\\end{enumerate*}\n"
      ],
      "text/markdown": [
       "1. 'Jeremy Lin'\n",
       "2. 'Michael Jordan'\n",
       "3. 'Shaquille O\\'Neal'\n",
       "\n",
       "\n"
      ],
      "text/plain": [
       "[1] \"Jeremy Lin\"       \"Michael Jordan\"   \"Shaquille O'Neal\""
      ]
     },
     "metadata": {},
     "output_type": "display_data"
    },
    {
     "data": {
      "text/html": [
       "<ol class=list-inline>\n",
       "\t<li>191</li>\n",
       "\t<li>198</li>\n",
       "\t<li>216</li>\n",
       "</ol>\n"
      ],
      "text/latex": [
       "\\begin{enumerate*}\n",
       "\\item 191\n",
       "\\item 198\n",
       "\\item 216\n",
       "\\end{enumerate*}\n"
      ],
      "text/markdown": [
       "1. 191\n",
       "2. 198\n",
       "3. 216\n",
       "\n",
       "\n"
      ],
      "text/plain": [
       "[1] 191 198 216"
      ]
     },
     "metadata": {},
     "output_type": "display_data"
    },
    {
     "data": {
      "text/html": [
       "<ol class=list-inline>\n",
       "\t<li>91</li>\n",
       "\t<li>98</li>\n",
       "\t<li>148</li>\n",
       "</ol>\n"
      ],
      "text/latex": [
       "\\begin{enumerate*}\n",
       "\\item 91\n",
       "\\item 98\n",
       "\\item 148\n",
       "\\end{enumerate*}\n"
      ],
      "text/markdown": [
       "1. 91\n",
       "2. 98\n",
       "3. 148\n",
       "\n",
       "\n"
      ],
      "text/plain": [
       "[1]  91  98 148"
      ]
     },
     "metadata": {},
     "output_type": "display_data"
    }
   ],
   "source": [
    "player_names <- c(\"Jeremy Lin\", \"Michael Jordan\", \"Shaquille O'Neal\")\n",
    "player_heights <- c(191, 198, 216)\n",
    "player_weights <- c(91, 98, 148)\n",
    "player_names\n",
    "player_heights\n",
    "player_weights"
   ]
  },
  {
   "cell_type": "markdown",
   "metadata": {
    "slideshow": {
     "slide_type": "subslide"
    }
   },
   "source": [
    "## Using `[INDEX]` to select a vector of length 1 from a vector of length larger than 1"
   ]
  },
  {
   "cell_type": "code",
   "execution_count": 3,
   "metadata": {},
   "outputs": [
    {
     "data": {
      "text/html": [
       "'Jeremy Lin'"
      ],
      "text/latex": [
       "'Jeremy Lin'"
      ],
      "text/markdown": [
       "'Jeremy Lin'"
      ],
      "text/plain": [
       "[1] \"Jeremy Lin\""
      ]
     },
     "metadata": {},
     "output_type": "display_data"
    },
    {
     "data": {
      "text/html": [
       "'Michael Jordan'"
      ],
      "text/latex": [
       "'Michael Jordan'"
      ],
      "text/markdown": [
       "'Michael Jordan'"
      ],
      "text/plain": [
       "[1] \"Michael Jordan\""
      ]
     },
     "metadata": {},
     "output_type": "display_data"
    },
    {
     "data": {
      "text/html": [
       "'Shaquille O\\'Neal'"
      ],
      "text/latex": [
       "'Shaquille O\\textbackslash{}'Neal'"
      ],
      "text/markdown": [
       "'Shaquille O\\'Neal'"
      ],
      "text/plain": [
       "[1] \"Shaquille O'Neal\""
      ]
     },
     "metadata": {},
     "output_type": "display_data"
    },
    {
     "data": {
      "text/html": [
       "'Shaquille O\\'Neal'"
      ],
      "text/latex": [
       "'Shaquille O\\textbackslash{}'Neal'"
      ],
      "text/markdown": [
       "'Shaquille O\\'Neal'"
      ],
      "text/plain": [
       "[1] \"Shaquille O'Neal\""
      ]
     },
     "metadata": {},
     "output_type": "display_data"
    }
   ],
   "source": [
    "player_names[1]\n",
    "player_names[2]\n",
    "player_names[3]\n",
    "player_names[length(player_names)] # in case we have a long vector"
   ]
  },
  {
   "cell_type": "markdown",
   "metadata": {
    "slideshow": {
     "slide_type": "subslide"
    }
   },
   "source": [
    "## Using `[c(INDICE)]` to slice values from vectors"
   ]
  },
  {
   "cell_type": "code",
   "execution_count": 4,
   "metadata": {},
   "outputs": [
    {
     "data": {
      "text/html": [
       "<ol class=list-inline>\n",
       "\t<li>'Michael Jordan'</li>\n",
       "\t<li>'Shaquille O\\'Neal'</li>\n",
       "</ol>\n"
      ],
      "text/latex": [
       "\\begin{enumerate*}\n",
       "\\item 'Michael Jordan'\n",
       "\\item 'Shaquille O\\textbackslash{}'Neal'\n",
       "\\end{enumerate*}\n"
      ],
      "text/markdown": [
       "1. 'Michael Jordan'\n",
       "2. 'Shaquille O\\'Neal'\n",
       "\n",
       "\n"
      ],
      "text/plain": [
       "[1] \"Michael Jordan\"   \"Shaquille O'Neal\""
      ]
     },
     "metadata": {},
     "output_type": "display_data"
    },
    {
     "data": {
      "text/html": [
       "<ol class=list-inline>\n",
       "\t<li>'Jeremy Lin'</li>\n",
       "\t<li>'Shaquille O\\'Neal'</li>\n",
       "</ol>\n"
      ],
      "text/latex": [
       "\\begin{enumerate*}\n",
       "\\item 'Jeremy Lin'\n",
       "\\item 'Shaquille O\\textbackslash{}'Neal'\n",
       "\\end{enumerate*}\n"
      ],
      "text/markdown": [
       "1. 'Jeremy Lin'\n",
       "2. 'Shaquille O\\'Neal'\n",
       "\n",
       "\n"
      ],
      "text/plain": [
       "[1] \"Jeremy Lin\"       \"Shaquille O'Neal\""
      ]
     },
     "metadata": {},
     "output_type": "display_data"
    }
   ],
   "source": [
    "player_names[2:3]\n",
    "player_names[c(1, 3)]"
   ]
  },
  {
   "cell_type": "markdown",
   "metadata": {
    "slideshow": {
     "slide_type": "subslide"
    }
   },
   "source": [
    "## What will happen if we use a NEGATIVE index?"
   ]
  },
  {
   "cell_type": "code",
   "execution_count": 5,
   "metadata": {},
   "outputs": [],
   "source": [
    "# Try it yourself"
   ]
  },
  {
   "cell_type": "markdown",
   "metadata": {
    "slideshow": {
     "slide_type": "subslide"
    }
   },
   "source": [
    "## Vectors are best known for its...\n",
    "\n",
    "- Element-wise operation"
   ]
  },
  {
   "cell_type": "code",
   "execution_count": 6,
   "metadata": {
    "slideshow": {
     "slide_type": "-"
    }
   },
   "outputs": [
    {
     "data": {
      "text/html": [
       "<ol class=list-inline>\n",
       "\t<li>191</li>\n",
       "\t<li>198</li>\n",
       "\t<li>216</li>\n",
       "</ol>\n"
      ],
      "text/latex": [
       "\\begin{enumerate*}\n",
       "\\item 191\n",
       "\\item 198\n",
       "\\item 216\n",
       "\\end{enumerate*}\n"
      ],
      "text/markdown": [
       "1. 191\n",
       "2. 198\n",
       "3. 216\n",
       "\n",
       "\n"
      ],
      "text/plain": [
       "[1] 191 198 216"
      ]
     },
     "metadata": {},
     "output_type": "display_data"
    },
    {
     "data": {
      "text/html": [
       "<ol class=list-inline>\n",
       "\t<li>1.91</li>\n",
       "\t<li>1.98</li>\n",
       "\t<li>2.16</li>\n",
       "</ol>\n"
      ],
      "text/latex": [
       "\\begin{enumerate*}\n",
       "\\item 1.91\n",
       "\\item 1.98\n",
       "\\item 2.16\n",
       "\\end{enumerate*}\n"
      ],
      "text/markdown": [
       "1. 1.91\n",
       "2. 1.98\n",
       "3. 2.16\n",
       "\n",
       "\n"
      ],
      "text/plain": [
       "[1] 1.91 1.98 2.16"
      ]
     },
     "metadata": {},
     "output_type": "display_data"
    }
   ],
   "source": [
    "player_heights_m <- player_heights / 100\n",
    "player_heights\n",
    "player_heights_m"
   ]
  },
  {
   "cell_type": "markdown",
   "metadata": {
    "slideshow": {
     "slide_type": "subslide"
    }
   },
   "source": [
    "## Practices: Using vector operations for players' BMIs"
   ]
  },
  {
   "cell_type": "code",
   "execution_count": 7,
   "metadata": {},
   "outputs": [],
   "source": [
    "# player_bmis <- ..."
   ]
  },
  {
   "cell_type": "markdown",
   "metadata": {
    "slideshow": {
     "slide_type": "subslide"
    }
   },
   "source": [
    "## Beware of vector types"
   ]
  },
  {
   "cell_type": "code",
   "execution_count": 8,
   "metadata": {},
   "outputs": [
    {
     "data": {
      "text/html": [
       "<ol class=list-inline>\n",
       "\t<li>'Michael Jordan'</li>\n",
       "\t<li>'198'</li>\n",
       "\t<li>'98'</li>\n",
       "\t<li>'TRUE'</li>\n",
       "</ol>\n"
      ],
      "text/latex": [
       "\\begin{enumerate*}\n",
       "\\item 'Michael Jordan'\n",
       "\\item '198'\n",
       "\\item '98'\n",
       "\\item 'TRUE'\n",
       "\\end{enumerate*}\n"
      ],
      "text/markdown": [
       "1. 'Michael Jordan'\n",
       "2. '198'\n",
       "3. '98'\n",
       "4. 'TRUE'\n",
       "\n",
       "\n"
      ],
      "text/plain": [
       "[1] \"Michael Jordan\" \"198\"            \"98\"             \"TRUE\"          "
      ]
     },
     "metadata": {},
     "output_type": "display_data"
    },
    {
     "data": {
      "text/html": [
       "'character'"
      ],
      "text/latex": [
       "'character'"
      ],
      "text/markdown": [
       "'character'"
      ],
      "text/plain": [
       "[1] \"character\""
      ]
     },
     "metadata": {},
     "output_type": "display_data"
    },
    {
     "data": {
      "text/html": [
       "'character'"
      ],
      "text/latex": [
       "'character'"
      ],
      "text/markdown": [
       "'character'"
      ],
      "text/plain": [
       "[1] \"character\""
      ]
     },
     "metadata": {},
     "output_type": "display_data"
    },
    {
     "data": {
      "text/html": [
       "'character'"
      ],
      "text/latex": [
       "'character'"
      ],
      "text/markdown": [
       "'character'"
      ],
      "text/plain": [
       "[1] \"character\""
      ]
     },
     "metadata": {},
     "output_type": "display_data"
    },
    {
     "data": {
      "text/html": [
       "'character'"
      ],
      "text/latex": [
       "'character'"
      ],
      "text/markdown": [
       "'character'"
      ],
      "text/plain": [
       "[1] \"character\""
      ]
     },
     "metadata": {},
     "output_type": "display_data"
    }
   ],
   "source": [
    "# Name, height, weight, has_ring\n",
    "mj <- c(\"Michael Jordan\", 198, 98, TRUE)\n",
    "mj\n",
    "class(mj[1])\n",
    "class(mj[2])\n",
    "class(mj[3])\n",
    "class(mj[4])"
   ]
  },
  {
   "cell_type": "markdown",
   "metadata": {
    "slideshow": {
     "slide_type": "subslide"
    }
   },
   "source": [
    "## How to generate vectors quickly"
   ]
  },
  {
   "cell_type": "code",
   "execution_count": 9,
   "metadata": {},
   "outputs": [
    {
     "data": {
      "text/html": [
       "<ol class=list-inline>\n",
       "\t<li>11</li>\n",
       "\t<li>12</li>\n",
       "\t<li>13</li>\n",
       "\t<li>14</li>\n",
       "\t<li>15</li>\n",
       "\t<li>16</li>\n",
       "\t<li>17</li>\n",
       "\t<li>18</li>\n",
       "\t<li>19</li>\n",
       "\t<li>20</li>\n",
       "\t<li>21</li>\n",
       "</ol>\n"
      ],
      "text/latex": [
       "\\begin{enumerate*}\n",
       "\\item 11\n",
       "\\item 12\n",
       "\\item 13\n",
       "\\item 14\n",
       "\\item 15\n",
       "\\item 16\n",
       "\\item 17\n",
       "\\item 18\n",
       "\\item 19\n",
       "\\item 20\n",
       "\\item 21\n",
       "\\end{enumerate*}\n"
      ],
      "text/markdown": [
       "1. 11\n",
       "2. 12\n",
       "3. 13\n",
       "4. 14\n",
       "5. 15\n",
       "6. 16\n",
       "7. 17\n",
       "8. 18\n",
       "9. 19\n",
       "10. 20\n",
       "11. 21\n",
       "\n",
       "\n"
      ],
      "text/plain": [
       " [1] 11 12 13 14 15 16 17 18 19 20 21"
      ]
     },
     "metadata": {},
     "output_type": "display_data"
    },
    {
     "data": {
      "text/html": [
       "<ol class=list-inline>\n",
       "\t<li>11</li>\n",
       "\t<li>12</li>\n",
       "\t<li>13</li>\n",
       "\t<li>14</li>\n",
       "\t<li>15</li>\n",
       "\t<li>16</li>\n",
       "\t<li>17</li>\n",
       "\t<li>18</li>\n",
       "\t<li>19</li>\n",
       "\t<li>20</li>\n",
       "\t<li>21</li>\n",
       "</ol>\n"
      ],
      "text/latex": [
       "\\begin{enumerate*}\n",
       "\\item 11\n",
       "\\item 12\n",
       "\\item 13\n",
       "\\item 14\n",
       "\\item 15\n",
       "\\item 16\n",
       "\\item 17\n",
       "\\item 18\n",
       "\\item 19\n",
       "\\item 20\n",
       "\\item 21\n",
       "\\end{enumerate*}\n"
      ],
      "text/markdown": [
       "1. 11\n",
       "2. 12\n",
       "3. 13\n",
       "4. 14\n",
       "5. 15\n",
       "6. 16\n",
       "7. 17\n",
       "8. 18\n",
       "9. 19\n",
       "10. 20\n",
       "11. 21\n",
       "\n",
       "\n"
      ],
      "text/plain": [
       " [1] 11 12 13 14 15 16 17 18 19 20 21"
      ]
     },
     "metadata": {},
     "output_type": "display_data"
    },
    {
     "data": {
      "text/html": [
       "<ol class=list-inline>\n",
       "\t<li>11</li>\n",
       "\t<li>13</li>\n",
       "\t<li>15</li>\n",
       "\t<li>17</li>\n",
       "\t<li>19</li>\n",
       "\t<li>21</li>\n",
       "</ol>\n"
      ],
      "text/latex": [
       "\\begin{enumerate*}\n",
       "\\item 11\n",
       "\\item 13\n",
       "\\item 15\n",
       "\\item 17\n",
       "\\item 19\n",
       "\\item 21\n",
       "\\end{enumerate*}\n"
      ],
      "text/markdown": [
       "1. 11\n",
       "2. 13\n",
       "3. 15\n",
       "4. 17\n",
       "5. 19\n",
       "6. 21\n",
       "\n",
       "\n"
      ],
      "text/plain": [
       "[1] 11 13 15 17 19 21"
      ]
     },
     "metadata": {},
     "output_type": "display_data"
    },
    {
     "data": {
      "text/html": [
       "<ol class=list-inline>\n",
       "\t<li>11</li>\n",
       "\t<li>13</li>\n",
       "\t<li>15</li>\n",
       "\t<li>17</li>\n",
       "\t<li>19</li>\n",
       "\t<li>21</li>\n",
       "</ol>\n"
      ],
      "text/latex": [
       "\\begin{enumerate*}\n",
       "\\item 11\n",
       "\\item 13\n",
       "\\item 15\n",
       "\\item 17\n",
       "\\item 19\n",
       "\\item 21\n",
       "\\end{enumerate*}\n"
      ],
      "text/markdown": [
       "1. 11\n",
       "2. 13\n",
       "3. 15\n",
       "4. 17\n",
       "5. 19\n",
       "6. 21\n",
       "\n",
       "\n"
      ],
      "text/plain": [
       "[1] 11 13 15 17 19 21"
      ]
     },
     "metadata": {},
     "output_type": "display_data"
    },
    {
     "data": {
      "text/html": [
       "<ol class=list-inline>\n",
       "\t<li>7</li>\n",
       "\t<li>7</li>\n",
       "\t<li>7</li>\n",
       "\t<li>7</li>\n",
       "\t<li>7</li>\n",
       "\t<li>7</li>\n",
       "\t<li>7</li>\n",
       "\t<li>7</li>\n",
       "</ol>\n"
      ],
      "text/latex": [
       "\\begin{enumerate*}\n",
       "\\item 7\n",
       "\\item 7\n",
       "\\item 7\n",
       "\\item 7\n",
       "\\item 7\n",
       "\\item 7\n",
       "\\item 7\n",
       "\\item 7\n",
       "\\end{enumerate*}\n"
      ],
      "text/markdown": [
       "1. 7\n",
       "2. 7\n",
       "3. 7\n",
       "4. 7\n",
       "5. 7\n",
       "6. 7\n",
       "7. 7\n",
       "8. 7\n",
       "\n",
       "\n"
      ],
      "text/plain": [
       "[1] 7 7 7 7 7 7 7 7"
      ]
     },
     "metadata": {},
     "output_type": "display_data"
    }
   ],
   "source": [
    "11:21\n",
    "seq(from = 11, to = 21)\n",
    "seq(from = 11, to = 21, by = 2)\n",
    "seq(from = 11, to = 21, length.out = 6)\n",
    "rep(7, times = 8)"
   ]
  },
  {
   "cell_type": "markdown",
   "metadata": {
    "slideshow": {
     "slide_type": "subslide"
    }
   },
   "source": [
    "## Getting logical values"
   ]
  },
  {
   "cell_type": "code",
   "execution_count": 10,
   "metadata": {},
   "outputs": [
    {
     "data": {
      "text/html": [
       "<ol class=list-inline>\n",
       "\t<li>FALSE</li>\n",
       "\t<li>FALSE</li>\n",
       "\t<li>TRUE</li>\n",
       "</ol>\n"
      ],
      "text/latex": [
       "\\begin{enumerate*}\n",
       "\\item FALSE\n",
       "\\item FALSE\n",
       "\\item TRUE\n",
       "\\end{enumerate*}\n"
      ],
      "text/markdown": [
       "1. FALSE\n",
       "2. FALSE\n",
       "3. TRUE\n",
       "\n",
       "\n"
      ],
      "text/plain": [
       "[1] FALSE FALSE  TRUE"
      ]
     },
     "metadata": {},
     "output_type": "display_data"
    }
   ],
   "source": [
    "player_heights <- c(191, 198, 216)\n",
    "player_weights <- c(91, 98, 148)\n",
    "player_bmis <- player_weights/(player_heights*0.01)**2\n",
    "player_bmis > 30"
   ]
  },
  {
   "cell_type": "markdown",
   "metadata": {
    "slideshow": {
     "slide_type": "subslide"
    }
   },
   "source": [
    "## Logical filtering"
   ]
  },
  {
   "cell_type": "code",
   "execution_count": 11,
   "metadata": {},
   "outputs": [
    {
     "data": {
      "text/html": [
       "31.721536351166"
      ],
      "text/latex": [
       "31.721536351166"
      ],
      "text/markdown": [
       "31.721536351166"
      ],
      "text/plain": [
       "[1] 31.72154"
      ]
     },
     "metadata": {},
     "output_type": "display_data"
    }
   ],
   "source": [
    "player_bmis[player_bmis > 30]"
   ]
  },
  {
   "cell_type": "markdown",
   "metadata": {
    "slideshow": {
     "slide_type": "subslide"
    }
   },
   "source": [
    "## Practices: finding odd numbers in `random_numbers`"
   ]
  },
  {
   "cell_type": "code",
   "execution_count": 12,
   "metadata": {},
   "outputs": [],
   "source": [
    "set.seed(87)\n",
    "random_numbers <- sample(1:1000, size = 100, replace = FALSE)\n",
    "# find out odd numbers in random_numbers"
   ]
  },
  {
   "cell_type": "markdown",
   "metadata": {
    "slideshow": {
     "slide_type": "slide"
    }
   },
   "source": [
    "# Flow of control: iteration"
   ]
  },
  {
   "cell_type": "markdown",
   "metadata": {
    "slideshow": {
     "slide_type": "subslide"
    }
   },
   "source": [
    "## Vector is iterable\n",
    "\n",
    "```r\n",
    "for (ITERATOR in ITERABLE) {\n",
    "  # do something iteratively until ITERATOR hits the end of ITERABLE\n",
    "}\n",
    "```"
   ]
  },
  {
   "cell_type": "markdown",
   "metadata": {
    "slideshow": {
     "slide_type": "subslide"
    }
   },
   "source": [
    "## Iterator as value"
   ]
  },
  {
   "cell_type": "code",
   "execution_count": 13,
   "metadata": {
    "slideshow": {
     "slide_type": "-"
    }
   },
   "outputs": [
    {
     "name": "stdout",
     "output_type": "stream",
     "text": [
      "[1] 1.91\n",
      "[1] 1.98\n",
      "[1] 2.16\n"
     ]
    }
   ],
   "source": [
    "player_heights <- c(191, 198, 216)\n",
    "for (ph in player_heights) {\n",
    "  print(ph*0.01)\n",
    "}"
   ]
  },
  {
   "cell_type": "markdown",
   "metadata": {
    "slideshow": {
     "slide_type": "subslide"
    }
   },
   "source": [
    "## Not just printing it out..."
   ]
  },
  {
   "cell_type": "code",
   "execution_count": 14,
   "metadata": {},
   "outputs": [
    {
     "data": {
      "text/html": [
       "<ol class=list-inline>\n",
       "\t<li>1.91</li>\n",
       "\t<li>1.98</li>\n",
       "\t<li>2.16</li>\n",
       "</ol>\n"
      ],
      "text/latex": [
       "\\begin{enumerate*}\n",
       "\\item 1.91\n",
       "\\item 1.98\n",
       "\\item 2.16\n",
       "\\end{enumerate*}\n"
      ],
      "text/markdown": [
       "1. 1.91\n",
       "2. 1.98\n",
       "3. 2.16\n",
       "\n",
       "\n"
      ],
      "text/plain": [
       "[1] 1.91 1.98 2.16"
      ]
     },
     "metadata": {},
     "output_type": "display_data"
    }
   ],
   "source": [
    "player_heights <- c(191, 198, 216)\n",
    "player_heights_m <- c()\n",
    "for (ph in player_heights) {\n",
    "  player_heights_m <- c(player_heights_m, ph*0.01)\n",
    "}\n",
    "player_heights_m"
   ]
  },
  {
   "cell_type": "markdown",
   "metadata": {
    "slideshow": {
     "slide_type": "subslide"
    }
   },
   "source": [
    "## Practices: Applying fizz buzz on 1:100\n",
    "\n",
    "- if int can be divided by 3, return \"fizz\"\n",
    "- if int can be divided by 5, return \"buzz\"\n",
    "- if int can be divided by 15, return \"fizz buzz\"\n",
    "- otherwise, return int itself"
   ]
  },
  {
   "cell_type": "code",
   "execution_count": 15,
   "metadata": {
    "slideshow": {
     "slide_type": "fragment"
    }
   },
   "outputs": [],
   "source": [
    "## [1] 1 2 \"fizz\" 4 \"buzz\" ... 14 \"fizz buzz\" 16 ... 99 \"buzz\""
   ]
  },
  {
   "cell_type": "markdown",
   "metadata": {
    "slideshow": {
     "slide_type": "subslide"
    }
   },
   "source": [
    "## Iterator as index"
   ]
  },
  {
   "cell_type": "code",
   "execution_count": 16,
   "metadata": {},
   "outputs": [
    {
     "name": "stdout",
     "output_type": "stream",
     "text": [
      "[1] \"Jeremy Lin is 1.91 meter tall\"\n",
      "[1] \"Michael Jordan is 1.98 meter tall\"\n",
      "[1] \"Shaquille O'Neal is 2.16 meter tall\"\n"
     ]
    }
   ],
   "source": [
    "player_names <- c(\"Jeremy Lin\", \"Michael Jordan\", \"Shaquille O'Neal\")\n",
    "player_heights <- c(191, 198, 216)\n",
    "for (i in 1:length(player_names)) {\n",
    "  player_height_m <- player_heights[i]/100\n",
    "  print(sprintf(\"%s is %s meter tall\", player_names[i], player_height_m))\n",
    "}"
   ]
  },
  {
   "cell_type": "markdown",
   "metadata": {
    "slideshow": {
     "slide_type": "subslide"
    }
   },
   "source": [
    "## Practices: Is x a prime?"
   ]
  },
  {
   "cell_type": "code",
   "execution_count": 17,
   "metadata": {
    "slideshow": {
     "slide_type": "fragment"
    }
   },
   "outputs": [],
   "source": [
    "x <- 87\n",
    "# ...\n",
    "# FALSE\n",
    "x <- 89\n",
    "# ...\n",
    "# TRUE"
   ]
  },
  {
   "cell_type": "markdown",
   "metadata": {
    "slideshow": {
     "slide_type": "subslide"
    }
   },
   "source": [
    "## Practices: How many primes are there between x and y?"
   ]
  },
  {
   "cell_type": "code",
   "execution_count": 18,
   "metadata": {
    "slideshow": {
     "slide_type": "fragment"
    }
   },
   "outputs": [],
   "source": [
    "x <- 5\n",
    "y <- 11\n",
    "# ...\n",
    "# 3\n",
    "x <- 5\n",
    "y <- 13\n",
    "# ...\n",
    "# 4"
   ]
  },
  {
   "cell_type": "markdown",
   "metadata": {
    "slideshow": {
     "slide_type": "subslide"
    }
   },
   "source": [
    "## Iterate with another style\n",
    "\n",
    "```r\n",
    "while (EXPR) {\n",
    "  # do something iteratively when EXPR is evaluated as TRUE\n",
    "}\n",
    "```"
   ]
  },
  {
   "cell_type": "code",
   "execution_count": 19,
   "metadata": {},
   "outputs": [
    {
     "name": "stdout",
     "output_type": "stream",
     "text": [
      "[1] \"Jeremy Lin is 1.91 meter tall\"\n",
      "[1] \"Michael Jordan is 1.98 meter tall\"\n",
      "[1] \"Shaquille O'Neal is 2.16 meter tall\"\n"
     ]
    }
   ],
   "source": [
    "player_names <- c(\"Jeremy Lin\", \"Michael Jordan\", \"Shaquille O'Neal\")\n",
    "player_heights <- c(191, 198, 216)\n",
    "i <- 1\n",
    "while (i <= length(player_names)) {\n",
    "  player_height_m <- player_heights[i]/100\n",
    "  print(sprintf(\"%s is %s meter tall\", player_names[i], player_height_m))\n",
    "  i <- i + 1\n",
    "}"
   ]
  },
  {
   "cell_type": "markdown",
   "metadata": {
    "slideshow": {
     "slide_type": "subslide"
    }
   },
   "source": [
    "## Important reserved words when working with iterations\n",
    "\n",
    "- `break`\n",
    "- `next`"
   ]
  },
  {
   "cell_type": "code",
   "execution_count": 20,
   "metadata": {
    "slideshow": {
     "slide_type": "subslide"
    }
   },
   "outputs": [
    {
     "name": "stdout",
     "output_type": "stream",
     "text": [
      "[1] 1\n",
      "[1] 2\n",
      "[1] 3\n"
     ]
    }
   ],
   "source": [
    "for (i in 1:12) {\n",
    "  if (i == 4) {\n",
    "    break\n",
    "  }\n",
    "  print(i)\n",
    "}"
   ]
  },
  {
   "cell_type": "code",
   "execution_count": 21,
   "metadata": {
    "slideshow": {
     "slide_type": "fragment"
    }
   },
   "outputs": [
    {
     "name": "stdout",
     "output_type": "stream",
     "text": [
      "[1] 1\n",
      "[1] 2\n",
      "[1] 3\n",
      "[1] 5\n",
      "[1] 6\n",
      "[1] 7\n",
      "[1] 8\n",
      "[1] 9\n",
      "[1] 10\n",
      "[1] 11\n",
      "[1] 12\n"
     ]
    }
   ],
   "source": [
    "for (i in 1:12) {\n",
    "  if (i == 4) {\n",
    "    next\n",
    "  }\n",
    "  print(i)\n",
    "}"
   ]
  },
  {
   "cell_type": "markdown",
   "metadata": {
    "slideshow": {
     "slide_type": "subslide"
    }
   },
   "source": [
    "## Practices: Sampling from 1:1000 until we get a number that can be divided by 89"
   ]
  },
  {
   "cell_type": "markdown",
   "metadata": {
    "slideshow": {
     "slide_type": "subslide"
    }
   },
   "source": [
    "## Practices: How many times do I have to roll a dice to have 3 times of six?"
   ]
  },
  {
   "cell_type": "markdown",
   "metadata": {
    "slideshow": {
     "slide_type": "subslide"
    }
   },
   "source": [
    "## `for` is necessary condition for `while`"
   ]
  },
  {
   "cell_type": "markdown",
   "metadata": {
    "slideshow": {
     "slide_type": "subslide"
    }
   },
   "source": [
    "## Practices: Fibonacci\n",
    "\n",
    "Try using 2 types of loop to generate a certain fibonacci sequence\n",
    "\n",
    "<https://en.wikipedia.org/wiki/Fibonacci_number>"
   ]
  },
  {
   "cell_type": "code",
   "execution_count": 22,
   "metadata": {
    "slideshow": {
     "slide_type": "fragment"
    }
   },
   "outputs": [],
   "source": [
    "fib_1 <- 0\n",
    "fib_2 <- 1\n",
    "fib_len <- 5\n",
    "# ...\n",
    "# 0, 1, 1, 2, 3"
   ]
  },
  {
   "cell_type": "markdown",
   "metadata": {
    "slideshow": {
     "slide_type": "subslide"
    }
   },
   "source": [
    "## Practices: Poker card deck"
   ]
  },
  {
   "cell_type": "code",
   "execution_count": 23,
   "metadata": {
    "slideshow": {
     "slide_type": "fragment"
    }
   },
   "outputs": [],
   "source": [
    "suits <- c(\"Spade\", \"Heart\", \"Diamond\", \"Clover\")\n",
    "ranks <- c(\"Ace\", 2:10, \"Jack\", \"Queen\", \"King\")"
   ]
  },
  {
   "cell_type": "markdown",
   "metadata": {
    "slideshow": {
     "slide_type": "slide"
    }
   },
   "source": [
    "# `list`"
   ]
  },
  {
   "cell_type": "markdown",
   "metadata": {
    "slideshow": {
     "slide_type": "subslide"
    }
   },
   "source": [
    "## Characteristics of lists\n",
    "\n",
    "- Different classes\n",
    "- Supports `$` selection like attributes"
   ]
  },
  {
   "cell_type": "markdown",
   "metadata": {
    "slideshow": {
     "slide_type": "subslide"
    }
   },
   "source": [
    "## Using `list()` to create a list"
   ]
  },
  {
   "cell_type": "code",
   "execution_count": 24,
   "metadata": {
    "slideshow": {
     "slide_type": "-"
    }
   },
   "outputs": [
    {
     "data": {
      "text/html": [
       "'list'"
      ],
      "text/latex": [
       "'list'"
      ],
      "text/markdown": [
       "'list'"
      ],
      "text/plain": [
       "[1] \"list\""
      ]
     },
     "metadata": {},
     "output_type": "display_data"
    }
   ],
   "source": [
    "infinity_war <- list(\n",
    "  \"Avengers: Infinity War\",\n",
    "  2018,\n",
    "  8.6,\n",
    "  c(\"Action\", \"Adventure\", \"Fantasy\")\n",
    ")\n",
    "class(infinity_war)"
   ]
  },
  {
   "cell_type": "markdown",
   "metadata": {
    "slideshow": {
     "slide_type": "subslide"
    }
   },
   "source": [
    "## Check the apperance of a list"
   ]
  },
  {
   "cell_type": "code",
   "execution_count": 25,
   "metadata": {},
   "outputs": [
    {
     "data": {
      "text/html": [
       "<ol>\n",
       "\t<li>'Avengers: Infinity War'</li>\n",
       "\t<li>2018</li>\n",
       "\t<li>8.6</li>\n",
       "\t<li><ol class=list-inline>\n",
       "\t<li>'Action'</li>\n",
       "\t<li>'Adventure'</li>\n",
       "\t<li>'Fantasy'</li>\n",
       "</ol>\n",
       "</li>\n",
       "</ol>\n"
      ],
      "text/latex": [
       "\\begin{enumerate}\n",
       "\\item 'Avengers: Infinity War'\n",
       "\\item 2018\n",
       "\\item 8.6\n",
       "\\item \\begin{enumerate*}\n",
       "\\item 'Action'\n",
       "\\item 'Adventure'\n",
       "\\item 'Fantasy'\n",
       "\\end{enumerate*}\n",
       "\n",
       "\\end{enumerate}\n"
      ],
      "text/markdown": [
       "1. 'Avengers: Infinity War'\n",
       "2. 2018\n",
       "3. 8.6\n",
       "4. 1. 'Action'\n",
       "2. 'Adventure'\n",
       "3. 'Fantasy'\n",
       "\n",
       "\n",
       "\n",
       "\n",
       "\n"
      ],
      "text/plain": [
       "[[1]]\n",
       "[1] \"Avengers: Infinity War\"\n",
       "\n",
       "[[2]]\n",
       "[1] 2018\n",
       "\n",
       "[[3]]\n",
       "[1] 8.6\n",
       "\n",
       "[[4]]\n",
       "[1] \"Action\"    \"Adventure\" \"Fantasy\"  \n"
      ]
     },
     "metadata": {},
     "output_type": "display_data"
    }
   ],
   "source": [
    "infinity_war"
   ]
  },
  {
   "cell_type": "markdown",
   "metadata": {
    "slideshow": {
     "slide_type": "subslide"
    }
   },
   "source": [
    "## Using `[[INDEX]]` indexing list"
   ]
  },
  {
   "cell_type": "code",
   "execution_count": 26,
   "metadata": {},
   "outputs": [
    {
     "name": "stdout",
     "output_type": "stream",
     "text": [
      "[1] \"Avengers: Infinity War\"\n",
      "[1] 2018\n",
      "[1] 8.6\n",
      "[1] \"Action\"    \"Adventure\" \"Fantasy\"  \n"
     ]
    }
   ],
   "source": [
    "for (i in 1:length(infinity_war)) {\n",
    "  print(infinity_war[[i]])\n",
    "}"
   ]
  },
  {
   "cell_type": "markdown",
   "metadata": {
    "slideshow": {
     "slide_type": "subslide"
    }
   },
   "source": [
    "## Giving names to elements in list"
   ]
  },
  {
   "cell_type": "code",
   "execution_count": 27,
   "metadata": {},
   "outputs": [
    {
     "data": {
      "text/html": [
       "<dl>\n",
       "\t<dt>$movieTitle</dt>\n",
       "\t\t<dd>'Avengers: Infinity War'</dd>\n",
       "\t<dt>$releaseYear</dt>\n",
       "\t\t<dd>2018</dd>\n",
       "\t<dt>$rating</dt>\n",
       "\t\t<dd>8.6</dd>\n",
       "\t<dt>$genre</dt>\n",
       "\t\t<dd><ol class=list-inline>\n",
       "\t<li>'Action'</li>\n",
       "\t<li>'Adventure'</li>\n",
       "\t<li>'Fantasy'</li>\n",
       "</ol>\n",
       "</dd>\n",
       "</dl>\n"
      ],
      "text/latex": [
       "\\begin{description}\n",
       "\\item[\\$movieTitle] 'Avengers: Infinity War'\n",
       "\\item[\\$releaseYear] 2018\n",
       "\\item[\\$rating] 8.6\n",
       "\\item[\\$genre] \\begin{enumerate*}\n",
       "\\item 'Action'\n",
       "\\item 'Adventure'\n",
       "\\item 'Fantasy'\n",
       "\\end{enumerate*}\n",
       "\n",
       "\\end{description}\n"
      ],
      "text/markdown": [
       "$movieTitle\n",
       ":   'Avengers: Infinity War'\n",
       "$releaseYear\n",
       ":   2018\n",
       "$rating\n",
       ":   8.6\n",
       "$genre\n",
       ":   1. 'Action'\n",
       "2. 'Adventure'\n",
       "3. 'Fantasy'\n",
       "\n",
       "\n",
       "\n",
       "\n",
       "\n"
      ],
      "text/plain": [
       "$movieTitle\n",
       "[1] \"Avengers: Infinity War\"\n",
       "\n",
       "$releaseYear\n",
       "[1] 2018\n",
       "\n",
       "$rating\n",
       "[1] 8.6\n",
       "\n",
       "$genre\n",
       "[1] \"Action\"    \"Adventure\" \"Fantasy\"  \n"
      ]
     },
     "metadata": {},
     "output_type": "display_data"
    }
   ],
   "source": [
    "infinity_war <- list(\n",
    "  movieTitle = \"Avengers: Infinity War\",\n",
    "  releaseYear = 2018,\n",
    "  rating = 8.6,\n",
    "  genre = c(\"Action\", \"Adventure\", \"Fantasy\")\n",
    ")\n",
    "infinity_war"
   ]
  },
  {
   "cell_type": "markdown",
   "metadata": {
    "slideshow": {
     "slide_type": "subslide"
    }
   },
   "source": [
    "## Using [[\"ELEMENT\"]] indexing list"
   ]
  },
  {
   "cell_type": "code",
   "execution_count": 28,
   "metadata": {},
   "outputs": [
    {
     "name": "stdout",
     "output_type": "stream",
     "text": [
      "[1] \"Avengers: Infinity War\"\n",
      "[1] 2018\n",
      "[1] 8.6\n",
      "[1] \"Action\"    \"Adventure\" \"Fantasy\"  \n"
     ]
    }
   ],
   "source": [
    "for (e in names(infinity_war)) {\n",
    "  print(infinity_war[[e]])\n",
    "}"
   ]
  },
  {
   "cell_type": "markdown",
   "metadata": {
    "slideshow": {
     "slide_type": "subslide"
    }
   },
   "source": [
    "## Using `$ELEMENT` indexing list"
   ]
  },
  {
   "cell_type": "code",
   "execution_count": 29,
   "metadata": {},
   "outputs": [
    {
     "data": {
      "text/html": [
       "'Avengers: Infinity War'"
      ],
      "text/latex": [
       "'Avengers: Infinity War'"
      ],
      "text/markdown": [
       "'Avengers: Infinity War'"
      ],
      "text/plain": [
       "[1] \"Avengers: Infinity War\""
      ]
     },
     "metadata": {},
     "output_type": "display_data"
    },
    {
     "data": {
      "text/html": [
       "2018"
      ],
      "text/latex": [
       "2018"
      ],
      "text/markdown": [
       "2018"
      ],
      "text/plain": [
       "[1] 2018"
      ]
     },
     "metadata": {},
     "output_type": "display_data"
    },
    {
     "data": {
      "text/html": [
       "8.6"
      ],
      "text/latex": [
       "8.6"
      ],
      "text/markdown": [
       "8.6"
      ],
      "text/plain": [
       "[1] 8.6"
      ]
     },
     "metadata": {},
     "output_type": "display_data"
    },
    {
     "data": {
      "text/html": [
       "<ol class=list-inline>\n",
       "\t<li>'Action'</li>\n",
       "\t<li>'Adventure'</li>\n",
       "\t<li>'Fantasy'</li>\n",
       "</ol>\n"
      ],
      "text/latex": [
       "\\begin{enumerate*}\n",
       "\\item 'Action'\n",
       "\\item 'Adventure'\n",
       "\\item 'Fantasy'\n",
       "\\end{enumerate*}\n"
      ],
      "text/markdown": [
       "1. 'Action'\n",
       "2. 'Adventure'\n",
       "3. 'Fantasy'\n",
       "\n",
       "\n"
      ],
      "text/plain": [
       "[1] \"Action\"    \"Adventure\" \"Fantasy\"  "
      ]
     },
     "metadata": {},
     "output_type": "display_data"
    }
   ],
   "source": [
    "infinity_war$movieTitle\n",
    "infinity_war$releaseYear\n",
    "infinity_war$rating\n",
    "infinity_war$genre"
   ]
  },
  {
   "cell_type": "markdown",
   "metadata": {
    "slideshow": {
     "slide_type": "subslide"
    }
   },
   "source": [
    "## Every element keeps its original class"
   ]
  },
  {
   "cell_type": "code",
   "execution_count": 30,
   "metadata": {},
   "outputs": [
    {
     "name": "stdout",
     "output_type": "stream",
     "text": [
      "[1] \"character\"\n",
      "[1] \"numeric\"\n",
      "[1] \"numeric\"\n",
      "[1] \"character\"\n"
     ]
    }
   ],
   "source": [
    "for (e in names(infinity_war)) {\n",
    "  print(class(infinity_war[[e]]))\n",
    "}"
   ]
  },
  {
   "cell_type": "markdown",
   "metadata": {
    "slideshow": {
     "slide_type": "subslide"
    }
   },
   "source": [
    "## Practices: Getting favorite players' last names in upper cases\n",
    "\n",
    "Hint: using `strsplit()` to split players' name and using `toupper()` for upper cases."
   ]
  },
  {
   "cell_type": "code",
   "execution_count": 31,
   "metadata": {
    "slideshow": {
     "slide_type": "fragment"
    }
   },
   "outputs": [],
   "source": [
    "fav_players <- c(\"Steve Nash\", \"Paul Pierce\", \"Dirk Nowitzki\", \"Kevin Garnett\", \"Hakeem Olajuwon\")\n",
    "# ...\n",
    "# [1] \"NASH\" \"PIERCE\" \"NOWITZKI\" \"GARNETT\" \"OLAJUWON\""
   ]
  },
  {
   "cell_type": "markdown",
   "metadata": {
    "slideshow": {
     "slide_type": "slide"
    }
   },
   "source": [
    "# `factor`"
   ]
  },
  {
   "cell_type": "markdown",
   "metadata": {
    "slideshow": {
     "slide_type": "subslide"
    }
   },
   "source": [
    "## Characteristics of `factor`\n",
    "\n",
    "- Acts like a character vector\n",
    "- Unique character is recorded as **Levels**\n",
    "- Supports ordinal values and each character is encoded as **integers**\n",
    "- Default class of a character column"
   ]
  },
  {
   "cell_type": "markdown",
   "metadata": {
    "slideshow": {
     "slide_type": "subslide"
    }
   },
   "source": [
    "## Using `factor()` to create a factor"
   ]
  },
  {
   "cell_type": "code",
   "execution_count": 32,
   "metadata": {},
   "outputs": [
    {
     "data": {
      "text/html": [
       "'character'"
      ],
      "text/latex": [
       "'character'"
      ],
      "text/markdown": [
       "'character'"
      ],
      "text/plain": [
       "[1] \"character\""
      ]
     },
     "metadata": {},
     "output_type": "display_data"
    },
    {
     "data": {
      "text/html": [
       "'factor'"
      ],
      "text/latex": [
       "'factor'"
      ],
      "text/markdown": [
       "'factor'"
      ],
      "text/plain": [
       "[1] \"factor\""
      ]
     },
     "metadata": {},
     "output_type": "display_data"
    }
   ],
   "source": [
    "all_time_fantasy <- c(\"Steve Nash\", \"Paul Pierce\", \"Dirk Nowitzki\", \"Kevin Garnett\", \"Hakeem Olajuwon\")\n",
    "class(all_time_fantasy)\n",
    "all_time_fantasy <- factor(all_time_fantasy)\n",
    "class(all_time_fantasy)"
   ]
  },
  {
   "cell_type": "markdown",
   "metadata": {
    "slideshow": {
     "slide_type": "subslide"
    }
   },
   "source": [
    "## Unique character in factor is recorded with levels"
   ]
  },
  {
   "cell_type": "code",
   "execution_count": 33,
   "metadata": {},
   "outputs": [
    {
     "data": {
      "text/html": [
       "<ol class=list-inline>\n",
       "\t<li>red</li>\n",
       "\t<li>green</li>\n",
       "\t<li>blue</li>\n",
       "\t<li>blue</li>\n",
       "\t<li>green</li>\n",
       "\t<li>green</li>\n",
       "</ol>\n",
       "\n",
       "<details>\n",
       "\t<summary style=display:list-item;cursor:pointer>\n",
       "\t\t<strong>Levels</strong>:\n",
       "\t</summary>\n",
       "\t<ol class=list-inline>\n",
       "\t\t<li>'blue'</li>\n",
       "\t\t<li>'green'</li>\n",
       "\t\t<li>'red'</li>\n",
       "\t</ol>\n",
       "</details>"
      ],
      "text/latex": [
       "\\begin{enumerate*}\n",
       "\\item red\n",
       "\\item green\n",
       "\\item blue\n",
       "\\item blue\n",
       "\\item green\n",
       "\\item green\n",
       "\\end{enumerate*}\n",
       "\n",
       "\\emph{Levels}: \\begin{enumerate*}\n",
       "\\item 'blue'\n",
       "\\item 'green'\n",
       "\\item 'red'\n",
       "\\end{enumerate*}\n"
      ],
      "text/markdown": [
       "1. red\n",
       "2. green\n",
       "3. blue\n",
       "4. blue\n",
       "5. green\n",
       "6. green\n",
       "\n",
       "\n",
       "\n",
       "**Levels**: 1. 'blue'\n",
       "2. 'green'\n",
       "3. 'red'\n",
       "\n",
       "\n"
      ],
      "text/plain": [
       "[1] red   green blue  blue  green green\n",
       "Levels: blue green red"
      ]
     },
     "metadata": {},
     "output_type": "display_data"
    }
   ],
   "source": [
    "rgbs <- factor(c(\"red\", \"green\", \"blue\", \"blue\", \"green\", \"green\"))\n",
    "rgbs"
   ]
  },
  {
   "cell_type": "markdown",
   "metadata": {
    "slideshow": {
     "slide_type": "subslide"
    }
   },
   "source": [
    "## Factor supports ordinal values"
   ]
  },
  {
   "cell_type": "code",
   "execution_count": 34,
   "metadata": {},
   "outputs": [
    {
     "data": {
      "text/html": [
       "<ol class=list-inline>\n",
       "\t<li>freezing</li>\n",
       "\t<li>cold</li>\n",
       "\t<li>cool</li>\n",
       "\t<li>warm</li>\n",
       "\t<li>hot</li>\n",
       "</ol>\n",
       "\n",
       "<details>\n",
       "\t<summary style=display:list-item;cursor:pointer>\n",
       "\t\t<strong>Levels</strong>:\n",
       "\t</summary>\n",
       "\t<ol class=list-inline>\n",
       "\t\t<li>'cold'</li>\n",
       "\t\t<li>'cool'</li>\n",
       "\t\t<li>'freezing'</li>\n",
       "\t\t<li>'hot'</li>\n",
       "\t\t<li>'warm'</li>\n",
       "\t</ol>\n",
       "</details>"
      ],
      "text/latex": [
       "\\begin{enumerate*}\n",
       "\\item freezing\n",
       "\\item cold\n",
       "\\item cool\n",
       "\\item warm\n",
       "\\item hot\n",
       "\\end{enumerate*}\n",
       "\n",
       "\\emph{Levels}: \\begin{enumerate*}\n",
       "\\item 'cold'\n",
       "\\item 'cool'\n",
       "\\item 'freezing'\n",
       "\\item 'hot'\n",
       "\\item 'warm'\n",
       "\\end{enumerate*}\n"
      ],
      "text/markdown": [
       "1. freezing\n",
       "2. cold\n",
       "3. cool\n",
       "4. warm\n",
       "5. hot\n",
       "\n",
       "\n",
       "\n",
       "**Levels**: 1. 'cold'\n",
       "2. 'cool'\n",
       "3. 'freezing'\n",
       "4. 'hot'\n",
       "5. 'warm'\n",
       "\n",
       "\n"
      ],
      "text/plain": [
       "[1] freezing cold     cool     warm     hot     \n",
       "Levels: cold < cool < freezing < hot < warm"
      ]
     },
     "metadata": {},
     "output_type": "display_data"
    },
    {
     "data": {
      "text/html": [
       "TRUE"
      ],
      "text/latex": [
       "TRUE"
      ],
      "text/markdown": [
       "TRUE"
      ],
      "text/plain": [
       "[1] TRUE"
      ]
     },
     "metadata": {},
     "output_type": "display_data"
    }
   ],
   "source": [
    "temperatures <- factor(c(\"freezing\", \"cold\", \"cool\", \"warm\", \"hot\"),\n",
    "                       ordered = TRUE)\n",
    "temperatures\n",
    "temperatures[1] > temperatures[3]"
   ]
  },
  {
   "cell_type": "markdown",
   "metadata": {
    "slideshow": {
     "slide_type": "subslide"
    }
   },
   "source": [
    "## Adjusting the order of a factor"
   ]
  },
  {
   "cell_type": "code",
   "execution_count": 35,
   "metadata": {},
   "outputs": [
    {
     "data": {
      "text/html": [
       "<ol class=list-inline>\n",
       "\t<li>freezing</li>\n",
       "\t<li>cold</li>\n",
       "\t<li>cool</li>\n",
       "\t<li>warm</li>\n",
       "\t<li>hot</li>\n",
       "</ol>\n",
       "\n",
       "<details>\n",
       "\t<summary style=display:list-item;cursor:pointer>\n",
       "\t\t<strong>Levels</strong>:\n",
       "\t</summary>\n",
       "\t<ol class=list-inline>\n",
       "\t\t<li>'freezing'</li>\n",
       "\t\t<li>'cold'</li>\n",
       "\t\t<li>'cool'</li>\n",
       "\t\t<li>'warm'</li>\n",
       "\t\t<li>'hot'</li>\n",
       "\t</ol>\n",
       "</details>"
      ],
      "text/latex": [
       "\\begin{enumerate*}\n",
       "\\item freezing\n",
       "\\item cold\n",
       "\\item cool\n",
       "\\item warm\n",
       "\\item hot\n",
       "\\end{enumerate*}\n",
       "\n",
       "\\emph{Levels}: \\begin{enumerate*}\n",
       "\\item 'freezing'\n",
       "\\item 'cold'\n",
       "\\item 'cool'\n",
       "\\item 'warm'\n",
       "\\item 'hot'\n",
       "\\end{enumerate*}\n"
      ],
      "text/markdown": [
       "1. freezing\n",
       "2. cold\n",
       "3. cool\n",
       "4. warm\n",
       "5. hot\n",
       "\n",
       "\n",
       "\n",
       "**Levels**: 1. 'freezing'\n",
       "2. 'cold'\n",
       "3. 'cool'\n",
       "4. 'warm'\n",
       "5. 'hot'\n",
       "\n",
       "\n"
      ],
      "text/plain": [
       "[1] freezing cold     cool     warm     hot     \n",
       "Levels: freezing < cold < cool < warm < hot"
      ]
     },
     "metadata": {},
     "output_type": "display_data"
    }
   ],
   "source": [
    "temperatures <- factor(c(\"freezing\", \"cold\", \"cool\", \"warm\", \"hot\"),\n",
    "                       ordered = TRUE,\n",
    "                       levels = c(\"freezing\", \"cold\", \"cool\", \"warm\", \"hot\"))\n",
    "temperatures"
   ]
  },
  {
   "cell_type": "markdown",
   "metadata": {
    "slideshow": {
     "slide_type": "subslide"
    }
   },
   "source": [
    "## Elements in factor are encoded as integers"
   ]
  },
  {
   "cell_type": "code",
   "execution_count": 36,
   "metadata": {},
   "outputs": [
    {
     "name": "stderr",
     "output_type": "stream",
     "text": [
      "Warning message in eval(expr, envir, enclos):\n",
      "“NAs introduced by coercion”"
     ]
    },
    {
     "data": {
      "text/html": [
       "<ol class=list-inline>\n",
       "\t<li>&lt;NA&gt;</li>\n",
       "\t<li>&lt;NA&gt;</li>\n",
       "\t<li>&lt;NA&gt;</li>\n",
       "\t<li>&lt;NA&gt;</li>\n",
       "\t<li>&lt;NA&gt;</li>\n",
       "</ol>\n"
      ],
      "text/latex": [
       "\\begin{enumerate*}\n",
       "\\item <NA>\n",
       "\\item <NA>\n",
       "\\item <NA>\n",
       "\\item <NA>\n",
       "\\item <NA>\n",
       "\\end{enumerate*}\n"
      ],
      "text/markdown": [
       "1. &lt;NA&gt;\n",
       "2. &lt;NA&gt;\n",
       "3. &lt;NA&gt;\n",
       "4. &lt;NA&gt;\n",
       "5. &lt;NA&gt;\n",
       "\n",
       "\n"
      ],
      "text/plain": [
       "[1] NA NA NA NA NA"
      ]
     },
     "metadata": {},
     "output_type": "display_data"
    },
    {
     "data": {
      "text/html": [
       "<ol class=list-inline>\n",
       "\t<li>3</li>\n",
       "\t<li>1</li>\n",
       "\t<li>2</li>\n",
       "\t<li>5</li>\n",
       "\t<li>4</li>\n",
       "</ol>\n"
      ],
      "text/latex": [
       "\\begin{enumerate*}\n",
       "\\item 3\n",
       "\\item 1\n",
       "\\item 2\n",
       "\\item 5\n",
       "\\item 4\n",
       "\\end{enumerate*}\n"
      ],
      "text/markdown": [
       "1. 3\n",
       "2. 1\n",
       "3. 2\n",
       "4. 5\n",
       "5. 4\n",
       "\n",
       "\n"
      ],
      "text/plain": [
       "[1] 3 1 2 5 4"
      ]
     },
     "metadata": {},
     "output_type": "display_data"
    }
   ],
   "source": [
    "temperatures <- c(\"freezing\", \"cold\", \"cool\", \"warm\", \"hot\")\n",
    "as.numeric(temperatures) # Error\n",
    "temperatures <- factor(c(\"freezing\", \"cold\", \"cool\", \"warm\", \"hot\"))\n",
    "as.numeric(temperatures)"
   ]
  },
  {
   "cell_type": "markdown",
   "metadata": {
    "slideshow": {
     "slide_type": "subslide"
    }
   },
   "source": [
    "## Factors sometimes are hard to handle..."
   ]
  },
  {
   "cell_type": "code",
   "execution_count": 37,
   "metadata": {},
   "outputs": [
    {
     "data": {
      "text/html": [
       "<ol class=list-inline>\n",
       "\t<li>'5'</li>\n",
       "\t<li>'4'</li>\n",
       "\t<li>'1'</li>\n",
       "\t<li>'3'</li>\n",
       "\t<li>'2'</li>\n",
       "\t<li>'Ray Allen'</li>\n",
       "</ol>\n"
      ],
      "text/latex": [
       "\\begin{enumerate*}\n",
       "\\item '5'\n",
       "\\item '4'\n",
       "\\item '1'\n",
       "\\item '3'\n",
       "\\item '2'\n",
       "\\item 'Ray Allen'\n",
       "\\end{enumerate*}\n"
      ],
      "text/markdown": [
       "1. '5'\n",
       "2. '4'\n",
       "3. '1'\n",
       "4. '3'\n",
       "5. '2'\n",
       "6. 'Ray Allen'\n",
       "\n",
       "\n"
      ],
      "text/plain": [
       "[1] \"5\"         \"4\"         \"1\"         \"3\"         \"2\"         \"Ray Allen\""
      ]
     },
     "metadata": {},
     "output_type": "display_data"
    }
   ],
   "source": [
    "all_time_fantasy <- factor(c(\"Steve Nash\", \"Paul Pierce\", \"Dirk Nowitzki\", \"Kevin Garnett\", \"Hakeem Olajuwon\"))\n",
    "all_time_fantasy <- c(all_time_fantasy, \"Ray Allen\")\n",
    "all_time_fantasy"
   ]
  },
  {
   "cell_type": "markdown",
   "metadata": {
    "slideshow": {
     "slide_type": "slide"
    }
   },
   "source": [
    "# `data.frame`"
   ]
  },
  {
   "cell_type": "markdown",
   "metadata": {
    "slideshow": {
     "slide_type": "subslide"
    }
   },
   "source": [
    "## Characteristics of data frames\n",
    "\n",
    "- Has 2 dimensions `m x n` as in `rows x columns`\n",
    "- Rows are denoted as observations, while columns are denoted as variables\n",
    "- Each column has its own class\n",
    "- Supports `$` selection like attributes"
   ]
  },
  {
   "cell_type": "markdown",
   "metadata": {
    "slideshow": {
     "slide_type": "subslide"
    }
   },
   "source": [
    "## Using `data.frame()` to create a data frame"
   ]
  },
  {
   "cell_type": "code",
   "execution_count": 38,
   "metadata": {},
   "outputs": [],
   "source": [
    "player_names <- c(\"Jeremy Lin\", \"Michael Jordan\", \"Shaquille O'Neal\")\n",
    "player_heights <- c(191, 198, 216)\n",
    "player_weights <- c(91, 98, 148)\n",
    "has_rings <- c(FALSE, TRUE, TRUE)\n",
    "player_df <- data.frame(player_names, player_heights, player_weights, has_rings)"
   ]
  },
  {
   "cell_type": "code",
   "execution_count": 39,
   "metadata": {
    "slideshow": {
     "slide_type": "subslide"
    }
   },
   "outputs": [
    {
     "data": {
      "text/html": [
       "<table>\n",
       "<thead><tr><th scope=col>player_names</th><th scope=col>player_heights</th><th scope=col>player_weights</th><th scope=col>has_rings</th></tr></thead>\n",
       "<tbody>\n",
       "\t<tr><td>Jeremy Lin      </td><td>191             </td><td> 91             </td><td>FALSE           </td></tr>\n",
       "\t<tr><td>Michael Jordan  </td><td>198             </td><td> 98             </td><td> TRUE           </td></tr>\n",
       "\t<tr><td>Shaquille O'Neal</td><td>216             </td><td>148             </td><td> TRUE           </td></tr>\n",
       "</tbody>\n",
       "</table>\n"
      ],
      "text/latex": [
       "\\begin{tabular}{r|llll}\n",
       " player\\_names & player\\_heights & player\\_weights & has\\_rings\\\\\n",
       "\\hline\n",
       "\t Jeremy Lin       & 191              &  91              & FALSE           \\\\\n",
       "\t Michael Jordan   & 198              &  98              &  TRUE           \\\\\n",
       "\t Shaquille O'Neal & 216              & 148              &  TRUE           \\\\\n",
       "\\end{tabular}\n"
      ],
      "text/markdown": [
       "\n",
       "| player_names | player_heights | player_weights | has_rings |\n",
       "|---|---|---|---|\n",
       "| Jeremy Lin       | 191              |  91              | FALSE            |\n",
       "| Michael Jordan   | 198              |  98              |  TRUE            |\n",
       "| Shaquille O'Neal | 216              | 148              |  TRUE            |\n",
       "\n"
      ],
      "text/plain": [
       "  player_names     player_heights player_weights has_rings\n",
       "1 Jeremy Lin       191             91            FALSE    \n",
       "2 Michael Jordan   198             98             TRUE    \n",
       "3 Shaquille O'Neal 216            148             TRUE    "
      ]
     },
     "metadata": {},
     "output_type": "display_data"
    }
   ],
   "source": [
    "player_df"
   ]
  },
  {
   "cell_type": "markdown",
   "metadata": {
    "slideshow": {
     "slide_type": "subslide"
    }
   },
   "source": [
    "## Character vectors are encoded as factors by default"
   ]
  },
  {
   "cell_type": "code",
   "execution_count": 40,
   "metadata": {},
   "outputs": [
    {
     "name": "stdout",
     "output_type": "stream",
     "text": [
      "'data.frame':\t3 obs. of  4 variables:\n",
      " $ player_names  : Factor w/ 3 levels \"Jeremy Lin\",\"Michael Jordan\",..: 1 2 3\n",
      " $ player_heights: num  191 198 216\n",
      " $ player_weights: num  91 98 148\n",
      " $ has_rings     : logi  FALSE TRUE TRUE\n"
     ]
    }
   ],
   "source": [
    "str(player_df)"
   ]
  },
  {
   "cell_type": "markdown",
   "metadata": {
    "slideshow": {
     "slide_type": "subslide"
    }
   },
   "source": [
    "## Using `stringsAsFactors = FALSE` for character class"
   ]
  },
  {
   "cell_type": "code",
   "execution_count": 41,
   "metadata": {},
   "outputs": [
    {
     "name": "stdout",
     "output_type": "stream",
     "text": [
      "'data.frame':\t3 obs. of  4 variables:\n",
      " $ player_names  : chr  \"Jeremy Lin\" \"Michael Jordan\" \"Shaquille O'Neal\"\n",
      " $ player_heights: num  191 198 216\n",
      " $ player_weights: num  91 98 148\n",
      " $ has_rings     : logi  FALSE TRUE TRUE\n"
     ]
    }
   ],
   "source": [
    "player_df <- data.frame(player_names, player_heights, player_weights, has_rings, stringsAsFactors = FALSE)\n",
    "str(player_df)"
   ]
  },
  {
   "cell_type": "markdown",
   "metadata": {
    "slideshow": {
     "slide_type": "subslide"
    }
   },
   "source": [
    "## Selecting column from data frames as a vector\n",
    "\n",
    "- Using column names in double quotes\n",
    "- or column indice"
   ]
  },
  {
   "cell_type": "code",
   "execution_count": 42,
   "metadata": {},
   "outputs": [
    {
     "data": {
      "text/html": [
       "<ol class=list-inline>\n",
       "\t<li>'Jeremy Lin'</li>\n",
       "\t<li>'Michael Jordan'</li>\n",
       "\t<li>'Shaquille O\\'Neal'</li>\n",
       "</ol>\n"
      ],
      "text/latex": [
       "\\begin{enumerate*}\n",
       "\\item 'Jeremy Lin'\n",
       "\\item 'Michael Jordan'\n",
       "\\item 'Shaquille O\\textbackslash{}'Neal'\n",
       "\\end{enumerate*}\n"
      ],
      "text/markdown": [
       "1. 'Jeremy Lin'\n",
       "2. 'Michael Jordan'\n",
       "3. 'Shaquille O\\'Neal'\n",
       "\n",
       "\n"
      ],
      "text/plain": [
       "[1] \"Jeremy Lin\"       \"Michael Jordan\"   \"Shaquille O'Neal\""
      ]
     },
     "metadata": {},
     "output_type": "display_data"
    },
    {
     "data": {
      "text/html": [
       "<ol class=list-inline>\n",
       "\t<li>'Jeremy Lin'</li>\n",
       "\t<li>'Michael Jordan'</li>\n",
       "\t<li>'Shaquille O\\'Neal'</li>\n",
       "</ol>\n"
      ],
      "text/latex": [
       "\\begin{enumerate*}\n",
       "\\item 'Jeremy Lin'\n",
       "\\item 'Michael Jordan'\n",
       "\\item 'Shaquille O\\textbackslash{}'Neal'\n",
       "\\end{enumerate*}\n"
      ],
      "text/markdown": [
       "1. 'Jeremy Lin'\n",
       "2. 'Michael Jordan'\n",
       "3. 'Shaquille O\\'Neal'\n",
       "\n",
       "\n"
      ],
      "text/plain": [
       "[1] \"Jeremy Lin\"       \"Michael Jordan\"   \"Shaquille O'Neal\""
      ]
     },
     "metadata": {},
     "output_type": "display_data"
    },
    {
     "data": {
      "text/html": [
       "<ol class=list-inline>\n",
       "\t<li>'Jeremy Lin'</li>\n",
       "\t<li>'Michael Jordan'</li>\n",
       "\t<li>'Shaquille O\\'Neal'</li>\n",
       "</ol>\n"
      ],
      "text/latex": [
       "\\begin{enumerate*}\n",
       "\\item 'Jeremy Lin'\n",
       "\\item 'Michael Jordan'\n",
       "\\item 'Shaquille O\\textbackslash{}'Neal'\n",
       "\\end{enumerate*}\n"
      ],
      "text/markdown": [
       "1. 'Jeremy Lin'\n",
       "2. 'Michael Jordan'\n",
       "3. 'Shaquille O\\'Neal'\n",
       "\n",
       "\n"
      ],
      "text/plain": [
       "[1] \"Jeremy Lin\"       \"Michael Jordan\"   \"Shaquille O'Neal\""
      ]
     },
     "metadata": {},
     "output_type": "display_data"
    }
   ],
   "source": [
    "player_df[[\"player_names\"]]\n",
    "player_df[, \"player_names\"]\n",
    "player_df[, 1]"
   ]
  },
  {
   "cell_type": "markdown",
   "metadata": {
    "slideshow": {
     "slide_type": "subslide"
    }
   },
   "source": [
    "## Or using `$` like attributes"
   ]
  },
  {
   "cell_type": "code",
   "execution_count": 43,
   "metadata": {},
   "outputs": [
    {
     "data": {
      "text/html": [
       "<ol class=list-inline>\n",
       "\t<li>'Jeremy Lin'</li>\n",
       "\t<li>'Michael Jordan'</li>\n",
       "\t<li>'Shaquille O\\'Neal'</li>\n",
       "</ol>\n"
      ],
      "text/latex": [
       "\\begin{enumerate*}\n",
       "\\item 'Jeremy Lin'\n",
       "\\item 'Michael Jordan'\n",
       "\\item 'Shaquille O\\textbackslash{}'Neal'\n",
       "\\end{enumerate*}\n"
      ],
      "text/markdown": [
       "1. 'Jeremy Lin'\n",
       "2. 'Michael Jordan'\n",
       "3. 'Shaquille O\\'Neal'\n",
       "\n",
       "\n"
      ],
      "text/plain": [
       "[1] \"Jeremy Lin\"       \"Michael Jordan\"   \"Shaquille O'Neal\""
      ]
     },
     "metadata": {},
     "output_type": "display_data"
    }
   ],
   "source": [
    "player_df$player_names"
   ]
  },
  {
   "cell_type": "markdown",
   "metadata": {
    "slideshow": {
     "slide_type": "subslide"
    }
   },
   "source": [
    "## Subsetting observations from data frames\n",
    "\n",
    "Using row indice."
   ]
  },
  {
   "cell_type": "code",
   "execution_count": 44,
   "metadata": {},
   "outputs": [
    {
     "data": {
      "text/html": [
       "<table>\n",
       "<thead><tr><th></th><th scope=col>player_names</th><th scope=col>player_heights</th><th scope=col>player_weights</th><th scope=col>has_rings</th></tr></thead>\n",
       "<tbody>\n",
       "\t<tr><th scope=row>2</th><td>Michael Jordan  </td><td>198             </td><td> 98             </td><td>TRUE            </td></tr>\n",
       "\t<tr><th scope=row>3</th><td>Shaquille O'Neal</td><td>216             </td><td>148             </td><td>TRUE            </td></tr>\n",
       "</tbody>\n",
       "</table>\n"
      ],
      "text/latex": [
       "\\begin{tabular}{r|llll}\n",
       "  & player\\_names & player\\_heights & player\\_weights & has\\_rings\\\\\n",
       "\\hline\n",
       "\t2 & Michael Jordan   & 198              &  98              & TRUE            \\\\\n",
       "\t3 & Shaquille O'Neal & 216              & 148              & TRUE            \\\\\n",
       "\\end{tabular}\n"
      ],
      "text/markdown": [
       "\n",
       "| <!--/--> | player_names | player_heights | player_weights | has_rings |\n",
       "|---|---|---|---|---|\n",
       "| 2 | Michael Jordan   | 198              |  98              | TRUE             |\n",
       "| 3 | Shaquille O'Neal | 216              | 148              | TRUE             |\n",
       "\n"
      ],
      "text/plain": [
       "  player_names     player_heights player_weights has_rings\n",
       "2 Michael Jordan   198             98            TRUE     \n",
       "3 Shaquille O'Neal 216            148            TRUE     "
      ]
     },
     "metadata": {},
     "output_type": "display_data"
    }
   ],
   "source": [
    "player_df[c(2, 3), ]"
   ]
  },
  {
   "cell_type": "markdown",
   "metadata": {
    "slideshow": {
     "slide_type": "subslide"
    }
   },
   "source": [
    "## More commonly, using a logical vector"
   ]
  },
  {
   "cell_type": "code",
   "execution_count": 45,
   "metadata": {},
   "outputs": [
    {
     "data": {
      "text/html": [
       "<table>\n",
       "<thead><tr><th></th><th scope=col>player_names</th><th scope=col>player_heights</th><th scope=col>player_weights</th><th scope=col>has_rings</th></tr></thead>\n",
       "<tbody>\n",
       "\t<tr><th scope=row>2</th><td>Michael Jordan  </td><td>198             </td><td> 98             </td><td>TRUE            </td></tr>\n",
       "\t<tr><th scope=row>3</th><td>Shaquille O'Neal</td><td>216             </td><td>148             </td><td>TRUE            </td></tr>\n",
       "</tbody>\n",
       "</table>\n"
      ],
      "text/latex": [
       "\\begin{tabular}{r|llll}\n",
       "  & player\\_names & player\\_heights & player\\_weights & has\\_rings\\\\\n",
       "\\hline\n",
       "\t2 & Michael Jordan   & 198              &  98              & TRUE            \\\\\n",
       "\t3 & Shaquille O'Neal & 216              & 148              & TRUE            \\\\\n",
       "\\end{tabular}\n"
      ],
      "text/markdown": [
       "\n",
       "| <!--/--> | player_names | player_heights | player_weights | has_rings |\n",
       "|---|---|---|---|---|\n",
       "| 2 | Michael Jordan   | 198              |  98              | TRUE             |\n",
       "| 3 | Shaquille O'Neal | 216              | 148              | TRUE             |\n",
       "\n"
      ],
      "text/plain": [
       "  player_names     player_heights player_weights has_rings\n",
       "2 Michael Jordan   198             98            TRUE     \n",
       "3 Shaquille O'Neal 216            148            TRUE     "
      ]
     },
     "metadata": {},
     "output_type": "display_data"
    },
    {
     "data": {
      "text/html": [
       "<table>\n",
       "<thead><tr><th scope=col>player_names</th><th scope=col>player_heights</th><th scope=col>player_weights</th><th scope=col>has_rings</th></tr></thead>\n",
       "<tbody>\n",
       "\t<tr><td>Jeremy Lin</td><td>191       </td><td>91        </td><td>FALSE     </td></tr>\n",
       "</tbody>\n",
       "</table>\n"
      ],
      "text/latex": [
       "\\begin{tabular}{r|llll}\n",
       " player\\_names & player\\_heights & player\\_weights & has\\_rings\\\\\n",
       "\\hline\n",
       "\t Jeremy Lin & 191        & 91         & FALSE     \\\\\n",
       "\\end{tabular}\n"
      ],
      "text/markdown": [
       "\n",
       "| player_names | player_heights | player_weights | has_rings |\n",
       "|---|---|---|---|\n",
       "| Jeremy Lin | 191        | 91         | FALSE      |\n",
       "\n"
      ],
      "text/plain": [
       "  player_names player_heights player_weights has_rings\n",
       "1 Jeremy Lin   191            91             FALSE    "
      ]
     },
     "metadata": {},
     "output_type": "display_data"
    }
   ],
   "source": [
    "player_df[player_df$has_rings, ]  # players with rings\n",
    "player_df[!player_df$has_rings, ] # players without rings"
   ]
  },
  {
   "cell_type": "markdown",
   "metadata": {},
   "source": [
    "## Creating logical vectors using logical operators\n",
    "\n",
    "Remember putting logical vector at the **row** index."
   ]
  },
  {
   "cell_type": "code",
   "execution_count": 46,
   "metadata": {},
   "outputs": [
    {
     "data": {
      "text/html": [
       "<ol class=list-inline>\n",
       "\t<li>FALSE</li>\n",
       "\t<li>FALSE</li>\n",
       "\t<li>TRUE</li>\n",
       "</ol>\n"
      ],
      "text/latex": [
       "\\begin{enumerate*}\n",
       "\\item FALSE\n",
       "\\item FALSE\n",
       "\\item TRUE\n",
       "\\end{enumerate*}\n"
      ],
      "text/markdown": [
       "1. FALSE\n",
       "2. FALSE\n",
       "3. TRUE\n",
       "\n",
       "\n"
      ],
      "text/plain": [
       "[1] FALSE FALSE  TRUE"
      ]
     },
     "metadata": {},
     "output_type": "display_data"
    },
    {
     "data": {
      "text/html": [
       "<table>\n",
       "<thead><tr><th></th><th scope=col>player_names</th><th scope=col>player_heights</th><th scope=col>player_weights</th><th scope=col>has_rings</th></tr></thead>\n",
       "<tbody>\n",
       "\t<tr><th scope=row>3</th><td>Shaquille O'Neal</td><td>216             </td><td>148             </td><td>TRUE            </td></tr>\n",
       "</tbody>\n",
       "</table>\n"
      ],
      "text/latex": [
       "\\begin{tabular}{r|llll}\n",
       "  & player\\_names & player\\_heights & player\\_weights & has\\_rings\\\\\n",
       "\\hline\n",
       "\t3 & Shaquille O'Neal & 216              & 148              & TRUE            \\\\\n",
       "\\end{tabular}\n"
      ],
      "text/markdown": [
       "\n",
       "| <!--/--> | player_names | player_heights | player_weights | has_rings |\n",
       "|---|---|---|---|---|\n",
       "| 3 | Shaquille O'Neal | 216              | 148              | TRUE             |\n",
       "\n"
      ],
      "text/plain": [
       "  player_names     player_heights player_weights has_rings\n",
       "3 Shaquille O'Neal 216            148            TRUE     "
      ]
     },
     "metadata": {},
     "output_type": "display_data"
    }
   ],
   "source": [
    "player_df$player_heights > 200\n",
    "player_df[player_df$player_heights > 200, ]"
   ]
  },
  {
   "cell_type": "markdown",
   "metadata": {
    "slideshow": {
     "slide_type": "slide"
    }
   },
   "source": [
    "# `matrix`"
   ]
  },
  {
   "cell_type": "markdown",
   "metadata": {
    "slideshow": {
     "slide_type": "subslide"
    }
   },
   "source": [
    "## Creating a matrix using `matrix()`"
   ]
  },
  {
   "cell_type": "code",
   "execution_count": 47,
   "metadata": {},
   "outputs": [
    {
     "data": {
      "text/html": [
       "'matrix'"
      ],
      "text/latex": [
       "'matrix'"
      ],
      "text/markdown": [
       "'matrix'"
      ],
      "text/plain": [
       "[1] \"matrix\""
      ]
     },
     "metadata": {},
     "output_type": "display_data"
    }
   ],
   "source": [
    "my_mat <- matrix(1:4, nrow = 2)\n",
    "class(my_mat)"
   ]
  },
  {
   "cell_type": "markdown",
   "metadata": {
    "slideshow": {
     "slide_type": "subslide"
    }
   },
   "source": [
    "## matrix operations\n",
    "\n",
    "- Using `*` for element-wise multiplication\n",
    "- Using `t` for transpose\n",
    "- Using `%*%` for matrix multiplication"
   ]
  },
  {
   "cell_type": "code",
   "execution_count": 48,
   "metadata": {},
   "outputs": [
    {
     "data": {
      "text/html": [
       "<table>\n",
       "<tbody>\n",
       "\t<tr><td> 1</td></tr>\n",
       "\t<tr><td> 4</td></tr>\n",
       "\t<tr><td> 9</td></tr>\n",
       "\t<tr><td>16</td></tr>\n",
       "</tbody>\n",
       "</table>\n"
      ],
      "text/latex": [
       "\\begin{tabular}{l}\n",
       "\t  1\\\\\n",
       "\t  4\\\\\n",
       "\t  9\\\\\n",
       "\t 16\\\\\n",
       "\\end{tabular}\n"
      ],
      "text/markdown": [
       "\n",
       "|  1 |\n",
       "|  4 |\n",
       "|  9 |\n",
       "| 16 |\n",
       "\n"
      ],
      "text/plain": [
       "     [,1]\n",
       "[1,]  1  \n",
       "[2,]  4  \n",
       "[3,]  9  \n",
       "[4,] 16  "
      ]
     },
     "metadata": {},
     "output_type": "display_data"
    },
    {
     "data": {
      "text/html": [
       "<table>\n",
       "<tbody>\n",
       "\t<tr><td>30</td></tr>\n",
       "</tbody>\n",
       "</table>\n"
      ],
      "text/latex": [
       "\\begin{tabular}{l}\n",
       "\t 30\\\\\n",
       "\\end{tabular}\n"
      ],
      "text/markdown": [
       "\n",
       "| 30 |\n",
       "\n"
      ],
      "text/plain": [
       "     [,1]\n",
       "[1,] 30  "
      ]
     },
     "metadata": {},
     "output_type": "display_data"
    }
   ],
   "source": [
    "my_mat <- matrix(1:4)\n",
    "my_mat * my_mat\n",
    "t(my_mat) %*% my_mat"
   ]
  },
  {
   "cell_type": "markdown",
   "metadata": {
    "slideshow": {
     "slide_type": "subslide"
    }
   },
   "source": [
    "## Practices: Make a \"99 multiplication matrix\""
   ]
  },
  {
   "cell_type": "markdown",
   "metadata": {
    "slideshow": {
     "slide_type": "slide"
    }
   },
   "source": [
    "# `array`"
   ]
  },
  {
   "cell_type": "markdown",
   "metadata": {
    "slideshow": {
     "slide_type": "subslide"
    }
   },
   "source": [
    "## Using `array()` to create an array"
   ]
  },
  {
   "cell_type": "code",
   "execution_count": 49,
   "metadata": {
    "slideshow": {
     "slide_type": "subslide"
    }
   },
   "outputs": [
    {
     "data": {
      "text/html": [
       "<ol class=list-inline>\n",
       "\t<li>1</li>\n",
       "\t<li>2</li>\n",
       "\t<li>3</li>\n",
       "\t<li>4</li>\n",
       "\t<li>5</li>\n",
       "\t<li>6</li>\n",
       "\t<li>7</li>\n",
       "\t<li>8</li>\n",
       "\t<li>9</li>\n",
       "\t<li>10</li>\n",
       "\t<li>11</li>\n",
       "\t<li>12</li>\n",
       "\t<li>13</li>\n",
       "\t<li>14</li>\n",
       "\t<li>15</li>\n",
       "\t<li>16</li>\n",
       "\t<li>17</li>\n",
       "\t<li>18</li>\n",
       "\t<li>19</li>\n",
       "\t<li>20</li>\n",
       "\t<li>21</li>\n",
       "\t<li>22</li>\n",
       "\t<li>23</li>\n",
       "\t<li>24</li>\n",
       "</ol>\n"
      ],
      "text/latex": [
       "\\begin{enumerate*}\n",
       "\\item 1\n",
       "\\item 2\n",
       "\\item 3\n",
       "\\item 4\n",
       "\\item 5\n",
       "\\item 6\n",
       "\\item 7\n",
       "\\item 8\n",
       "\\item 9\n",
       "\\item 10\n",
       "\\item 11\n",
       "\\item 12\n",
       "\\item 13\n",
       "\\item 14\n",
       "\\item 15\n",
       "\\item 16\n",
       "\\item 17\n",
       "\\item 18\n",
       "\\item 19\n",
       "\\item 20\n",
       "\\item 21\n",
       "\\item 22\n",
       "\\item 23\n",
       "\\item 24\n",
       "\\end{enumerate*}\n"
      ],
      "text/markdown": [
       "1. 1\n",
       "2. 2\n",
       "3. 3\n",
       "4. 4\n",
       "5. 5\n",
       "6. 6\n",
       "7. 7\n",
       "8. 8\n",
       "9. 9\n",
       "10. 10\n",
       "11. 11\n",
       "12. 12\n",
       "13. 13\n",
       "14. 14\n",
       "15. 15\n",
       "16. 16\n",
       "17. 17\n",
       "18. 18\n",
       "19. 19\n",
       "20. 20\n",
       "21. 21\n",
       "22. 22\n",
       "23. 23\n",
       "24. 24\n",
       "\n",
       "\n"
      ],
      "text/plain": [
       ", , 1\n",
       "\n",
       "     [,1] [,2] [,3]\n",
       "[1,]    1    5    9\n",
       "[2,]    2    6   10\n",
       "[3,]    3    7   11\n",
       "[4,]    4    8   12\n",
       "\n",
       ", , 2\n",
       "\n",
       "     [,1] [,2] [,3]\n",
       "[1,]   13   17   21\n",
       "[2,]   14   18   22\n",
       "[3,]   15   19   23\n",
       "[4,]   16   20   24\n"
      ]
     },
     "metadata": {},
     "output_type": "display_data"
    },
    {
     "data": {
      "text/html": [
       "'array'"
      ],
      "text/latex": [
       "'array'"
      ],
      "text/markdown": [
       "'array'"
      ],
      "text/plain": [
       "[1] \"array\""
      ]
     },
     "metadata": {},
     "output_type": "display_data"
    }
   ],
   "source": [
    "my_arr <- array(1:24, dim = c(4, 3, 2))\n",
    "my_arr\n",
    "class(my_arr)"
   ]
  }
 ],
 "metadata": {
  "celltoolbar": "Slideshow",
  "kernelspec": {
   "display_name": "R",
   "language": "R",
   "name": "ir"
  },
  "language_info": {
   "codemirror_mode": "r",
   "file_extension": ".r",
   "mimetype": "text/x-r-source",
   "name": "R",
   "pygments_lexer": "r",
   "version": "3.5.2"
  }
 },
 "nbformat": 4,
 "nbformat_minor": 2
}
