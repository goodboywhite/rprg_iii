{
 "cells": [
  {
   "cell_type": "markdown",
   "metadata": {
    "slideshow": {
     "slide_type": "slide"
    }
   },
   "source": [
    "# R Essentials\n",
    "\n",
    "> Other Vector Types\n",
    "\n",
    "Tony Yao-Jen Kuo"
   ]
  },
  {
   "cell_type": "markdown",
   "metadata": {
    "slideshow": {
     "slide_type": "subslide"
    }
   },
   "source": [
    "## Agenda\n",
    "\n",
    "- An overview\n",
    "- Vector type checking and conversion\n",
    "- `Date`\n",
    "- Datetime: `POSIXct`"
   ]
  },
  {
   "cell_type": "markdown",
   "metadata": {
    "slideshow": {
     "slide_type": "slide"
    }
   },
   "source": [
    "# An overview\n",
    "\n",
    "- Vector types in R are able to be converted\n",
    "- `Date` and Datetime: `POSIXct` are all based on UNIX time(a.k.a. POSIX datetime)"
   ]
  },
  {
   "cell_type": "markdown",
   "metadata": {
    "slideshow": {
     "slide_type": "slide"
    }
   },
   "source": [
    "# Vector type checking and conversion"
   ]
  },
  {
   "cell_type": "markdown",
   "metadata": {
    "slideshow": {
     "slide_type": "subslide"
    }
   },
   "source": [
    "## Using `is.___()` for vector type checking\n",
    "\n",
    "- `is.numeric()`\n",
    "- `is.character()`\n",
    "- `is.logical()`"
   ]
  },
  {
   "cell_type": "code",
   "execution_count": 1,
   "metadata": {
    "slideshow": {
     "slide_type": "subslide"
    }
   },
   "outputs": [
    {
     "data": {
      "text/html": [
       "TRUE"
      ],
      "text/latex": [
       "TRUE"
      ],
      "text/markdown": [
       "TRUE"
      ],
      "text/plain": [
       "[1] TRUE"
      ]
     },
     "metadata": {},
     "output_type": "display_data"
    },
    {
     "data": {
      "text/html": [
       "FALSE"
      ],
      "text/latex": [
       "FALSE"
      ],
      "text/markdown": [
       "FALSE"
      ],
      "text/plain": [
       "[1] FALSE"
      ]
     },
     "metadata": {},
     "output_type": "display_data"
    },
    {
     "data": {
      "text/html": [
       "FALSE"
      ],
      "text/latex": [
       "FALSE"
      ],
      "text/markdown": [
       "FALSE"
      ],
      "text/plain": [
       "[1] FALSE"
      ]
     },
     "metadata": {},
     "output_type": "display_data"
    }
   ],
   "source": [
    "is.numeric(87)\n",
    "is.character(87)\n",
    "is.logical(87)"
   ]
  },
  {
   "cell_type": "code",
   "execution_count": 2,
   "metadata": {
    "slideshow": {
     "slide_type": "fragment"
    }
   },
   "outputs": [
    {
     "data": {
      "text/html": [
       "FALSE"
      ],
      "text/latex": [
       "FALSE"
      ],
      "text/markdown": [
       "FALSE"
      ],
      "text/plain": [
       "[1] FALSE"
      ]
     },
     "metadata": {},
     "output_type": "display_data"
    },
    {
     "data": {
      "text/html": [
       "TRUE"
      ],
      "text/latex": [
       "TRUE"
      ],
      "text/markdown": [
       "TRUE"
      ],
      "text/plain": [
       "[1] TRUE"
      ]
     },
     "metadata": {},
     "output_type": "display_data"
    },
    {
     "data": {
      "text/html": [
       "FALSE"
      ],
      "text/latex": [
       "FALSE"
      ],
      "text/markdown": [
       "FALSE"
      ],
      "text/plain": [
       "[1] FALSE"
      ]
     },
     "metadata": {},
     "output_type": "display_data"
    }
   ],
   "source": [
    "is.numeric(\"87\")\n",
    "is.character(\"87\")\n",
    "is.logical(\"87\")"
   ]
  },
  {
   "cell_type": "code",
   "execution_count": 3,
   "metadata": {
    "slideshow": {
     "slide_type": "fragment"
    }
   },
   "outputs": [
    {
     "data": {
      "text/html": [
       "FALSE"
      ],
      "text/latex": [
       "FALSE"
      ],
      "text/markdown": [
       "FALSE"
      ],
      "text/plain": [
       "[1] FALSE"
      ]
     },
     "metadata": {},
     "output_type": "display_data"
    },
    {
     "data": {
      "text/html": [
       "FALSE"
      ],
      "text/latex": [
       "FALSE"
      ],
      "text/markdown": [
       "FALSE"
      ],
      "text/plain": [
       "[1] FALSE"
      ]
     },
     "metadata": {},
     "output_type": "display_data"
    },
    {
     "data": {
      "text/html": [
       "TRUE"
      ],
      "text/latex": [
       "TRUE"
      ],
      "text/markdown": [
       "TRUE"
      ],
      "text/plain": [
       "[1] TRUE"
      ]
     },
     "metadata": {},
     "output_type": "display_data"
    }
   ],
   "source": [
    "is.numeric(TRUE)\n",
    "is.character(TRUE)\n",
    "is.logical(TRUE)"
   ]
  },
  {
   "cell_type": "markdown",
   "metadata": {
    "slideshow": {
     "slide_type": "subslide"
    }
   },
   "source": [
    "## Using `as.___()` for conversion\n",
    "\n",
    "- `as.numeric()`\n",
    "- `as.character()`\n",
    "- `as.logical()` "
   ]
  },
  {
   "cell_type": "code",
   "execution_count": 4,
   "metadata": {
    "slideshow": {
     "slide_type": "subslide"
    }
   },
   "outputs": [
    {
     "data": {
      "text/html": [
       "'87'"
      ],
      "text/latex": [
       "'87'"
      ],
      "text/markdown": [
       "'87'"
      ],
      "text/plain": [
       "[1] \"87\""
      ]
     },
     "metadata": {},
     "output_type": "display_data"
    },
    {
     "data": {
      "text/html": [
       "TRUE"
      ],
      "text/latex": [
       "TRUE"
      ],
      "text/markdown": [
       "TRUE"
      ],
      "text/plain": [
       "[1] TRUE"
      ]
     },
     "metadata": {},
     "output_type": "display_data"
    },
    {
     "data": {
      "text/html": [
       "FALSE"
      ],
      "text/latex": [
       "FALSE"
      ],
      "text/markdown": [
       "FALSE"
      ],
      "text/plain": [
       "[1] FALSE"
      ]
     },
     "metadata": {},
     "output_type": "display_data"
    }
   ],
   "source": [
    "as.character(87)\n",
    "as.logical(87)\n",
    "as.logical(0)"
   ]
  },
  {
   "cell_type": "code",
   "execution_count": 5,
   "metadata": {
    "slideshow": {
     "slide_type": "subslide"
    }
   },
   "outputs": [
    {
     "data": {
      "text/html": [
       "87"
      ],
      "text/latex": [
       "87"
      ],
      "text/markdown": [
       "87"
      ],
      "text/plain": [
       "[1] 87"
      ]
     },
     "metadata": {},
     "output_type": "display_data"
    },
    {
     "name": "stderr",
     "output_type": "stream",
     "text": [
      "Warning message in eval(expr, envir, enclos):\n",
      "“NAs introduced by coercion”"
     ]
    },
    {
     "data": {
      "text/html": [
       "&lt;NA&gt;"
      ],
      "text/latex": [
       "<NA>"
      ],
      "text/markdown": [
       "&lt;NA&gt;"
      ],
      "text/plain": [
       "[1] NA"
      ]
     },
     "metadata": {},
     "output_type": "display_data"
    },
    {
     "data": {
      "text/html": [
       "&lt;NA&gt;"
      ],
      "text/latex": [
       "<NA>"
      ],
      "text/markdown": [
       "&lt;NA&gt;"
      ],
      "text/plain": [
       "[1] NA"
      ]
     },
     "metadata": {},
     "output_type": "display_data"
    },
    {
     "data": {
      "text/html": [
       "&lt;NA&gt;"
      ],
      "text/latex": [
       "<NA>"
      ],
      "text/markdown": [
       "&lt;NA&gt;"
      ],
      "text/plain": [
       "[1] NA"
      ]
     },
     "metadata": {},
     "output_type": "display_data"
    },
    {
     "data": {
      "text/html": [
       "TRUE"
      ],
      "text/latex": [
       "TRUE"
      ],
      "text/markdown": [
       "TRUE"
      ],
      "text/plain": [
       "[1] TRUE"
      ]
     },
     "metadata": {},
     "output_type": "display_data"
    },
    {
     "data": {
      "text/html": [
       "TRUE"
      ],
      "text/latex": [
       "TRUE"
      ],
      "text/markdown": [
       "TRUE"
      ],
      "text/plain": [
       "[1] TRUE"
      ]
     },
     "metadata": {},
     "output_type": "display_data"
    },
    {
     "data": {
      "text/html": [
       "TRUE"
      ],
      "text/latex": [
       "TRUE"
      ],
      "text/markdown": [
       "TRUE"
      ],
      "text/plain": [
       "[1] TRUE"
      ]
     },
     "metadata": {},
     "output_type": "display_data"
    }
   ],
   "source": [
    "as.numeric(\"87\")\n",
    "as.numeric(\"A\")\n",
    "as.logical(\"87\")\n",
    "as.logical(\"A\")\n",
    "as.logical(\"TRUE\")\n",
    "as.logical(\"true\")\n",
    "as.logical(\"True\")"
   ]
  },
  {
   "cell_type": "code",
   "execution_count": 6,
   "metadata": {
    "slideshow": {
     "slide_type": "subslide"
    }
   },
   "outputs": [
    {
     "data": {
      "text/html": [
       "1"
      ],
      "text/latex": [
       "1"
      ],
      "text/markdown": [
       "1"
      ],
      "text/plain": [
       "[1] 1"
      ]
     },
     "metadata": {},
     "output_type": "display_data"
    },
    {
     "data": {
      "text/html": [
       "0"
      ],
      "text/latex": [
       "0"
      ],
      "text/markdown": [
       "0"
      ],
      "text/plain": [
       "[1] 0"
      ]
     },
     "metadata": {},
     "output_type": "display_data"
    },
    {
     "data": {
      "text/html": [
       "'TRUE'"
      ],
      "text/latex": [
       "'TRUE'"
      ],
      "text/markdown": [
       "'TRUE'"
      ],
      "text/plain": [
       "[1] \"TRUE\""
      ]
     },
     "metadata": {},
     "output_type": "display_data"
    }
   ],
   "source": [
    "as.numeric(TRUE)\n",
    "as.numeric(FALSE)\n",
    "as.character(TRUE)"
   ]
  },
  {
   "cell_type": "markdown",
   "metadata": {
    "slideshow": {
     "slide_type": "slide"
    }
   },
   "source": [
    "# `Date`"
   ]
  },
  {
   "cell_type": "markdown",
   "metadata": {
    "slideshow": {
     "slide_type": "subslide"
    }
   },
   "source": [
    "## Using `Sys.Date()` for current date"
   ]
  },
  {
   "cell_type": "code",
   "execution_count": 7,
   "metadata": {},
   "outputs": [
    {
     "data": {
      "text/html": [
       "<time datetime=\"2019-03-11\">2019-03-11</time>"
      ],
      "text/latex": [
       "2019-03-11"
      ],
      "text/markdown": [
       "2019-03-11"
      ],
      "text/plain": [
       "[1] \"2019-03-11\""
      ]
     },
     "metadata": {},
     "output_type": "display_data"
    }
   ],
   "source": [
    "Sys.Date()"
   ]
  },
  {
   "cell_type": "markdown",
   "metadata": {
    "slideshow": {
     "slide_type": "subslide"
    }
   },
   "source": [
    "## Mysterious number"
   ]
  },
  {
   "cell_type": "code",
   "execution_count": 8,
   "metadata": {},
   "outputs": [
    {
     "data": {
      "text/html": [
       "17966"
      ],
      "text/latex": [
       "17966"
      ],
      "text/markdown": [
       "17966"
      ],
      "text/plain": [
       "[1] 17966"
      ]
     },
     "metadata": {},
     "output_type": "display_data"
    }
   ],
   "source": [
    "sys_date <- Sys.Date()\n",
    "as.numeric(sys_date) # what is this number?"
   ]
  },
  {
   "cell_type": "markdown",
   "metadata": {
    "slideshow": {
     "slide_type": "subslide"
    }
   },
   "source": [
    "## Date originates from 1970-01-01"
   ]
  },
  {
   "cell_type": "code",
   "execution_count": 9,
   "metadata": {
    "slideshow": {
     "slide_type": "-"
    }
   },
   "outputs": [
    {
     "data": {
      "text/html": [
       "<time datetime=\"1970-01-01\">1970-01-01</time>"
      ],
      "text/latex": [
       "1970-01-01"
      ],
      "text/markdown": [
       "1970-01-01"
      ],
      "text/plain": [
       "[1] \"1970-01-01\""
      ]
     },
     "metadata": {},
     "output_type": "display_data"
    }
   ],
   "source": [
    "sys_date - as.numeric(sys_date)"
   ]
  },
  {
   "cell_type": "markdown",
   "metadata": {
    "slideshow": {
     "slide_type": "subslide"
    }
   },
   "source": [
    "## Every integer stands for a specific date"
   ]
  },
  {
   "cell_type": "code",
   "execution_count": 10,
   "metadata": {},
   "outputs": [
    {
     "data": {
      "text/html": [
       "<time datetime=\"1969-12-31\">1969-12-31</time>"
      ],
      "text/latex": [
       "1969-12-31"
      ],
      "text/markdown": [
       "1969-12-31"
      ],
      "text/plain": [
       "[1] \"1969-12-31\""
      ]
     },
     "metadata": {},
     "output_type": "display_data"
    },
    {
     "data": {
      "text/html": [
       "<time datetime=\"1970-01-01\">1970-01-01</time>"
      ],
      "text/latex": [
       "1970-01-01"
      ],
      "text/markdown": [
       "1970-01-01"
      ],
      "text/plain": [
       "[1] \"1970-01-01\""
      ]
     },
     "metadata": {},
     "output_type": "display_data"
    },
    {
     "data": {
      "text/html": [
       "<time datetime=\"1970-01-02\">1970-01-02</time>"
      ],
      "text/latex": [
       "1970-01-02"
      ],
      "text/markdown": [
       "1970-01-02"
      ],
      "text/plain": [
       "[1] \"1970-01-02\""
      ]
     },
     "metadata": {},
     "output_type": "display_data"
    }
   ],
   "source": [
    "original_date <- sys_date - as.numeric(sys_date)\n",
    "original_date - 1\n",
    "original_date\n",
    "original_date + 1"
   ]
  },
  {
   "cell_type": "markdown",
   "metadata": {
    "slideshow": {
     "slide_type": "subslide"
    }
   },
   "source": [
    "## Practices: The long last of Beatles\n",
    "\n",
    "The Beatles were an English rock band formed in Liverpool in 1960. Using `Sys.Date()` and tell us for how many years, this band still gets tremendous popularity."
   ]
  },
  {
   "cell_type": "code",
   "execution_count": 11,
   "metadata": {
    "slideshow": {
     "slide_type": "fragment"
    }
   },
   "outputs": [],
   "source": [
    "beatles_formed <- 1960\n",
    "# ..."
   ]
  },
  {
   "cell_type": "markdown",
   "metadata": {
    "slideshow": {
     "slide_type": "slide"
    }
   },
   "source": [
    "# Datetime: `POSIXct`"
   ]
  },
  {
   "cell_type": "markdown",
   "metadata": {
    "slideshow": {
     "slide_type": "subslide"
    }
   },
   "source": [
    "## Using `Sys.time()` for current datetime"
   ]
  },
  {
   "cell_type": "code",
   "execution_count": 12,
   "metadata": {},
   "outputs": [
    {
     "data": {
      "text/plain": [
       "[1] \"2019-03-11 10:02:33 CST\""
      ]
     },
     "metadata": {},
     "output_type": "display_data"
    }
   ],
   "source": [
    "Sys.time()"
   ]
  },
  {
   "cell_type": "markdown",
   "metadata": {
    "slideshow": {
     "slide_type": "subslide"
    }
   },
   "source": [
    "## Datetime originates from 1970-01-01 08:00:00"
   ]
  },
  {
   "cell_type": "code",
   "execution_count": 13,
   "metadata": {},
   "outputs": [
    {
     "data": {
      "text/plain": [
       "[1] \"1970-01-01 08:00:00 CST\""
      ]
     },
     "metadata": {},
     "output_type": "display_data"
    }
   ],
   "source": [
    "sys_datetime <- Sys.time()\n",
    "original_datetime <- sys_datetime - as.numeric(sys_datetime)\n",
    "original_datetime"
   ]
  },
  {
   "cell_type": "markdown",
   "metadata": {
    "slideshow": {
     "slide_type": "subslide"
    }
   },
   "source": [
    "## Every integer stands for a specific second"
   ]
  },
  {
   "cell_type": "code",
   "execution_count": 14,
   "metadata": {},
   "outputs": [
    {
     "data": {
      "text/plain": [
       "[1] \"1970-01-01 07:59:59 CST\""
      ]
     },
     "metadata": {},
     "output_type": "display_data"
    },
    {
     "data": {
      "text/plain": [
       "[1] \"1970-01-01 08:00:00 CST\""
      ]
     },
     "metadata": {},
     "output_type": "display_data"
    },
    {
     "data": {
      "text/plain": [
       "[1] \"1970-01-01 08:00:01 CST\""
      ]
     },
     "metadata": {},
     "output_type": "display_data"
    }
   ],
   "source": [
    "sys_datetime <- Sys.time()\n",
    "original_datetime <- sys_datetime - as.numeric(sys_datetime)\n",
    "original_datetime - 1\n",
    "original_datetime\n",
    "original_datetime + 1"
   ]
  },
  {
   "cell_type": "markdown",
   "metadata": {
    "slideshow": {
     "slide_type": "subslide"
    }
   },
   "source": [
    "## Using `OlsonNames()` for specific timezone names"
   ]
  },
  {
   "cell_type": "code",
   "execution_count": 15,
   "metadata": {},
   "outputs": [
    {
     "data": {
      "text/html": [
       "<ol class=list-inline>\n",
       "\t<li>'Africa/Abidjan'</li>\n",
       "\t<li>'Africa/Accra'</li>\n",
       "\t<li>'Africa/Addis_Ababa'</li>\n",
       "\t<li>'Africa/Algiers'</li>\n",
       "\t<li>'Africa/Asmara'</li>\n",
       "\t<li>'Africa/Asmera'</li>\n",
       "\t<li>'Africa/Bamako'</li>\n",
       "\t<li>'Africa/Bangui'</li>\n",
       "\t<li>'Africa/Banjul'</li>\n",
       "\t<li>'Africa/Bissau'</li>\n",
       "\t<li>'Africa/Blantyre'</li>\n",
       "\t<li>'Africa/Brazzaville'</li>\n",
       "\t<li>'Africa/Bujumbura'</li>\n",
       "\t<li>'Africa/Cairo'</li>\n",
       "\t<li>'Africa/Casablanca'</li>\n",
       "\t<li>'Africa/Ceuta'</li>\n",
       "\t<li>'Africa/Conakry'</li>\n",
       "\t<li>'Africa/Dakar'</li>\n",
       "\t<li>'Africa/Dar_es_Salaam'</li>\n",
       "\t<li>'Africa/Djibouti'</li>\n",
       "\t<li>'Africa/Douala'</li>\n",
       "\t<li>'Africa/El_Aaiun'</li>\n",
       "\t<li>'Africa/Freetown'</li>\n",
       "\t<li>'Africa/Gaborone'</li>\n",
       "\t<li>'Africa/Harare'</li>\n",
       "\t<li>'Africa/Johannesburg'</li>\n",
       "\t<li>'Africa/Juba'</li>\n",
       "\t<li>'Africa/Kampala'</li>\n",
       "\t<li>'Africa/Khartoum'</li>\n",
       "\t<li>'Africa/Kigali'</li>\n",
       "\t<li>'Africa/Kinshasa'</li>\n",
       "\t<li>'Africa/Lagos'</li>\n",
       "\t<li>'Africa/Libreville'</li>\n",
       "\t<li>'Africa/Lome'</li>\n",
       "\t<li>'Africa/Luanda'</li>\n",
       "\t<li>'Africa/Lubumbashi'</li>\n",
       "\t<li>'Africa/Lusaka'</li>\n",
       "\t<li>'Africa/Malabo'</li>\n",
       "\t<li>'Africa/Maputo'</li>\n",
       "\t<li>'Africa/Maseru'</li>\n",
       "\t<li>'Africa/Mbabane'</li>\n",
       "\t<li>'Africa/Mogadishu'</li>\n",
       "\t<li>'Africa/Monrovia'</li>\n",
       "\t<li>'Africa/Nairobi'</li>\n",
       "\t<li>'Africa/Ndjamena'</li>\n",
       "\t<li>'Africa/Niamey'</li>\n",
       "\t<li>'Africa/Nouakchott'</li>\n",
       "\t<li>'Africa/Ouagadougou'</li>\n",
       "\t<li>'Africa/Porto-Novo'</li>\n",
       "\t<li>'Africa/Sao_Tome'</li>\n",
       "\t<li>'Africa/Timbuktu'</li>\n",
       "\t<li>'Africa/Tripoli'</li>\n",
       "\t<li>'Africa/Tunis'</li>\n",
       "\t<li>'Africa/Windhoek'</li>\n",
       "\t<li>'America/Adak'</li>\n",
       "\t<li>'America/Anchorage'</li>\n",
       "\t<li>'America/Anguilla'</li>\n",
       "\t<li>'America/Antigua'</li>\n",
       "\t<li>'America/Araguaina'</li>\n",
       "\t<li>'America/Argentina/Buenos_Aires'</li>\n",
       "\t<li>'America/Argentina/Catamarca'</li>\n",
       "\t<li>'America/Argentina/ComodRivadavia'</li>\n",
       "\t<li>'America/Argentina/Cordoba'</li>\n",
       "\t<li>'America/Argentina/Jujuy'</li>\n",
       "\t<li>'America/Argentina/La_Rioja'</li>\n",
       "\t<li>'America/Argentina/Mendoza'</li>\n",
       "\t<li>'America/Argentina/Rio_Gallegos'</li>\n",
       "\t<li>'America/Argentina/Salta'</li>\n",
       "\t<li>'America/Argentina/San_Juan'</li>\n",
       "\t<li>'America/Argentina/San_Luis'</li>\n",
       "\t<li>'America/Argentina/Tucuman'</li>\n",
       "\t<li>'America/Argentina/Ushuaia'</li>\n",
       "\t<li>'America/Aruba'</li>\n",
       "\t<li>'America/Asuncion'</li>\n",
       "\t<li>'America/Atikokan'</li>\n",
       "\t<li>'America/Atka'</li>\n",
       "\t<li>'America/Bahia'</li>\n",
       "\t<li>'America/Bahia_Banderas'</li>\n",
       "\t<li>'America/Barbados'</li>\n",
       "\t<li>'America/Belem'</li>\n",
       "\t<li>'America/Belize'</li>\n",
       "\t<li>'America/Blanc-Sablon'</li>\n",
       "\t<li>'America/Boa_Vista'</li>\n",
       "\t<li>'America/Bogota'</li>\n",
       "\t<li>'America/Boise'</li>\n",
       "\t<li>'America/Buenos_Aires'</li>\n",
       "\t<li>'America/Cambridge_Bay'</li>\n",
       "\t<li>'America/Campo_Grande'</li>\n",
       "\t<li>'America/Cancun'</li>\n",
       "\t<li>'America/Caracas'</li>\n",
       "\t<li>'America/Catamarca'</li>\n",
       "\t<li>'America/Cayenne'</li>\n",
       "\t<li>'America/Cayman'</li>\n",
       "\t<li>'America/Chicago'</li>\n",
       "\t<li>'America/Chihuahua'</li>\n",
       "\t<li>'America/Coral_Harbour'</li>\n",
       "\t<li>'America/Cordoba'</li>\n",
       "\t<li>'America/Costa_Rica'</li>\n",
       "\t<li>'America/Creston'</li>\n",
       "\t<li>'America/Cuiaba'</li>\n",
       "\t<li>'America/Curacao'</li>\n",
       "\t<li>'America/Danmarkshavn'</li>\n",
       "\t<li>'America/Dawson'</li>\n",
       "\t<li>'America/Dawson_Creek'</li>\n",
       "\t<li>'America/Denver'</li>\n",
       "\t<li>'America/Detroit'</li>\n",
       "\t<li>'America/Dominica'</li>\n",
       "\t<li>'America/Edmonton'</li>\n",
       "\t<li>'America/Eirunepe'</li>\n",
       "\t<li>'America/El_Salvador'</li>\n",
       "\t<li>'America/Ensenada'</li>\n",
       "\t<li>'America/Fort_Nelson'</li>\n",
       "\t<li>'America/Fort_Wayne'</li>\n",
       "\t<li>'America/Fortaleza'</li>\n",
       "\t<li>'America/Glace_Bay'</li>\n",
       "\t<li>'America/Godthab'</li>\n",
       "\t<li>'America/Goose_Bay'</li>\n",
       "\t<li>'America/Grand_Turk'</li>\n",
       "\t<li>'America/Grenada'</li>\n",
       "\t<li>'America/Guadeloupe'</li>\n",
       "\t<li>'America/Guatemala'</li>\n",
       "\t<li>'America/Guayaquil'</li>\n",
       "\t<li>'America/Guyana'</li>\n",
       "\t<li>'America/Halifax'</li>\n",
       "\t<li>'America/Havana'</li>\n",
       "\t<li>'America/Hermosillo'</li>\n",
       "\t<li>'America/Indiana/Indianapolis'</li>\n",
       "\t<li>'America/Indiana/Knox'</li>\n",
       "\t<li>'America/Indiana/Marengo'</li>\n",
       "\t<li>'America/Indiana/Petersburg'</li>\n",
       "\t<li>'America/Indiana/Tell_City'</li>\n",
       "\t<li>'America/Indiana/Vevay'</li>\n",
       "\t<li>'America/Indiana/Vincennes'</li>\n",
       "\t<li>'America/Indiana/Winamac'</li>\n",
       "\t<li>'America/Indianapolis'</li>\n",
       "\t<li>'America/Inuvik'</li>\n",
       "\t<li>'America/Iqaluit'</li>\n",
       "\t<li>'America/Jamaica'</li>\n",
       "\t<li>'America/Jujuy'</li>\n",
       "\t<li>'America/Juneau'</li>\n",
       "\t<li>'America/Kentucky/Louisville'</li>\n",
       "\t<li>'America/Kentucky/Monticello'</li>\n",
       "\t<li>'America/Knox_IN'</li>\n",
       "\t<li>'America/Kralendijk'</li>\n",
       "\t<li>'America/La_Paz'</li>\n",
       "\t<li>'America/Lima'</li>\n",
       "\t<li>'America/Los_Angeles'</li>\n",
       "\t<li>'America/Louisville'</li>\n",
       "\t<li>'America/Lower_Princes'</li>\n",
       "\t<li>'America/Maceio'</li>\n",
       "\t<li>'America/Managua'</li>\n",
       "\t<li>'America/Manaus'</li>\n",
       "\t<li>'America/Marigot'</li>\n",
       "\t<li>'America/Martinique'</li>\n",
       "\t<li>'America/Matamoros'</li>\n",
       "\t<li>'America/Mazatlan'</li>\n",
       "\t<li>'America/Mendoza'</li>\n",
       "\t<li>'America/Menominee'</li>\n",
       "\t<li>'America/Merida'</li>\n",
       "\t<li>'America/Metlakatla'</li>\n",
       "\t<li>'America/Mexico_City'</li>\n",
       "\t<li>'America/Miquelon'</li>\n",
       "\t<li>'America/Moncton'</li>\n",
       "\t<li>'America/Monterrey'</li>\n",
       "\t<li>'America/Montevideo'</li>\n",
       "\t<li>'America/Montreal'</li>\n",
       "\t<li>'America/Montserrat'</li>\n",
       "\t<li>'America/Nassau'</li>\n",
       "\t<li>'America/New_York'</li>\n",
       "\t<li>'America/Nipigon'</li>\n",
       "\t<li>'America/Nome'</li>\n",
       "\t<li>'America/Noronha'</li>\n",
       "\t<li>'America/North_Dakota/Beulah'</li>\n",
       "\t<li>'America/North_Dakota/Center'</li>\n",
       "\t<li>'America/North_Dakota/New_Salem'</li>\n",
       "\t<li>'America/Ojinaga'</li>\n",
       "\t<li>'America/Panama'</li>\n",
       "\t<li>'America/Pangnirtung'</li>\n",
       "\t<li>'America/Paramaribo'</li>\n",
       "\t<li>'America/Phoenix'</li>\n",
       "\t<li>'America/Port-au-Prince'</li>\n",
       "\t<li>'America/Port_of_Spain'</li>\n",
       "\t<li>'America/Porto_Acre'</li>\n",
       "\t<li>'America/Porto_Velho'</li>\n",
       "\t<li>'America/Puerto_Rico'</li>\n",
       "\t<li>'America/Punta_Arenas'</li>\n",
       "\t<li>'America/Rainy_River'</li>\n",
       "\t<li>'America/Rankin_Inlet'</li>\n",
       "\t<li>'America/Recife'</li>\n",
       "\t<li>'America/Regina'</li>\n",
       "\t<li>'America/Resolute'</li>\n",
       "\t<li>'America/Rio_Branco'</li>\n",
       "\t<li>'America/Rosario'</li>\n",
       "\t<li>'America/Santa_Isabel'</li>\n",
       "\t<li>'America/Santarem'</li>\n",
       "\t<li>'America/Santiago'</li>\n",
       "\t<li>'America/Santo_Domingo'</li>\n",
       "\t<li>'America/Sao_Paulo'</li>\n",
       "\t<li>'America/Scoresbysund'</li>\n",
       "\t<li>'America/Shiprock'</li>\n",
       "\t<li>'America/Sitka'</li>\n",
       "\t<li>'America/St_Barthelemy'</li>\n",
       "\t<li>'America/St_Johns'</li>\n",
       "\t<li>'America/St_Kitts'</li>\n",
       "\t<li>'America/St_Lucia'</li>\n",
       "\t<li>'America/St_Thomas'</li>\n",
       "\t<li>'America/St_Vincent'</li>\n",
       "\t<li>'America/Swift_Current'</li>\n",
       "\t<li>'America/Tegucigalpa'</li>\n",
       "\t<li>'America/Thule'</li>\n",
       "\t<li>'America/Thunder_Bay'</li>\n",
       "\t<li>'America/Tijuana'</li>\n",
       "\t<li>'America/Toronto'</li>\n",
       "\t<li>'America/Tortola'</li>\n",
       "\t<li>'America/Vancouver'</li>\n",
       "\t<li>'America/Virgin'</li>\n",
       "\t<li>'America/Whitehorse'</li>\n",
       "\t<li>'America/Winnipeg'</li>\n",
       "\t<li>'America/Yakutat'</li>\n",
       "\t<li>'America/Yellowknife'</li>\n",
       "\t<li>'Antarctica/Casey'</li>\n",
       "\t<li>'Antarctica/Davis'</li>\n",
       "\t<li>'Antarctica/DumontDUrville'</li>\n",
       "\t<li>'Antarctica/Macquarie'</li>\n",
       "\t<li>'Antarctica/Mawson'</li>\n",
       "\t<li>'Antarctica/McMurdo'</li>\n",
       "\t<li>'Antarctica/Palmer'</li>\n",
       "\t<li>'Antarctica/Rothera'</li>\n",
       "\t<li>'Antarctica/South_Pole'</li>\n",
       "\t<li>'Antarctica/Syowa'</li>\n",
       "\t<li>'Antarctica/Troll'</li>\n",
       "\t<li>'Antarctica/Vostok'</li>\n",
       "\t<li>'Arctic/Longyearbyen'</li>\n",
       "\t<li>'Asia/Aden'</li>\n",
       "\t<li>'Asia/Almaty'</li>\n",
       "\t<li>'Asia/Amman'</li>\n",
       "\t<li>'Asia/Anadyr'</li>\n",
       "\t<li>'Asia/Aqtau'</li>\n",
       "\t<li>'Asia/Aqtobe'</li>\n",
       "\t<li>'Asia/Ashgabat'</li>\n",
       "\t<li>'Asia/Ashkhabad'</li>\n",
       "\t<li>'Asia/Atyrau'</li>\n",
       "\t<li>'Asia/Baghdad'</li>\n",
       "\t<li>'Asia/Bahrain'</li>\n",
       "\t<li>'Asia/Baku'</li>\n",
       "\t<li>'Asia/Bangkok'</li>\n",
       "\t<li>'Asia/Barnaul'</li>\n",
       "\t<li>'Asia/Beirut'</li>\n",
       "\t<li>'Asia/Bishkek'</li>\n",
       "\t<li>'Asia/Brunei'</li>\n",
       "\t<li>'Asia/Calcutta'</li>\n",
       "\t<li>'Asia/Chita'</li>\n",
       "\t<li>'Asia/Choibalsan'</li>\n",
       "\t<li>'Asia/Chongqing'</li>\n",
       "\t<li>'Asia/Chungking'</li>\n",
       "\t<li>'Asia/Colombo'</li>\n",
       "\t<li>'Asia/Dacca'</li>\n",
       "\t<li>'Asia/Damascus'</li>\n",
       "\t<li>'Asia/Dhaka'</li>\n",
       "\t<li>'Asia/Dili'</li>\n",
       "\t<li>'Asia/Dubai'</li>\n",
       "\t<li>'Asia/Dushanbe'</li>\n",
       "\t<li>'Asia/Famagusta'</li>\n",
       "\t<li>'Asia/Gaza'</li>\n",
       "\t<li>'Asia/Harbin'</li>\n",
       "\t<li>'Asia/Hebron'</li>\n",
       "\t<li>'Asia/Ho_Chi_Minh'</li>\n",
       "\t<li>'Asia/Hong_Kong'</li>\n",
       "\t<li>'Asia/Hovd'</li>\n",
       "\t<li>'Asia/Irkutsk'</li>\n",
       "\t<li>'Asia/Istanbul'</li>\n",
       "\t<li>'Asia/Jakarta'</li>\n",
       "\t<li>'Asia/Jayapura'</li>\n",
       "\t<li>'Asia/Jerusalem'</li>\n",
       "\t<li>'Asia/Kabul'</li>\n",
       "\t<li>'Asia/Kamchatka'</li>\n",
       "\t<li>'Asia/Karachi'</li>\n",
       "\t<li>'Asia/Kashgar'</li>\n",
       "\t<li>'Asia/Kathmandu'</li>\n",
       "\t<li>'Asia/Katmandu'</li>\n",
       "\t<li>'Asia/Khandyga'</li>\n",
       "\t<li>'Asia/Kolkata'</li>\n",
       "\t<li>'Asia/Krasnoyarsk'</li>\n",
       "\t<li>'Asia/Kuala_Lumpur'</li>\n",
       "\t<li>'Asia/Kuching'</li>\n",
       "\t<li>'Asia/Kuwait'</li>\n",
       "\t<li>'Asia/Macao'</li>\n",
       "\t<li>'Asia/Macau'</li>\n",
       "\t<li>'Asia/Magadan'</li>\n",
       "\t<li>'Asia/Makassar'</li>\n",
       "\t<li>'Asia/Manila'</li>\n",
       "\t<li>'Asia/Muscat'</li>\n",
       "\t<li>'Asia/Nicosia'</li>\n",
       "\t<li>'Asia/Novokuznetsk'</li>\n",
       "\t<li>'Asia/Novosibirsk'</li>\n",
       "\t<li>'Asia/Omsk'</li>\n",
       "\t<li>'Asia/Oral'</li>\n",
       "\t<li>'Asia/Phnom_Penh'</li>\n",
       "\t<li>'Asia/Pontianak'</li>\n",
       "\t<li>'Asia/Pyongyang'</li>\n",
       "\t<li>'Asia/Qatar'</li>\n",
       "\t<li>'Asia/Qyzylorda'</li>\n",
       "\t<li>'Asia/Rangoon'</li>\n",
       "\t<li>'Asia/Riyadh'</li>\n",
       "\t<li>'Asia/Saigon'</li>\n",
       "\t<li>'Asia/Sakhalin'</li>\n",
       "\t<li>'Asia/Samarkand'</li>\n",
       "\t<li>'Asia/Seoul'</li>\n",
       "\t<li>'Asia/Shanghai'</li>\n",
       "\t<li>'Asia/Singapore'</li>\n",
       "\t<li>'Asia/Srednekolymsk'</li>\n",
       "\t<li>'Asia/Taipei'</li>\n",
       "\t<li>'Asia/Tashkent'</li>\n",
       "\t<li>'Asia/Tbilisi'</li>\n",
       "\t<li>'Asia/Tehran'</li>\n",
       "\t<li>'Asia/Tel_Aviv'</li>\n",
       "\t<li>'Asia/Thimbu'</li>\n",
       "\t<li>'Asia/Thimphu'</li>\n",
       "\t<li>'Asia/Tokyo'</li>\n",
       "\t<li>'Asia/Tomsk'</li>\n",
       "\t<li>'Asia/Ujung_Pandang'</li>\n",
       "\t<li>'Asia/Ulaanbaatar'</li>\n",
       "\t<li>'Asia/Ulan_Bator'</li>\n",
       "\t<li>'Asia/Urumqi'</li>\n",
       "\t<li>'Asia/Ust-Nera'</li>\n",
       "\t<li>'Asia/Vientiane'</li>\n",
       "\t<li>'Asia/Vladivostok'</li>\n",
       "\t<li>'Asia/Yakutsk'</li>\n",
       "\t<li>'Asia/Yangon'</li>\n",
       "\t<li>'Asia/Yekaterinburg'</li>\n",
       "\t<li>'Asia/Yerevan'</li>\n",
       "\t<li>'Atlantic/Azores'</li>\n",
       "\t<li>'Atlantic/Bermuda'</li>\n",
       "\t<li>'Atlantic/Canary'</li>\n",
       "\t<li>'Atlantic/Cape_Verde'</li>\n",
       "\t<li>'Atlantic/Faeroe'</li>\n",
       "\t<li>'Atlantic/Faroe'</li>\n",
       "\t<li>'Atlantic/Jan_Mayen'</li>\n",
       "\t<li>'Atlantic/Madeira'</li>\n",
       "\t<li>'Atlantic/Reykjavik'</li>\n",
       "\t<li>'Atlantic/South_Georgia'</li>\n",
       "\t<li>'Atlantic/St_Helena'</li>\n",
       "\t<li>'Atlantic/Stanley'</li>\n",
       "\t<li>'Australia/ACT'</li>\n",
       "\t<li>'Australia/Adelaide'</li>\n",
       "\t<li>'Australia/Brisbane'</li>\n",
       "\t<li>'Australia/Broken_Hill'</li>\n",
       "\t<li>'Australia/Canberra'</li>\n",
       "\t<li>'Australia/Currie'</li>\n",
       "\t<li>'Australia/Darwin'</li>\n",
       "\t<li>'Australia/Eucla'</li>\n",
       "\t<li>'Australia/Hobart'</li>\n",
       "\t<li>'Australia/LHI'</li>\n",
       "\t<li>'Australia/Lindeman'</li>\n",
       "\t<li>'Australia/Lord_Howe'</li>\n",
       "\t<li>'Australia/Melbourne'</li>\n",
       "\t<li>'Australia/NSW'</li>\n",
       "\t<li>'Australia/North'</li>\n",
       "\t<li>'Australia/Perth'</li>\n",
       "\t<li>'Australia/Queensland'</li>\n",
       "\t<li>'Australia/South'</li>\n",
       "\t<li>'Australia/Sydney'</li>\n",
       "\t<li>'Australia/Tasmania'</li>\n",
       "\t<li>'Australia/Victoria'</li>\n",
       "\t<li>'Australia/West'</li>\n",
       "\t<li>'Australia/Yancowinna'</li>\n",
       "\t<li>'Brazil/Acre'</li>\n",
       "\t<li>'Brazil/DeNoronha'</li>\n",
       "\t<li>'Brazil/East'</li>\n",
       "\t<li>'Brazil/West'</li>\n",
       "\t<li>'CET'</li>\n",
       "\t<li>'CST6CDT'</li>\n",
       "\t<li>'Canada/Atlantic'</li>\n",
       "\t<li>'Canada/Central'</li>\n",
       "\t<li>'Canada/Eastern'</li>\n",
       "\t<li>'Canada/Mountain'</li>\n",
       "\t<li>'Canada/Newfoundland'</li>\n",
       "\t<li>'Canada/Pacific'</li>\n",
       "\t<li>'Canada/Saskatchewan'</li>\n",
       "\t<li>'Canada/Yukon'</li>\n",
       "\t<li>'Chile/Continental'</li>\n",
       "\t<li>'Chile/EasterIsland'</li>\n",
       "\t<li>'Cuba'</li>\n",
       "\t<li>'EET'</li>\n",
       "\t<li>'EST'</li>\n",
       "\t<li>'EST5EDT'</li>\n",
       "\t<li>'Egypt'</li>\n",
       "\t<li>'Eire'</li>\n",
       "\t<li>'Etc/GMT'</li>\n",
       "\t<li>'Etc/GMT+0'</li>\n",
       "\t<li>'Etc/GMT+1'</li>\n",
       "\t<li>'Etc/GMT+10'</li>\n",
       "\t<li>'Etc/GMT+11'</li>\n",
       "\t<li>'Etc/GMT+12'</li>\n",
       "\t<li>'Etc/GMT+2'</li>\n",
       "\t<li>'Etc/GMT+3'</li>\n",
       "\t<li>'Etc/GMT+4'</li>\n",
       "\t<li>'Etc/GMT+5'</li>\n",
       "\t<li>'Etc/GMT+6'</li>\n",
       "\t<li>'Etc/GMT+7'</li>\n",
       "\t<li>'Etc/GMT+8'</li>\n",
       "\t<li>'Etc/GMT+9'</li>\n",
       "\t<li>'Etc/GMT-0'</li>\n",
       "\t<li>'Etc/GMT-1'</li>\n",
       "\t<li>'Etc/GMT-10'</li>\n",
       "\t<li>'Etc/GMT-11'</li>\n",
       "\t<li>'Etc/GMT-12'</li>\n",
       "\t<li>'Etc/GMT-13'</li>\n",
       "\t<li>'Etc/GMT-14'</li>\n",
       "\t<li>'Etc/GMT-2'</li>\n",
       "\t<li>'Etc/GMT-3'</li>\n",
       "\t<li>'Etc/GMT-4'</li>\n",
       "\t<li>'Etc/GMT-5'</li>\n",
       "\t<li>'Etc/GMT-6'</li>\n",
       "\t<li>'Etc/GMT-7'</li>\n",
       "\t<li>'Etc/GMT-8'</li>\n",
       "\t<li>'Etc/GMT-9'</li>\n",
       "\t<li>'Etc/GMT0'</li>\n",
       "\t<li>'Etc/Greenwich'</li>\n",
       "\t<li>'Etc/UCT'</li>\n",
       "\t<li>'Etc/UTC'</li>\n",
       "\t<li>'Etc/Universal'</li>\n",
       "\t<li>'Etc/Zulu'</li>\n",
       "\t<li>'Europe/Amsterdam'</li>\n",
       "\t<li>'Europe/Andorra'</li>\n",
       "\t<li>'Europe/Astrakhan'</li>\n",
       "\t<li>'Europe/Athens'</li>\n",
       "\t<li>'Europe/Belfast'</li>\n",
       "\t<li>'Europe/Belgrade'</li>\n",
       "\t<li>'Europe/Berlin'</li>\n",
       "\t<li>'Europe/Bratislava'</li>\n",
       "\t<li>'Europe/Brussels'</li>\n",
       "\t<li>'Europe/Bucharest'</li>\n",
       "\t<li>'Europe/Budapest'</li>\n",
       "\t<li>'Europe/Busingen'</li>\n",
       "\t<li>'Europe/Chisinau'</li>\n",
       "\t<li>'Europe/Copenhagen'</li>\n",
       "\t<li>'Europe/Dublin'</li>\n",
       "\t<li>'Europe/Gibraltar'</li>\n",
       "\t<li>'Europe/Guernsey'</li>\n",
       "\t<li>'Europe/Helsinki'</li>\n",
       "\t<li>'Europe/Isle_of_Man'</li>\n",
       "\t<li>'Europe/Istanbul'</li>\n",
       "\t<li>'Europe/Jersey'</li>\n",
       "\t<li>'Europe/Kaliningrad'</li>\n",
       "\t<li>'Europe/Kiev'</li>\n",
       "\t<li>'Europe/Kirov'</li>\n",
       "\t<li>'Europe/Lisbon'</li>\n",
       "\t<li>'Europe/Ljubljana'</li>\n",
       "\t<li>'Europe/London'</li>\n",
       "\t<li>'Europe/Luxembourg'</li>\n",
       "\t<li>'Europe/Madrid'</li>\n",
       "\t<li>'Europe/Malta'</li>\n",
       "\t<li>'Europe/Mariehamn'</li>\n",
       "\t<li>'Europe/Minsk'</li>\n",
       "\t<li>'Europe/Monaco'</li>\n",
       "\t<li>'Europe/Moscow'</li>\n",
       "\t<li>'Europe/Nicosia'</li>\n",
       "\t<li>'Europe/Oslo'</li>\n",
       "\t<li>'Europe/Paris'</li>\n",
       "\t<li>'Europe/Podgorica'</li>\n",
       "\t<li>'Europe/Prague'</li>\n",
       "\t<li>'Europe/Riga'</li>\n",
       "\t<li>'Europe/Rome'</li>\n",
       "\t<li>'Europe/Samara'</li>\n",
       "\t<li>'Europe/San_Marino'</li>\n",
       "\t<li>'Europe/Sarajevo'</li>\n",
       "\t<li>'Europe/Saratov'</li>\n",
       "\t<li>'Europe/Simferopol'</li>\n",
       "\t<li>'Europe/Skopje'</li>\n",
       "\t<li>'Europe/Sofia'</li>\n",
       "\t<li>'Europe/Stockholm'</li>\n",
       "\t<li>'Europe/Tallinn'</li>\n",
       "\t<li>'Europe/Tirane'</li>\n",
       "\t<li>'Europe/Tiraspol'</li>\n",
       "\t<li>'Europe/Ulyanovsk'</li>\n",
       "\t<li>'Europe/Uzhgorod'</li>\n",
       "\t<li>'Europe/Vaduz'</li>\n",
       "\t<li>'Europe/Vatican'</li>\n",
       "\t<li>'Europe/Vienna'</li>\n",
       "\t<li>'Europe/Vilnius'</li>\n",
       "\t<li>'Europe/Volgograd'</li>\n",
       "\t<li>'Europe/Warsaw'</li>\n",
       "\t<li>'Europe/Zagreb'</li>\n",
       "\t<li>'Europe/Zaporozhye'</li>\n",
       "\t<li>'Europe/Zurich'</li>\n",
       "\t<li>'GB'</li>\n",
       "\t<li>'GB-Eire'</li>\n",
       "\t<li>'GMT'</li>\n",
       "\t<li>'GMT+0'</li>\n",
       "\t<li>'GMT-0'</li>\n",
       "\t<li>'GMT0'</li>\n",
       "\t<li>'Greenwich'</li>\n",
       "\t<li>'HST'</li>\n",
       "\t<li>'Hongkong'</li>\n",
       "\t<li>'Iceland'</li>\n",
       "\t<li>'Indian/Antananarivo'</li>\n",
       "\t<li>'Indian/Chagos'</li>\n",
       "\t<li>'Indian/Christmas'</li>\n",
       "\t<li>'Indian/Cocos'</li>\n",
       "\t<li>'Indian/Comoro'</li>\n",
       "\t<li>'Indian/Kerguelen'</li>\n",
       "\t<li>'Indian/Mahe'</li>\n",
       "\t<li>'Indian/Maldives'</li>\n",
       "\t<li>'Indian/Mauritius'</li>\n",
       "\t<li>'Indian/Mayotte'</li>\n",
       "\t<li>'Indian/Reunion'</li>\n",
       "\t<li>'Iran'</li>\n",
       "\t<li>'Israel'</li>\n",
       "\t<li>'Jamaica'</li>\n",
       "\t<li>'Japan'</li>\n",
       "\t<li>'Kwajalein'</li>\n",
       "\t<li>'Libya'</li>\n",
       "\t<li>'MET'</li>\n",
       "\t<li>'MST'</li>\n",
       "\t<li>'MST7MDT'</li>\n",
       "\t<li>'Mexico/BajaNorte'</li>\n",
       "\t<li>'Mexico/BajaSur'</li>\n",
       "\t<li>'Mexico/General'</li>\n",
       "\t<li>'NZ'</li>\n",
       "\t<li>'NZ-CHAT'</li>\n",
       "\t<li>'Navajo'</li>\n",
       "\t<li>'PRC'</li>\n",
       "\t<li>'PST8PDT'</li>\n",
       "\t<li>'Pacific/Apia'</li>\n",
       "\t<li>'Pacific/Auckland'</li>\n",
       "\t<li>'Pacific/Bougainville'</li>\n",
       "\t<li>'Pacific/Chatham'</li>\n",
       "\t<li>'Pacific/Chuuk'</li>\n",
       "\t<li>'Pacific/Easter'</li>\n",
       "\t<li>'Pacific/Efate'</li>\n",
       "\t<li>'Pacific/Enderbury'</li>\n",
       "\t<li>'Pacific/Fakaofo'</li>\n",
       "\t<li>'Pacific/Fiji'</li>\n",
       "\t<li>'Pacific/Funafuti'</li>\n",
       "\t<li>'Pacific/Galapagos'</li>\n",
       "\t<li>'Pacific/Gambier'</li>\n",
       "\t<li>'Pacific/Guadalcanal'</li>\n",
       "\t<li>'Pacific/Guam'</li>\n",
       "\t<li>'Pacific/Honolulu'</li>\n",
       "\t<li>'Pacific/Johnston'</li>\n",
       "\t<li>'Pacific/Kiritimati'</li>\n",
       "\t<li>'Pacific/Kosrae'</li>\n",
       "\t<li>'Pacific/Kwajalein'</li>\n",
       "\t<li>'Pacific/Majuro'</li>\n",
       "\t<li>'Pacific/Marquesas'</li>\n",
       "\t<li>'Pacific/Midway'</li>\n",
       "\t<li>'Pacific/Nauru'</li>\n",
       "\t<li>'Pacific/Niue'</li>\n",
       "\t<li>'Pacific/Norfolk'</li>\n",
       "\t<li>'Pacific/Noumea'</li>\n",
       "\t<li>'Pacific/Pago_Pago'</li>\n",
       "\t<li>'Pacific/Palau'</li>\n",
       "\t<li>'Pacific/Pitcairn'</li>\n",
       "\t<li>'Pacific/Pohnpei'</li>\n",
       "\t<li>'Pacific/Ponape'</li>\n",
       "\t<li>'Pacific/Port_Moresby'</li>\n",
       "\t<li>'Pacific/Rarotonga'</li>\n",
       "\t<li>'Pacific/Saipan'</li>\n",
       "\t<li>'Pacific/Samoa'</li>\n",
       "\t<li>'Pacific/Tahiti'</li>\n",
       "\t<li>'Pacific/Tarawa'</li>\n",
       "\t<li>'Pacific/Tongatapu'</li>\n",
       "\t<li>'Pacific/Truk'</li>\n",
       "\t<li>'Pacific/Wake'</li>\n",
       "\t<li>'Pacific/Wallis'</li>\n",
       "\t<li>'Pacific/Yap'</li>\n",
       "\t<li>'Poland'</li>\n",
       "\t<li>'Portugal'</li>\n",
       "\t<li>'ROC'</li>\n",
       "\t<li>'ROK'</li>\n",
       "\t<li>'Singapore'</li>\n",
       "\t<li>'Turkey'</li>\n",
       "\t<li>'UCT'</li>\n",
       "\t<li>'US/Alaska'</li>\n",
       "\t<li>'US/Aleutian'</li>\n",
       "\t<li>'US/Arizona'</li>\n",
       "\t<li>'US/Central'</li>\n",
       "\t<li>'US/East-Indiana'</li>\n",
       "\t<li>'US/Eastern'</li>\n",
       "\t<li>'US/Hawaii'</li>\n",
       "\t<li>'US/Indiana-Starke'</li>\n",
       "\t<li>'US/Michigan'</li>\n",
       "\t<li>'US/Mountain'</li>\n",
       "\t<li>'US/Pacific'</li>\n",
       "\t<li>'US/Pacific-New'</li>\n",
       "\t<li>'US/Samoa'</li>\n",
       "\t<li>'UTC'</li>\n",
       "\t<li>'Universal'</li>\n",
       "\t<li>'W-SU'</li>\n",
       "\t<li>'WET'</li>\n",
       "\t<li>'Zulu'</li>\n",
       "</ol>\n"
      ],
      "text/latex": [
       "\\begin{enumerate*}\n",
       "\\item 'Africa/Abidjan'\n",
       "\\item 'Africa/Accra'\n",
       "\\item 'Africa/Addis\\_Ababa'\n",
       "\\item 'Africa/Algiers'\n",
       "\\item 'Africa/Asmara'\n",
       "\\item 'Africa/Asmera'\n",
       "\\item 'Africa/Bamako'\n",
       "\\item 'Africa/Bangui'\n",
       "\\item 'Africa/Banjul'\n",
       "\\item 'Africa/Bissau'\n",
       "\\item 'Africa/Blantyre'\n",
       "\\item 'Africa/Brazzaville'\n",
       "\\item 'Africa/Bujumbura'\n",
       "\\item 'Africa/Cairo'\n",
       "\\item 'Africa/Casablanca'\n",
       "\\item 'Africa/Ceuta'\n",
       "\\item 'Africa/Conakry'\n",
       "\\item 'Africa/Dakar'\n",
       "\\item 'Africa/Dar\\_es\\_Salaam'\n",
       "\\item 'Africa/Djibouti'\n",
       "\\item 'Africa/Douala'\n",
       "\\item 'Africa/El\\_Aaiun'\n",
       "\\item 'Africa/Freetown'\n",
       "\\item 'Africa/Gaborone'\n",
       "\\item 'Africa/Harare'\n",
       "\\item 'Africa/Johannesburg'\n",
       "\\item 'Africa/Juba'\n",
       "\\item 'Africa/Kampala'\n",
       "\\item 'Africa/Khartoum'\n",
       "\\item 'Africa/Kigali'\n",
       "\\item 'Africa/Kinshasa'\n",
       "\\item 'Africa/Lagos'\n",
       "\\item 'Africa/Libreville'\n",
       "\\item 'Africa/Lome'\n",
       "\\item 'Africa/Luanda'\n",
       "\\item 'Africa/Lubumbashi'\n",
       "\\item 'Africa/Lusaka'\n",
       "\\item 'Africa/Malabo'\n",
       "\\item 'Africa/Maputo'\n",
       "\\item 'Africa/Maseru'\n",
       "\\item 'Africa/Mbabane'\n",
       "\\item 'Africa/Mogadishu'\n",
       "\\item 'Africa/Monrovia'\n",
       "\\item 'Africa/Nairobi'\n",
       "\\item 'Africa/Ndjamena'\n",
       "\\item 'Africa/Niamey'\n",
       "\\item 'Africa/Nouakchott'\n",
       "\\item 'Africa/Ouagadougou'\n",
       "\\item 'Africa/Porto-Novo'\n",
       "\\item 'Africa/Sao\\_Tome'\n",
       "\\item 'Africa/Timbuktu'\n",
       "\\item 'Africa/Tripoli'\n",
       "\\item 'Africa/Tunis'\n",
       "\\item 'Africa/Windhoek'\n",
       "\\item 'America/Adak'\n",
       "\\item 'America/Anchorage'\n",
       "\\item 'America/Anguilla'\n",
       "\\item 'America/Antigua'\n",
       "\\item 'America/Araguaina'\n",
       "\\item 'America/Argentina/Buenos\\_Aires'\n",
       "\\item 'America/Argentina/Catamarca'\n",
       "\\item 'America/Argentina/ComodRivadavia'\n",
       "\\item 'America/Argentina/Cordoba'\n",
       "\\item 'America/Argentina/Jujuy'\n",
       "\\item 'America/Argentina/La\\_Rioja'\n",
       "\\item 'America/Argentina/Mendoza'\n",
       "\\item 'America/Argentina/Rio\\_Gallegos'\n",
       "\\item 'America/Argentina/Salta'\n",
       "\\item 'America/Argentina/San\\_Juan'\n",
       "\\item 'America/Argentina/San\\_Luis'\n",
       "\\item 'America/Argentina/Tucuman'\n",
       "\\item 'America/Argentina/Ushuaia'\n",
       "\\item 'America/Aruba'\n",
       "\\item 'America/Asuncion'\n",
       "\\item 'America/Atikokan'\n",
       "\\item 'America/Atka'\n",
       "\\item 'America/Bahia'\n",
       "\\item 'America/Bahia\\_Banderas'\n",
       "\\item 'America/Barbados'\n",
       "\\item 'America/Belem'\n",
       "\\item 'America/Belize'\n",
       "\\item 'America/Blanc-Sablon'\n",
       "\\item 'America/Boa\\_Vista'\n",
       "\\item 'America/Bogota'\n",
       "\\item 'America/Boise'\n",
       "\\item 'America/Buenos\\_Aires'\n",
       "\\item 'America/Cambridge\\_Bay'\n",
       "\\item 'America/Campo\\_Grande'\n",
       "\\item 'America/Cancun'\n",
       "\\item 'America/Caracas'\n",
       "\\item 'America/Catamarca'\n",
       "\\item 'America/Cayenne'\n",
       "\\item 'America/Cayman'\n",
       "\\item 'America/Chicago'\n",
       "\\item 'America/Chihuahua'\n",
       "\\item 'America/Coral\\_Harbour'\n",
       "\\item 'America/Cordoba'\n",
       "\\item 'America/Costa\\_Rica'\n",
       "\\item 'America/Creston'\n",
       "\\item 'America/Cuiaba'\n",
       "\\item 'America/Curacao'\n",
       "\\item 'America/Danmarkshavn'\n",
       "\\item 'America/Dawson'\n",
       "\\item 'America/Dawson\\_Creek'\n",
       "\\item 'America/Denver'\n",
       "\\item 'America/Detroit'\n",
       "\\item 'America/Dominica'\n",
       "\\item 'America/Edmonton'\n",
       "\\item 'America/Eirunepe'\n",
       "\\item 'America/El\\_Salvador'\n",
       "\\item 'America/Ensenada'\n",
       "\\item 'America/Fort\\_Nelson'\n",
       "\\item 'America/Fort\\_Wayne'\n",
       "\\item 'America/Fortaleza'\n",
       "\\item 'America/Glace\\_Bay'\n",
       "\\item 'America/Godthab'\n",
       "\\item 'America/Goose\\_Bay'\n",
       "\\item 'America/Grand\\_Turk'\n",
       "\\item 'America/Grenada'\n",
       "\\item 'America/Guadeloupe'\n",
       "\\item 'America/Guatemala'\n",
       "\\item 'America/Guayaquil'\n",
       "\\item 'America/Guyana'\n",
       "\\item 'America/Halifax'\n",
       "\\item 'America/Havana'\n",
       "\\item 'America/Hermosillo'\n",
       "\\item 'America/Indiana/Indianapolis'\n",
       "\\item 'America/Indiana/Knox'\n",
       "\\item 'America/Indiana/Marengo'\n",
       "\\item 'America/Indiana/Petersburg'\n",
       "\\item 'America/Indiana/Tell\\_City'\n",
       "\\item 'America/Indiana/Vevay'\n",
       "\\item 'America/Indiana/Vincennes'\n",
       "\\item 'America/Indiana/Winamac'\n",
       "\\item 'America/Indianapolis'\n",
       "\\item 'America/Inuvik'\n",
       "\\item 'America/Iqaluit'\n",
       "\\item 'America/Jamaica'\n",
       "\\item 'America/Jujuy'\n",
       "\\item 'America/Juneau'\n",
       "\\item 'America/Kentucky/Louisville'\n",
       "\\item 'America/Kentucky/Monticello'\n",
       "\\item 'America/Knox\\_IN'\n",
       "\\item 'America/Kralendijk'\n",
       "\\item 'America/La\\_Paz'\n",
       "\\item 'America/Lima'\n",
       "\\item 'America/Los\\_Angeles'\n",
       "\\item 'America/Louisville'\n",
       "\\item 'America/Lower\\_Princes'\n",
       "\\item 'America/Maceio'\n",
       "\\item 'America/Managua'\n",
       "\\item 'America/Manaus'\n",
       "\\item 'America/Marigot'\n",
       "\\item 'America/Martinique'\n",
       "\\item 'America/Matamoros'\n",
       "\\item 'America/Mazatlan'\n",
       "\\item 'America/Mendoza'\n",
       "\\item 'America/Menominee'\n",
       "\\item 'America/Merida'\n",
       "\\item 'America/Metlakatla'\n",
       "\\item 'America/Mexico\\_City'\n",
       "\\item 'America/Miquelon'\n",
       "\\item 'America/Moncton'\n",
       "\\item 'America/Monterrey'\n",
       "\\item 'America/Montevideo'\n",
       "\\item 'America/Montreal'\n",
       "\\item 'America/Montserrat'\n",
       "\\item 'America/Nassau'\n",
       "\\item 'America/New\\_York'\n",
       "\\item 'America/Nipigon'\n",
       "\\item 'America/Nome'\n",
       "\\item 'America/Noronha'\n",
       "\\item 'America/North\\_Dakota/Beulah'\n",
       "\\item 'America/North\\_Dakota/Center'\n",
       "\\item 'America/North\\_Dakota/New\\_Salem'\n",
       "\\item 'America/Ojinaga'\n",
       "\\item 'America/Panama'\n",
       "\\item 'America/Pangnirtung'\n",
       "\\item 'America/Paramaribo'\n",
       "\\item 'America/Phoenix'\n",
       "\\item 'America/Port-au-Prince'\n",
       "\\item 'America/Port\\_of\\_Spain'\n",
       "\\item 'America/Porto\\_Acre'\n",
       "\\item 'America/Porto\\_Velho'\n",
       "\\item 'America/Puerto\\_Rico'\n",
       "\\item 'America/Punta\\_Arenas'\n",
       "\\item 'America/Rainy\\_River'\n",
       "\\item 'America/Rankin\\_Inlet'\n",
       "\\item 'America/Recife'\n",
       "\\item 'America/Regina'\n",
       "\\item 'America/Resolute'\n",
       "\\item 'America/Rio\\_Branco'\n",
       "\\item 'America/Rosario'\n",
       "\\item 'America/Santa\\_Isabel'\n",
       "\\item 'America/Santarem'\n",
       "\\item 'America/Santiago'\n",
       "\\item 'America/Santo\\_Domingo'\n",
       "\\item 'America/Sao\\_Paulo'\n",
       "\\item 'America/Scoresbysund'\n",
       "\\item 'America/Shiprock'\n",
       "\\item 'America/Sitka'\n",
       "\\item 'America/St\\_Barthelemy'\n",
       "\\item 'America/St\\_Johns'\n",
       "\\item 'America/St\\_Kitts'\n",
       "\\item 'America/St\\_Lucia'\n",
       "\\item 'America/St\\_Thomas'\n",
       "\\item 'America/St\\_Vincent'\n",
       "\\item 'America/Swift\\_Current'\n",
       "\\item 'America/Tegucigalpa'\n",
       "\\item 'America/Thule'\n",
       "\\item 'America/Thunder\\_Bay'\n",
       "\\item 'America/Tijuana'\n",
       "\\item 'America/Toronto'\n",
       "\\item 'America/Tortola'\n",
       "\\item 'America/Vancouver'\n",
       "\\item 'America/Virgin'\n",
       "\\item 'America/Whitehorse'\n",
       "\\item 'America/Winnipeg'\n",
       "\\item 'America/Yakutat'\n",
       "\\item 'America/Yellowknife'\n",
       "\\item 'Antarctica/Casey'\n",
       "\\item 'Antarctica/Davis'\n",
       "\\item 'Antarctica/DumontDUrville'\n",
       "\\item 'Antarctica/Macquarie'\n",
       "\\item 'Antarctica/Mawson'\n",
       "\\item 'Antarctica/McMurdo'\n",
       "\\item 'Antarctica/Palmer'\n",
       "\\item 'Antarctica/Rothera'\n",
       "\\item 'Antarctica/South\\_Pole'\n",
       "\\item 'Antarctica/Syowa'\n",
       "\\item 'Antarctica/Troll'\n",
       "\\item 'Antarctica/Vostok'\n",
       "\\item 'Arctic/Longyearbyen'\n",
       "\\item 'Asia/Aden'\n",
       "\\item 'Asia/Almaty'\n",
       "\\item 'Asia/Amman'\n",
       "\\item 'Asia/Anadyr'\n",
       "\\item 'Asia/Aqtau'\n",
       "\\item 'Asia/Aqtobe'\n",
       "\\item 'Asia/Ashgabat'\n",
       "\\item 'Asia/Ashkhabad'\n",
       "\\item 'Asia/Atyrau'\n",
       "\\item 'Asia/Baghdad'\n",
       "\\item 'Asia/Bahrain'\n",
       "\\item 'Asia/Baku'\n",
       "\\item 'Asia/Bangkok'\n",
       "\\item 'Asia/Barnaul'\n",
       "\\item 'Asia/Beirut'\n",
       "\\item 'Asia/Bishkek'\n",
       "\\item 'Asia/Brunei'\n",
       "\\item 'Asia/Calcutta'\n",
       "\\item 'Asia/Chita'\n",
       "\\item 'Asia/Choibalsan'\n",
       "\\item 'Asia/Chongqing'\n",
       "\\item 'Asia/Chungking'\n",
       "\\item 'Asia/Colombo'\n",
       "\\item 'Asia/Dacca'\n",
       "\\item 'Asia/Damascus'\n",
       "\\item 'Asia/Dhaka'\n",
       "\\item 'Asia/Dili'\n",
       "\\item 'Asia/Dubai'\n",
       "\\item 'Asia/Dushanbe'\n",
       "\\item 'Asia/Famagusta'\n",
       "\\item 'Asia/Gaza'\n",
       "\\item 'Asia/Harbin'\n",
       "\\item 'Asia/Hebron'\n",
       "\\item 'Asia/Ho\\_Chi\\_Minh'\n",
       "\\item 'Asia/Hong\\_Kong'\n",
       "\\item 'Asia/Hovd'\n",
       "\\item 'Asia/Irkutsk'\n",
       "\\item 'Asia/Istanbul'\n",
       "\\item 'Asia/Jakarta'\n",
       "\\item 'Asia/Jayapura'\n",
       "\\item 'Asia/Jerusalem'\n",
       "\\item 'Asia/Kabul'\n",
       "\\item 'Asia/Kamchatka'\n",
       "\\item 'Asia/Karachi'\n",
       "\\item 'Asia/Kashgar'\n",
       "\\item 'Asia/Kathmandu'\n",
       "\\item 'Asia/Katmandu'\n",
       "\\item 'Asia/Khandyga'\n",
       "\\item 'Asia/Kolkata'\n",
       "\\item 'Asia/Krasnoyarsk'\n",
       "\\item 'Asia/Kuala\\_Lumpur'\n",
       "\\item 'Asia/Kuching'\n",
       "\\item 'Asia/Kuwait'\n",
       "\\item 'Asia/Macao'\n",
       "\\item 'Asia/Macau'\n",
       "\\item 'Asia/Magadan'\n",
       "\\item 'Asia/Makassar'\n",
       "\\item 'Asia/Manila'\n",
       "\\item 'Asia/Muscat'\n",
       "\\item 'Asia/Nicosia'\n",
       "\\item 'Asia/Novokuznetsk'\n",
       "\\item 'Asia/Novosibirsk'\n",
       "\\item 'Asia/Omsk'\n",
       "\\item 'Asia/Oral'\n",
       "\\item 'Asia/Phnom\\_Penh'\n",
       "\\item 'Asia/Pontianak'\n",
       "\\item 'Asia/Pyongyang'\n",
       "\\item 'Asia/Qatar'\n",
       "\\item 'Asia/Qyzylorda'\n",
       "\\item 'Asia/Rangoon'\n",
       "\\item 'Asia/Riyadh'\n",
       "\\item 'Asia/Saigon'\n",
       "\\item 'Asia/Sakhalin'\n",
       "\\item 'Asia/Samarkand'\n",
       "\\item 'Asia/Seoul'\n",
       "\\item 'Asia/Shanghai'\n",
       "\\item 'Asia/Singapore'\n",
       "\\item 'Asia/Srednekolymsk'\n",
       "\\item 'Asia/Taipei'\n",
       "\\item 'Asia/Tashkent'\n",
       "\\item 'Asia/Tbilisi'\n",
       "\\item 'Asia/Tehran'\n",
       "\\item 'Asia/Tel\\_Aviv'\n",
       "\\item 'Asia/Thimbu'\n",
       "\\item 'Asia/Thimphu'\n",
       "\\item 'Asia/Tokyo'\n",
       "\\item 'Asia/Tomsk'\n",
       "\\item 'Asia/Ujung\\_Pandang'\n",
       "\\item 'Asia/Ulaanbaatar'\n",
       "\\item 'Asia/Ulan\\_Bator'\n",
       "\\item 'Asia/Urumqi'\n",
       "\\item 'Asia/Ust-Nera'\n",
       "\\item 'Asia/Vientiane'\n",
       "\\item 'Asia/Vladivostok'\n",
       "\\item 'Asia/Yakutsk'\n",
       "\\item 'Asia/Yangon'\n",
       "\\item 'Asia/Yekaterinburg'\n",
       "\\item 'Asia/Yerevan'\n",
       "\\item 'Atlantic/Azores'\n",
       "\\item 'Atlantic/Bermuda'\n",
       "\\item 'Atlantic/Canary'\n",
       "\\item 'Atlantic/Cape\\_Verde'\n",
       "\\item 'Atlantic/Faeroe'\n",
       "\\item 'Atlantic/Faroe'\n",
       "\\item 'Atlantic/Jan\\_Mayen'\n",
       "\\item 'Atlantic/Madeira'\n",
       "\\item 'Atlantic/Reykjavik'\n",
       "\\item 'Atlantic/South\\_Georgia'\n",
       "\\item 'Atlantic/St\\_Helena'\n",
       "\\item 'Atlantic/Stanley'\n",
       "\\item 'Australia/ACT'\n",
       "\\item 'Australia/Adelaide'\n",
       "\\item 'Australia/Brisbane'\n",
       "\\item 'Australia/Broken\\_Hill'\n",
       "\\item 'Australia/Canberra'\n",
       "\\item 'Australia/Currie'\n",
       "\\item 'Australia/Darwin'\n",
       "\\item 'Australia/Eucla'\n",
       "\\item 'Australia/Hobart'\n",
       "\\item 'Australia/LHI'\n",
       "\\item 'Australia/Lindeman'\n",
       "\\item 'Australia/Lord\\_Howe'\n",
       "\\item 'Australia/Melbourne'\n",
       "\\item 'Australia/NSW'\n",
       "\\item 'Australia/North'\n",
       "\\item 'Australia/Perth'\n",
       "\\item 'Australia/Queensland'\n",
       "\\item 'Australia/South'\n",
       "\\item 'Australia/Sydney'\n",
       "\\item 'Australia/Tasmania'\n",
       "\\item 'Australia/Victoria'\n",
       "\\item 'Australia/West'\n",
       "\\item 'Australia/Yancowinna'\n",
       "\\item 'Brazil/Acre'\n",
       "\\item 'Brazil/DeNoronha'\n",
       "\\item 'Brazil/East'\n",
       "\\item 'Brazil/West'\n",
       "\\item 'CET'\n",
       "\\item 'CST6CDT'\n",
       "\\item 'Canada/Atlantic'\n",
       "\\item 'Canada/Central'\n",
       "\\item 'Canada/Eastern'\n",
       "\\item 'Canada/Mountain'\n",
       "\\item 'Canada/Newfoundland'\n",
       "\\item 'Canada/Pacific'\n",
       "\\item 'Canada/Saskatchewan'\n",
       "\\item 'Canada/Yukon'\n",
       "\\item 'Chile/Continental'\n",
       "\\item 'Chile/EasterIsland'\n",
       "\\item 'Cuba'\n",
       "\\item 'EET'\n",
       "\\item 'EST'\n",
       "\\item 'EST5EDT'\n",
       "\\item 'Egypt'\n",
       "\\item 'Eire'\n",
       "\\item 'Etc/GMT'\n",
       "\\item 'Etc/GMT+0'\n",
       "\\item 'Etc/GMT+1'\n",
       "\\item 'Etc/GMT+10'\n",
       "\\item 'Etc/GMT+11'\n",
       "\\item 'Etc/GMT+12'\n",
       "\\item 'Etc/GMT+2'\n",
       "\\item 'Etc/GMT+3'\n",
       "\\item 'Etc/GMT+4'\n",
       "\\item 'Etc/GMT+5'\n",
       "\\item 'Etc/GMT+6'\n",
       "\\item 'Etc/GMT+7'\n",
       "\\item 'Etc/GMT+8'\n",
       "\\item 'Etc/GMT+9'\n",
       "\\item 'Etc/GMT-0'\n",
       "\\item 'Etc/GMT-1'\n",
       "\\item 'Etc/GMT-10'\n",
       "\\item 'Etc/GMT-11'\n",
       "\\item 'Etc/GMT-12'\n",
       "\\item 'Etc/GMT-13'\n",
       "\\item 'Etc/GMT-14'\n",
       "\\item 'Etc/GMT-2'\n",
       "\\item 'Etc/GMT-3'\n",
       "\\item 'Etc/GMT-4'\n",
       "\\item 'Etc/GMT-5'\n",
       "\\item 'Etc/GMT-6'\n",
       "\\item 'Etc/GMT-7'\n",
       "\\item 'Etc/GMT-8'\n",
       "\\item 'Etc/GMT-9'\n",
       "\\item 'Etc/GMT0'\n",
       "\\item 'Etc/Greenwich'\n",
       "\\item 'Etc/UCT'\n",
       "\\item 'Etc/UTC'\n",
       "\\item 'Etc/Universal'\n",
       "\\item 'Etc/Zulu'\n",
       "\\item 'Europe/Amsterdam'\n",
       "\\item 'Europe/Andorra'\n",
       "\\item 'Europe/Astrakhan'\n",
       "\\item 'Europe/Athens'\n",
       "\\item 'Europe/Belfast'\n",
       "\\item 'Europe/Belgrade'\n",
       "\\item 'Europe/Berlin'\n",
       "\\item 'Europe/Bratislava'\n",
       "\\item 'Europe/Brussels'\n",
       "\\item 'Europe/Bucharest'\n",
       "\\item 'Europe/Budapest'\n",
       "\\item 'Europe/Busingen'\n",
       "\\item 'Europe/Chisinau'\n",
       "\\item 'Europe/Copenhagen'\n",
       "\\item 'Europe/Dublin'\n",
       "\\item 'Europe/Gibraltar'\n",
       "\\item 'Europe/Guernsey'\n",
       "\\item 'Europe/Helsinki'\n",
       "\\item 'Europe/Isle\\_of\\_Man'\n",
       "\\item 'Europe/Istanbul'\n",
       "\\item 'Europe/Jersey'\n",
       "\\item 'Europe/Kaliningrad'\n",
       "\\item 'Europe/Kiev'\n",
       "\\item 'Europe/Kirov'\n",
       "\\item 'Europe/Lisbon'\n",
       "\\item 'Europe/Ljubljana'\n",
       "\\item 'Europe/London'\n",
       "\\item 'Europe/Luxembourg'\n",
       "\\item 'Europe/Madrid'\n",
       "\\item 'Europe/Malta'\n",
       "\\item 'Europe/Mariehamn'\n",
       "\\item 'Europe/Minsk'\n",
       "\\item 'Europe/Monaco'\n",
       "\\item 'Europe/Moscow'\n",
       "\\item 'Europe/Nicosia'\n",
       "\\item 'Europe/Oslo'\n",
       "\\item 'Europe/Paris'\n",
       "\\item 'Europe/Podgorica'\n",
       "\\item 'Europe/Prague'\n",
       "\\item 'Europe/Riga'\n",
       "\\item 'Europe/Rome'\n",
       "\\item 'Europe/Samara'\n",
       "\\item 'Europe/San\\_Marino'\n",
       "\\item 'Europe/Sarajevo'\n",
       "\\item 'Europe/Saratov'\n",
       "\\item 'Europe/Simferopol'\n",
       "\\item 'Europe/Skopje'\n",
       "\\item 'Europe/Sofia'\n",
       "\\item 'Europe/Stockholm'\n",
       "\\item 'Europe/Tallinn'\n",
       "\\item 'Europe/Tirane'\n",
       "\\item 'Europe/Tiraspol'\n",
       "\\item 'Europe/Ulyanovsk'\n",
       "\\item 'Europe/Uzhgorod'\n",
       "\\item 'Europe/Vaduz'\n",
       "\\item 'Europe/Vatican'\n",
       "\\item 'Europe/Vienna'\n",
       "\\item 'Europe/Vilnius'\n",
       "\\item 'Europe/Volgograd'\n",
       "\\item 'Europe/Warsaw'\n",
       "\\item 'Europe/Zagreb'\n",
       "\\item 'Europe/Zaporozhye'\n",
       "\\item 'Europe/Zurich'\n",
       "\\item 'GB'\n",
       "\\item 'GB-Eire'\n",
       "\\item 'GMT'\n",
       "\\item 'GMT+0'\n",
       "\\item 'GMT-0'\n",
       "\\item 'GMT0'\n",
       "\\item 'Greenwich'\n",
       "\\item 'HST'\n",
       "\\item 'Hongkong'\n",
       "\\item 'Iceland'\n",
       "\\item 'Indian/Antananarivo'\n",
       "\\item 'Indian/Chagos'\n",
       "\\item 'Indian/Christmas'\n",
       "\\item 'Indian/Cocos'\n",
       "\\item 'Indian/Comoro'\n",
       "\\item 'Indian/Kerguelen'\n",
       "\\item 'Indian/Mahe'\n",
       "\\item 'Indian/Maldives'\n",
       "\\item 'Indian/Mauritius'\n",
       "\\item 'Indian/Mayotte'\n",
       "\\item 'Indian/Reunion'\n",
       "\\item 'Iran'\n",
       "\\item 'Israel'\n",
       "\\item 'Jamaica'\n",
       "\\item 'Japan'\n",
       "\\item 'Kwajalein'\n",
       "\\item 'Libya'\n",
       "\\item 'MET'\n",
       "\\item 'MST'\n",
       "\\item 'MST7MDT'\n",
       "\\item 'Mexico/BajaNorte'\n",
       "\\item 'Mexico/BajaSur'\n",
       "\\item 'Mexico/General'\n",
       "\\item 'NZ'\n",
       "\\item 'NZ-CHAT'\n",
       "\\item 'Navajo'\n",
       "\\item 'PRC'\n",
       "\\item 'PST8PDT'\n",
       "\\item 'Pacific/Apia'\n",
       "\\item 'Pacific/Auckland'\n",
       "\\item 'Pacific/Bougainville'\n",
       "\\item 'Pacific/Chatham'\n",
       "\\item 'Pacific/Chuuk'\n",
       "\\item 'Pacific/Easter'\n",
       "\\item 'Pacific/Efate'\n",
       "\\item 'Pacific/Enderbury'\n",
       "\\item 'Pacific/Fakaofo'\n",
       "\\item 'Pacific/Fiji'\n",
       "\\item 'Pacific/Funafuti'\n",
       "\\item 'Pacific/Galapagos'\n",
       "\\item 'Pacific/Gambier'\n",
       "\\item 'Pacific/Guadalcanal'\n",
       "\\item 'Pacific/Guam'\n",
       "\\item 'Pacific/Honolulu'\n",
       "\\item 'Pacific/Johnston'\n",
       "\\item 'Pacific/Kiritimati'\n",
       "\\item 'Pacific/Kosrae'\n",
       "\\item 'Pacific/Kwajalein'\n",
       "\\item 'Pacific/Majuro'\n",
       "\\item 'Pacific/Marquesas'\n",
       "\\item 'Pacific/Midway'\n",
       "\\item 'Pacific/Nauru'\n",
       "\\item 'Pacific/Niue'\n",
       "\\item 'Pacific/Norfolk'\n",
       "\\item 'Pacific/Noumea'\n",
       "\\item 'Pacific/Pago\\_Pago'\n",
       "\\item 'Pacific/Palau'\n",
       "\\item 'Pacific/Pitcairn'\n",
       "\\item 'Pacific/Pohnpei'\n",
       "\\item 'Pacific/Ponape'\n",
       "\\item 'Pacific/Port\\_Moresby'\n",
       "\\item 'Pacific/Rarotonga'\n",
       "\\item 'Pacific/Saipan'\n",
       "\\item 'Pacific/Samoa'\n",
       "\\item 'Pacific/Tahiti'\n",
       "\\item 'Pacific/Tarawa'\n",
       "\\item 'Pacific/Tongatapu'\n",
       "\\item 'Pacific/Truk'\n",
       "\\item 'Pacific/Wake'\n",
       "\\item 'Pacific/Wallis'\n",
       "\\item 'Pacific/Yap'\n",
       "\\item 'Poland'\n",
       "\\item 'Portugal'\n",
       "\\item 'ROC'\n",
       "\\item 'ROK'\n",
       "\\item 'Singapore'\n",
       "\\item 'Turkey'\n",
       "\\item 'UCT'\n",
       "\\item 'US/Alaska'\n",
       "\\item 'US/Aleutian'\n",
       "\\item 'US/Arizona'\n",
       "\\item 'US/Central'\n",
       "\\item 'US/East-Indiana'\n",
       "\\item 'US/Eastern'\n",
       "\\item 'US/Hawaii'\n",
       "\\item 'US/Indiana-Starke'\n",
       "\\item 'US/Michigan'\n",
       "\\item 'US/Mountain'\n",
       "\\item 'US/Pacific'\n",
       "\\item 'US/Pacific-New'\n",
       "\\item 'US/Samoa'\n",
       "\\item 'UTC'\n",
       "\\item 'Universal'\n",
       "\\item 'W-SU'\n",
       "\\item 'WET'\n",
       "\\item 'Zulu'\n",
       "\\end{enumerate*}\n"
      ],
      "text/markdown": [
       "1. 'Africa/Abidjan'\n",
       "2. 'Africa/Accra'\n",
       "3. 'Africa/Addis_Ababa'\n",
       "4. 'Africa/Algiers'\n",
       "5. 'Africa/Asmara'\n",
       "6. 'Africa/Asmera'\n",
       "7. 'Africa/Bamako'\n",
       "8. 'Africa/Bangui'\n",
       "9. 'Africa/Banjul'\n",
       "10. 'Africa/Bissau'\n",
       "11. 'Africa/Blantyre'\n",
       "12. 'Africa/Brazzaville'\n",
       "13. 'Africa/Bujumbura'\n",
       "14. 'Africa/Cairo'\n",
       "15. 'Africa/Casablanca'\n",
       "16. 'Africa/Ceuta'\n",
       "17. 'Africa/Conakry'\n",
       "18. 'Africa/Dakar'\n",
       "19. 'Africa/Dar_es_Salaam'\n",
       "20. 'Africa/Djibouti'\n",
       "21. 'Africa/Douala'\n",
       "22. 'Africa/El_Aaiun'\n",
       "23. 'Africa/Freetown'\n",
       "24. 'Africa/Gaborone'\n",
       "25. 'Africa/Harare'\n",
       "26. 'Africa/Johannesburg'\n",
       "27. 'Africa/Juba'\n",
       "28. 'Africa/Kampala'\n",
       "29. 'Africa/Khartoum'\n",
       "30. 'Africa/Kigali'\n",
       "31. 'Africa/Kinshasa'\n",
       "32. 'Africa/Lagos'\n",
       "33. 'Africa/Libreville'\n",
       "34. 'Africa/Lome'\n",
       "35. 'Africa/Luanda'\n",
       "36. 'Africa/Lubumbashi'\n",
       "37. 'Africa/Lusaka'\n",
       "38. 'Africa/Malabo'\n",
       "39. 'Africa/Maputo'\n",
       "40. 'Africa/Maseru'\n",
       "41. 'Africa/Mbabane'\n",
       "42. 'Africa/Mogadishu'\n",
       "43. 'Africa/Monrovia'\n",
       "44. 'Africa/Nairobi'\n",
       "45. 'Africa/Ndjamena'\n",
       "46. 'Africa/Niamey'\n",
       "47. 'Africa/Nouakchott'\n",
       "48. 'Africa/Ouagadougou'\n",
       "49. 'Africa/Porto-Novo'\n",
       "50. 'Africa/Sao_Tome'\n",
       "51. 'Africa/Timbuktu'\n",
       "52. 'Africa/Tripoli'\n",
       "53. 'Africa/Tunis'\n",
       "54. 'Africa/Windhoek'\n",
       "55. 'America/Adak'\n",
       "56. 'America/Anchorage'\n",
       "57. 'America/Anguilla'\n",
       "58. 'America/Antigua'\n",
       "59. 'America/Araguaina'\n",
       "60. 'America/Argentina/Buenos_Aires'\n",
       "61. 'America/Argentina/Catamarca'\n",
       "62. 'America/Argentina/ComodRivadavia'\n",
       "63. 'America/Argentina/Cordoba'\n",
       "64. 'America/Argentina/Jujuy'\n",
       "65. 'America/Argentina/La_Rioja'\n",
       "66. 'America/Argentina/Mendoza'\n",
       "67. 'America/Argentina/Rio_Gallegos'\n",
       "68. 'America/Argentina/Salta'\n",
       "69. 'America/Argentina/San_Juan'\n",
       "70. 'America/Argentina/San_Luis'\n",
       "71. 'America/Argentina/Tucuman'\n",
       "72. 'America/Argentina/Ushuaia'\n",
       "73. 'America/Aruba'\n",
       "74. 'America/Asuncion'\n",
       "75. 'America/Atikokan'\n",
       "76. 'America/Atka'\n",
       "77. 'America/Bahia'\n",
       "78. 'America/Bahia_Banderas'\n",
       "79. 'America/Barbados'\n",
       "80. 'America/Belem'\n",
       "81. 'America/Belize'\n",
       "82. 'America/Blanc-Sablon'\n",
       "83. 'America/Boa_Vista'\n",
       "84. 'America/Bogota'\n",
       "85. 'America/Boise'\n",
       "86. 'America/Buenos_Aires'\n",
       "87. 'America/Cambridge_Bay'\n",
       "88. 'America/Campo_Grande'\n",
       "89. 'America/Cancun'\n",
       "90. 'America/Caracas'\n",
       "91. 'America/Catamarca'\n",
       "92. 'America/Cayenne'\n",
       "93. 'America/Cayman'\n",
       "94. 'America/Chicago'\n",
       "95. 'America/Chihuahua'\n",
       "96. 'America/Coral_Harbour'\n",
       "97. 'America/Cordoba'\n",
       "98. 'America/Costa_Rica'\n",
       "99. 'America/Creston'\n",
       "100. 'America/Cuiaba'\n",
       "101. 'America/Curacao'\n",
       "102. 'America/Danmarkshavn'\n",
       "103. 'America/Dawson'\n",
       "104. 'America/Dawson_Creek'\n",
       "105. 'America/Denver'\n",
       "106. 'America/Detroit'\n",
       "107. 'America/Dominica'\n",
       "108. 'America/Edmonton'\n",
       "109. 'America/Eirunepe'\n",
       "110. 'America/El_Salvador'\n",
       "111. 'America/Ensenada'\n",
       "112. 'America/Fort_Nelson'\n",
       "113. 'America/Fort_Wayne'\n",
       "114. 'America/Fortaleza'\n",
       "115. 'America/Glace_Bay'\n",
       "116. 'America/Godthab'\n",
       "117. 'America/Goose_Bay'\n",
       "118. 'America/Grand_Turk'\n",
       "119. 'America/Grenada'\n",
       "120. 'America/Guadeloupe'\n",
       "121. 'America/Guatemala'\n",
       "122. 'America/Guayaquil'\n",
       "123. 'America/Guyana'\n",
       "124. 'America/Halifax'\n",
       "125. 'America/Havana'\n",
       "126. 'America/Hermosillo'\n",
       "127. 'America/Indiana/Indianapolis'\n",
       "128. 'America/Indiana/Knox'\n",
       "129. 'America/Indiana/Marengo'\n",
       "130. 'America/Indiana/Petersburg'\n",
       "131. 'America/Indiana/Tell_City'\n",
       "132. 'America/Indiana/Vevay'\n",
       "133. 'America/Indiana/Vincennes'\n",
       "134. 'America/Indiana/Winamac'\n",
       "135. 'America/Indianapolis'\n",
       "136. 'America/Inuvik'\n",
       "137. 'America/Iqaluit'\n",
       "138. 'America/Jamaica'\n",
       "139. 'America/Jujuy'\n",
       "140. 'America/Juneau'\n",
       "141. 'America/Kentucky/Louisville'\n",
       "142. 'America/Kentucky/Monticello'\n",
       "143. 'America/Knox_IN'\n",
       "144. 'America/Kralendijk'\n",
       "145. 'America/La_Paz'\n",
       "146. 'America/Lima'\n",
       "147. 'America/Los_Angeles'\n",
       "148. 'America/Louisville'\n",
       "149. 'America/Lower_Princes'\n",
       "150. 'America/Maceio'\n",
       "151. 'America/Managua'\n",
       "152. 'America/Manaus'\n",
       "153. 'America/Marigot'\n",
       "154. 'America/Martinique'\n",
       "155. 'America/Matamoros'\n",
       "156. 'America/Mazatlan'\n",
       "157. 'America/Mendoza'\n",
       "158. 'America/Menominee'\n",
       "159. 'America/Merida'\n",
       "160. 'America/Metlakatla'\n",
       "161. 'America/Mexico_City'\n",
       "162. 'America/Miquelon'\n",
       "163. 'America/Moncton'\n",
       "164. 'America/Monterrey'\n",
       "165. 'America/Montevideo'\n",
       "166. 'America/Montreal'\n",
       "167. 'America/Montserrat'\n",
       "168. 'America/Nassau'\n",
       "169. 'America/New_York'\n",
       "170. 'America/Nipigon'\n",
       "171. 'America/Nome'\n",
       "172. 'America/Noronha'\n",
       "173. 'America/North_Dakota/Beulah'\n",
       "174. 'America/North_Dakota/Center'\n",
       "175. 'America/North_Dakota/New_Salem'\n",
       "176. 'America/Ojinaga'\n",
       "177. 'America/Panama'\n",
       "178. 'America/Pangnirtung'\n",
       "179. 'America/Paramaribo'\n",
       "180. 'America/Phoenix'\n",
       "181. 'America/Port-au-Prince'\n",
       "182. 'America/Port_of_Spain'\n",
       "183. 'America/Porto_Acre'\n",
       "184. 'America/Porto_Velho'\n",
       "185. 'America/Puerto_Rico'\n",
       "186. 'America/Punta_Arenas'\n",
       "187. 'America/Rainy_River'\n",
       "188. 'America/Rankin_Inlet'\n",
       "189. 'America/Recife'\n",
       "190. 'America/Regina'\n",
       "191. 'America/Resolute'\n",
       "192. 'America/Rio_Branco'\n",
       "193. 'America/Rosario'\n",
       "194. 'America/Santa_Isabel'\n",
       "195. 'America/Santarem'\n",
       "196. 'America/Santiago'\n",
       "197. 'America/Santo_Domingo'\n",
       "198. 'America/Sao_Paulo'\n",
       "199. 'America/Scoresbysund'\n",
       "200. 'America/Shiprock'\n",
       "201. 'America/Sitka'\n",
       "202. 'America/St_Barthelemy'\n",
       "203. 'America/St_Johns'\n",
       "204. 'America/St_Kitts'\n",
       "205. 'America/St_Lucia'\n",
       "206. 'America/St_Thomas'\n",
       "207. 'America/St_Vincent'\n",
       "208. 'America/Swift_Current'\n",
       "209. 'America/Tegucigalpa'\n",
       "210. 'America/Thule'\n",
       "211. 'America/Thunder_Bay'\n",
       "212. 'America/Tijuana'\n",
       "213. 'America/Toronto'\n",
       "214. 'America/Tortola'\n",
       "215. 'America/Vancouver'\n",
       "216. 'America/Virgin'\n",
       "217. 'America/Whitehorse'\n",
       "218. 'America/Winnipeg'\n",
       "219. 'America/Yakutat'\n",
       "220. 'America/Yellowknife'\n",
       "221. 'Antarctica/Casey'\n",
       "222. 'Antarctica/Davis'\n",
       "223. 'Antarctica/DumontDUrville'\n",
       "224. 'Antarctica/Macquarie'\n",
       "225. 'Antarctica/Mawson'\n",
       "226. 'Antarctica/McMurdo'\n",
       "227. 'Antarctica/Palmer'\n",
       "228. 'Antarctica/Rothera'\n",
       "229. 'Antarctica/South_Pole'\n",
       "230. 'Antarctica/Syowa'\n",
       "231. 'Antarctica/Troll'\n",
       "232. 'Antarctica/Vostok'\n",
       "233. 'Arctic/Longyearbyen'\n",
       "234. 'Asia/Aden'\n",
       "235. 'Asia/Almaty'\n",
       "236. 'Asia/Amman'\n",
       "237. 'Asia/Anadyr'\n",
       "238. 'Asia/Aqtau'\n",
       "239. 'Asia/Aqtobe'\n",
       "240. 'Asia/Ashgabat'\n",
       "241. 'Asia/Ashkhabad'\n",
       "242. 'Asia/Atyrau'\n",
       "243. 'Asia/Baghdad'\n",
       "244. 'Asia/Bahrain'\n",
       "245. 'Asia/Baku'\n",
       "246. 'Asia/Bangkok'\n",
       "247. 'Asia/Barnaul'\n",
       "248. 'Asia/Beirut'\n",
       "249. 'Asia/Bishkek'\n",
       "250. 'Asia/Brunei'\n",
       "251. 'Asia/Calcutta'\n",
       "252. 'Asia/Chita'\n",
       "253. 'Asia/Choibalsan'\n",
       "254. 'Asia/Chongqing'\n",
       "255. 'Asia/Chungking'\n",
       "256. 'Asia/Colombo'\n",
       "257. 'Asia/Dacca'\n",
       "258. 'Asia/Damascus'\n",
       "259. 'Asia/Dhaka'\n",
       "260. 'Asia/Dili'\n",
       "261. 'Asia/Dubai'\n",
       "262. 'Asia/Dushanbe'\n",
       "263. 'Asia/Famagusta'\n",
       "264. 'Asia/Gaza'\n",
       "265. 'Asia/Harbin'\n",
       "266. 'Asia/Hebron'\n",
       "267. 'Asia/Ho_Chi_Minh'\n",
       "268. 'Asia/Hong_Kong'\n",
       "269. 'Asia/Hovd'\n",
       "270. 'Asia/Irkutsk'\n",
       "271. 'Asia/Istanbul'\n",
       "272. 'Asia/Jakarta'\n",
       "273. 'Asia/Jayapura'\n",
       "274. 'Asia/Jerusalem'\n",
       "275. 'Asia/Kabul'\n",
       "276. 'Asia/Kamchatka'\n",
       "277. 'Asia/Karachi'\n",
       "278. 'Asia/Kashgar'\n",
       "279. 'Asia/Kathmandu'\n",
       "280. 'Asia/Katmandu'\n",
       "281. 'Asia/Khandyga'\n",
       "282. 'Asia/Kolkata'\n",
       "283. 'Asia/Krasnoyarsk'\n",
       "284. 'Asia/Kuala_Lumpur'\n",
       "285. 'Asia/Kuching'\n",
       "286. 'Asia/Kuwait'\n",
       "287. 'Asia/Macao'\n",
       "288. 'Asia/Macau'\n",
       "289. 'Asia/Magadan'\n",
       "290. 'Asia/Makassar'\n",
       "291. 'Asia/Manila'\n",
       "292. 'Asia/Muscat'\n",
       "293. 'Asia/Nicosia'\n",
       "294. 'Asia/Novokuznetsk'\n",
       "295. 'Asia/Novosibirsk'\n",
       "296. 'Asia/Omsk'\n",
       "297. 'Asia/Oral'\n",
       "298. 'Asia/Phnom_Penh'\n",
       "299. 'Asia/Pontianak'\n",
       "300. 'Asia/Pyongyang'\n",
       "301. 'Asia/Qatar'\n",
       "302. 'Asia/Qyzylorda'\n",
       "303. 'Asia/Rangoon'\n",
       "304. 'Asia/Riyadh'\n",
       "305. 'Asia/Saigon'\n",
       "306. 'Asia/Sakhalin'\n",
       "307. 'Asia/Samarkand'\n",
       "308. 'Asia/Seoul'\n",
       "309. 'Asia/Shanghai'\n",
       "310. 'Asia/Singapore'\n",
       "311. 'Asia/Srednekolymsk'\n",
       "312. 'Asia/Taipei'\n",
       "313. 'Asia/Tashkent'\n",
       "314. 'Asia/Tbilisi'\n",
       "315. 'Asia/Tehran'\n",
       "316. 'Asia/Tel_Aviv'\n",
       "317. 'Asia/Thimbu'\n",
       "318. 'Asia/Thimphu'\n",
       "319. 'Asia/Tokyo'\n",
       "320. 'Asia/Tomsk'\n",
       "321. 'Asia/Ujung_Pandang'\n",
       "322. 'Asia/Ulaanbaatar'\n",
       "323. 'Asia/Ulan_Bator'\n",
       "324. 'Asia/Urumqi'\n",
       "325. 'Asia/Ust-Nera'\n",
       "326. 'Asia/Vientiane'\n",
       "327. 'Asia/Vladivostok'\n",
       "328. 'Asia/Yakutsk'\n",
       "329. 'Asia/Yangon'\n",
       "330. 'Asia/Yekaterinburg'\n",
       "331. 'Asia/Yerevan'\n",
       "332. 'Atlantic/Azores'\n",
       "333. 'Atlantic/Bermuda'\n",
       "334. 'Atlantic/Canary'\n",
       "335. 'Atlantic/Cape_Verde'\n",
       "336. 'Atlantic/Faeroe'\n",
       "337. 'Atlantic/Faroe'\n",
       "338. 'Atlantic/Jan_Mayen'\n",
       "339. 'Atlantic/Madeira'\n",
       "340. 'Atlantic/Reykjavik'\n",
       "341. 'Atlantic/South_Georgia'\n",
       "342. 'Atlantic/St_Helena'\n",
       "343. 'Atlantic/Stanley'\n",
       "344. 'Australia/ACT'\n",
       "345. 'Australia/Adelaide'\n",
       "346. 'Australia/Brisbane'\n",
       "347. 'Australia/Broken_Hill'\n",
       "348. 'Australia/Canberra'\n",
       "349. 'Australia/Currie'\n",
       "350. 'Australia/Darwin'\n",
       "351. 'Australia/Eucla'\n",
       "352. 'Australia/Hobart'\n",
       "353. 'Australia/LHI'\n",
       "354. 'Australia/Lindeman'\n",
       "355. 'Australia/Lord_Howe'\n",
       "356. 'Australia/Melbourne'\n",
       "357. 'Australia/NSW'\n",
       "358. 'Australia/North'\n",
       "359. 'Australia/Perth'\n",
       "360. 'Australia/Queensland'\n",
       "361. 'Australia/South'\n",
       "362. 'Australia/Sydney'\n",
       "363. 'Australia/Tasmania'\n",
       "364. 'Australia/Victoria'\n",
       "365. 'Australia/West'\n",
       "366. 'Australia/Yancowinna'\n",
       "367. 'Brazil/Acre'\n",
       "368. 'Brazil/DeNoronha'\n",
       "369. 'Brazil/East'\n",
       "370. 'Brazil/West'\n",
       "371. 'CET'\n",
       "372. 'CST6CDT'\n",
       "373. 'Canada/Atlantic'\n",
       "374. 'Canada/Central'\n",
       "375. 'Canada/Eastern'\n",
       "376. 'Canada/Mountain'\n",
       "377. 'Canada/Newfoundland'\n",
       "378. 'Canada/Pacific'\n",
       "379. 'Canada/Saskatchewan'\n",
       "380. 'Canada/Yukon'\n",
       "381. 'Chile/Continental'\n",
       "382. 'Chile/EasterIsland'\n",
       "383. 'Cuba'\n",
       "384. 'EET'\n",
       "385. 'EST'\n",
       "386. 'EST5EDT'\n",
       "387. 'Egypt'\n",
       "388. 'Eire'\n",
       "389. 'Etc/GMT'\n",
       "390. 'Etc/GMT+0'\n",
       "391. 'Etc/GMT+1'\n",
       "392. 'Etc/GMT+10'\n",
       "393. 'Etc/GMT+11'\n",
       "394. 'Etc/GMT+12'\n",
       "395. 'Etc/GMT+2'\n",
       "396. 'Etc/GMT+3'\n",
       "397. 'Etc/GMT+4'\n",
       "398. 'Etc/GMT+5'\n",
       "399. 'Etc/GMT+6'\n",
       "400. 'Etc/GMT+7'\n",
       "401. 'Etc/GMT+8'\n",
       "402. 'Etc/GMT+9'\n",
       "403. 'Etc/GMT-0'\n",
       "404. 'Etc/GMT-1'\n",
       "405. 'Etc/GMT-10'\n",
       "406. 'Etc/GMT-11'\n",
       "407. 'Etc/GMT-12'\n",
       "408. 'Etc/GMT-13'\n",
       "409. 'Etc/GMT-14'\n",
       "410. 'Etc/GMT-2'\n",
       "411. 'Etc/GMT-3'\n",
       "412. 'Etc/GMT-4'\n",
       "413. 'Etc/GMT-5'\n",
       "414. 'Etc/GMT-6'\n",
       "415. 'Etc/GMT-7'\n",
       "416. 'Etc/GMT-8'\n",
       "417. 'Etc/GMT-9'\n",
       "418. 'Etc/GMT0'\n",
       "419. 'Etc/Greenwich'\n",
       "420. 'Etc/UCT'\n",
       "421. 'Etc/UTC'\n",
       "422. 'Etc/Universal'\n",
       "423. 'Etc/Zulu'\n",
       "424. 'Europe/Amsterdam'\n",
       "425. 'Europe/Andorra'\n",
       "426. 'Europe/Astrakhan'\n",
       "427. 'Europe/Athens'\n",
       "428. 'Europe/Belfast'\n",
       "429. 'Europe/Belgrade'\n",
       "430. 'Europe/Berlin'\n",
       "431. 'Europe/Bratislava'\n",
       "432. 'Europe/Brussels'\n",
       "433. 'Europe/Bucharest'\n",
       "434. 'Europe/Budapest'\n",
       "435. 'Europe/Busingen'\n",
       "436. 'Europe/Chisinau'\n",
       "437. 'Europe/Copenhagen'\n",
       "438. 'Europe/Dublin'\n",
       "439. 'Europe/Gibraltar'\n",
       "440. 'Europe/Guernsey'\n",
       "441. 'Europe/Helsinki'\n",
       "442. 'Europe/Isle_of_Man'\n",
       "443. 'Europe/Istanbul'\n",
       "444. 'Europe/Jersey'\n",
       "445. 'Europe/Kaliningrad'\n",
       "446. 'Europe/Kiev'\n",
       "447. 'Europe/Kirov'\n",
       "448. 'Europe/Lisbon'\n",
       "449. 'Europe/Ljubljana'\n",
       "450. 'Europe/London'\n",
       "451. 'Europe/Luxembourg'\n",
       "452. 'Europe/Madrid'\n",
       "453. 'Europe/Malta'\n",
       "454. 'Europe/Mariehamn'\n",
       "455. 'Europe/Minsk'\n",
       "456. 'Europe/Monaco'\n",
       "457. 'Europe/Moscow'\n",
       "458. 'Europe/Nicosia'\n",
       "459. 'Europe/Oslo'\n",
       "460. 'Europe/Paris'\n",
       "461. 'Europe/Podgorica'\n",
       "462. 'Europe/Prague'\n",
       "463. 'Europe/Riga'\n",
       "464. 'Europe/Rome'\n",
       "465. 'Europe/Samara'\n",
       "466. 'Europe/San_Marino'\n",
       "467. 'Europe/Sarajevo'\n",
       "468. 'Europe/Saratov'\n",
       "469. 'Europe/Simferopol'\n",
       "470. 'Europe/Skopje'\n",
       "471. 'Europe/Sofia'\n",
       "472. 'Europe/Stockholm'\n",
       "473. 'Europe/Tallinn'\n",
       "474. 'Europe/Tirane'\n",
       "475. 'Europe/Tiraspol'\n",
       "476. 'Europe/Ulyanovsk'\n",
       "477. 'Europe/Uzhgorod'\n",
       "478. 'Europe/Vaduz'\n",
       "479. 'Europe/Vatican'\n",
       "480. 'Europe/Vienna'\n",
       "481. 'Europe/Vilnius'\n",
       "482. 'Europe/Volgograd'\n",
       "483. 'Europe/Warsaw'\n",
       "484. 'Europe/Zagreb'\n",
       "485. 'Europe/Zaporozhye'\n",
       "486. 'Europe/Zurich'\n",
       "487. 'GB'\n",
       "488. 'GB-Eire'\n",
       "489. 'GMT'\n",
       "490. 'GMT+0'\n",
       "491. 'GMT-0'\n",
       "492. 'GMT0'\n",
       "493. 'Greenwich'\n",
       "494. 'HST'\n",
       "495. 'Hongkong'\n",
       "496. 'Iceland'\n",
       "497. 'Indian/Antananarivo'\n",
       "498. 'Indian/Chagos'\n",
       "499. 'Indian/Christmas'\n",
       "500. 'Indian/Cocos'\n",
       "501. 'Indian/Comoro'\n",
       "502. 'Indian/Kerguelen'\n",
       "503. 'Indian/Mahe'\n",
       "504. 'Indian/Maldives'\n",
       "505. 'Indian/Mauritius'\n",
       "506. 'Indian/Mayotte'\n",
       "507. 'Indian/Reunion'\n",
       "508. 'Iran'\n",
       "509. 'Israel'\n",
       "510. 'Jamaica'\n",
       "511. 'Japan'\n",
       "512. 'Kwajalein'\n",
       "513. 'Libya'\n",
       "514. 'MET'\n",
       "515. 'MST'\n",
       "516. 'MST7MDT'\n",
       "517. 'Mexico/BajaNorte'\n",
       "518. 'Mexico/BajaSur'\n",
       "519. 'Mexico/General'\n",
       "520. 'NZ'\n",
       "521. 'NZ-CHAT'\n",
       "522. 'Navajo'\n",
       "523. 'PRC'\n",
       "524. 'PST8PDT'\n",
       "525. 'Pacific/Apia'\n",
       "526. 'Pacific/Auckland'\n",
       "527. 'Pacific/Bougainville'\n",
       "528. 'Pacific/Chatham'\n",
       "529. 'Pacific/Chuuk'\n",
       "530. 'Pacific/Easter'\n",
       "531. 'Pacific/Efate'\n",
       "532. 'Pacific/Enderbury'\n",
       "533. 'Pacific/Fakaofo'\n",
       "534. 'Pacific/Fiji'\n",
       "535. 'Pacific/Funafuti'\n",
       "536. 'Pacific/Galapagos'\n",
       "537. 'Pacific/Gambier'\n",
       "538. 'Pacific/Guadalcanal'\n",
       "539. 'Pacific/Guam'\n",
       "540. 'Pacific/Honolulu'\n",
       "541. 'Pacific/Johnston'\n",
       "542. 'Pacific/Kiritimati'\n",
       "543. 'Pacific/Kosrae'\n",
       "544. 'Pacific/Kwajalein'\n",
       "545. 'Pacific/Majuro'\n",
       "546. 'Pacific/Marquesas'\n",
       "547. 'Pacific/Midway'\n",
       "548. 'Pacific/Nauru'\n",
       "549. 'Pacific/Niue'\n",
       "550. 'Pacific/Norfolk'\n",
       "551. 'Pacific/Noumea'\n",
       "552. 'Pacific/Pago_Pago'\n",
       "553. 'Pacific/Palau'\n",
       "554. 'Pacific/Pitcairn'\n",
       "555. 'Pacific/Pohnpei'\n",
       "556. 'Pacific/Ponape'\n",
       "557. 'Pacific/Port_Moresby'\n",
       "558. 'Pacific/Rarotonga'\n",
       "559. 'Pacific/Saipan'\n",
       "560. 'Pacific/Samoa'\n",
       "561. 'Pacific/Tahiti'\n",
       "562. 'Pacific/Tarawa'\n",
       "563. 'Pacific/Tongatapu'\n",
       "564. 'Pacific/Truk'\n",
       "565. 'Pacific/Wake'\n",
       "566. 'Pacific/Wallis'\n",
       "567. 'Pacific/Yap'\n",
       "568. 'Poland'\n",
       "569. 'Portugal'\n",
       "570. 'ROC'\n",
       "571. 'ROK'\n",
       "572. 'Singapore'\n",
       "573. 'Turkey'\n",
       "574. 'UCT'\n",
       "575. 'US/Alaska'\n",
       "576. 'US/Aleutian'\n",
       "577. 'US/Arizona'\n",
       "578. 'US/Central'\n",
       "579. 'US/East-Indiana'\n",
       "580. 'US/Eastern'\n",
       "581. 'US/Hawaii'\n",
       "582. 'US/Indiana-Starke'\n",
       "583. 'US/Michigan'\n",
       "584. 'US/Mountain'\n",
       "585. 'US/Pacific'\n",
       "586. 'US/Pacific-New'\n",
       "587. 'US/Samoa'\n",
       "588. 'UTC'\n",
       "589. 'Universal'\n",
       "590. 'W-SU'\n",
       "591. 'WET'\n",
       "592. 'Zulu'\n",
       "\n",
       "\n"
      ],
      "text/plain": [
       "  [1] \"Africa/Abidjan\"                   \"Africa/Accra\"                    \n",
       "  [3] \"Africa/Addis_Ababa\"               \"Africa/Algiers\"                  \n",
       "  [5] \"Africa/Asmara\"                    \"Africa/Asmera\"                   \n",
       "  [7] \"Africa/Bamako\"                    \"Africa/Bangui\"                   \n",
       "  [9] \"Africa/Banjul\"                    \"Africa/Bissau\"                   \n",
       " [11] \"Africa/Blantyre\"                  \"Africa/Brazzaville\"              \n",
       " [13] \"Africa/Bujumbura\"                 \"Africa/Cairo\"                    \n",
       " [15] \"Africa/Casablanca\"                \"Africa/Ceuta\"                    \n",
       " [17] \"Africa/Conakry\"                   \"Africa/Dakar\"                    \n",
       " [19] \"Africa/Dar_es_Salaam\"             \"Africa/Djibouti\"                 \n",
       " [21] \"Africa/Douala\"                    \"Africa/El_Aaiun\"                 \n",
       " [23] \"Africa/Freetown\"                  \"Africa/Gaborone\"                 \n",
       " [25] \"Africa/Harare\"                    \"Africa/Johannesburg\"             \n",
       " [27] \"Africa/Juba\"                      \"Africa/Kampala\"                  \n",
       " [29] \"Africa/Khartoum\"                  \"Africa/Kigali\"                   \n",
       " [31] \"Africa/Kinshasa\"                  \"Africa/Lagos\"                    \n",
       " [33] \"Africa/Libreville\"                \"Africa/Lome\"                     \n",
       " [35] \"Africa/Luanda\"                    \"Africa/Lubumbashi\"               \n",
       " [37] \"Africa/Lusaka\"                    \"Africa/Malabo\"                   \n",
       " [39] \"Africa/Maputo\"                    \"Africa/Maseru\"                   \n",
       " [41] \"Africa/Mbabane\"                   \"Africa/Mogadishu\"                \n",
       " [43] \"Africa/Monrovia\"                  \"Africa/Nairobi\"                  \n",
       " [45] \"Africa/Ndjamena\"                  \"Africa/Niamey\"                   \n",
       " [47] \"Africa/Nouakchott\"                \"Africa/Ouagadougou\"              \n",
       " [49] \"Africa/Porto-Novo\"                \"Africa/Sao_Tome\"                 \n",
       " [51] \"Africa/Timbuktu\"                  \"Africa/Tripoli\"                  \n",
       " [53] \"Africa/Tunis\"                     \"Africa/Windhoek\"                 \n",
       " [55] \"America/Adak\"                     \"America/Anchorage\"               \n",
       " [57] \"America/Anguilla\"                 \"America/Antigua\"                 \n",
       " [59] \"America/Araguaina\"                \"America/Argentina/Buenos_Aires\"  \n",
       " [61] \"America/Argentina/Catamarca\"      \"America/Argentina/ComodRivadavia\"\n",
       " [63] \"America/Argentina/Cordoba\"        \"America/Argentina/Jujuy\"         \n",
       " [65] \"America/Argentina/La_Rioja\"       \"America/Argentina/Mendoza\"       \n",
       " [67] \"America/Argentina/Rio_Gallegos\"   \"America/Argentina/Salta\"         \n",
       " [69] \"America/Argentina/San_Juan\"       \"America/Argentina/San_Luis\"      \n",
       " [71] \"America/Argentina/Tucuman\"        \"America/Argentina/Ushuaia\"       \n",
       " [73] \"America/Aruba\"                    \"America/Asuncion\"                \n",
       " [75] \"America/Atikokan\"                 \"America/Atka\"                    \n",
       " [77] \"America/Bahia\"                    \"America/Bahia_Banderas\"          \n",
       " [79] \"America/Barbados\"                 \"America/Belem\"                   \n",
       " [81] \"America/Belize\"                   \"America/Blanc-Sablon\"            \n",
       " [83] \"America/Boa_Vista\"                \"America/Bogota\"                  \n",
       " [85] \"America/Boise\"                    \"America/Buenos_Aires\"            \n",
       " [87] \"America/Cambridge_Bay\"            \"America/Campo_Grande\"            \n",
       " [89] \"America/Cancun\"                   \"America/Caracas\"                 \n",
       " [91] \"America/Catamarca\"                \"America/Cayenne\"                 \n",
       " [93] \"America/Cayman\"                   \"America/Chicago\"                 \n",
       " [95] \"America/Chihuahua\"                \"America/Coral_Harbour\"           \n",
       " [97] \"America/Cordoba\"                  \"America/Costa_Rica\"              \n",
       " [99] \"America/Creston\"                  \"America/Cuiaba\"                  \n",
       "[101] \"America/Curacao\"                  \"America/Danmarkshavn\"            \n",
       "[103] \"America/Dawson\"                   \"America/Dawson_Creek\"            \n",
       "[105] \"America/Denver\"                   \"America/Detroit\"                 \n",
       "[107] \"America/Dominica\"                 \"America/Edmonton\"                \n",
       "[109] \"America/Eirunepe\"                 \"America/El_Salvador\"             \n",
       "[111] \"America/Ensenada\"                 \"America/Fort_Nelson\"             \n",
       "[113] \"America/Fort_Wayne\"               \"America/Fortaleza\"               \n",
       "[115] \"America/Glace_Bay\"                \"America/Godthab\"                 \n",
       "[117] \"America/Goose_Bay\"                \"America/Grand_Turk\"              \n",
       "[119] \"America/Grenada\"                  \"America/Guadeloupe\"              \n",
       "[121] \"America/Guatemala\"                \"America/Guayaquil\"               \n",
       "[123] \"America/Guyana\"                   \"America/Halifax\"                 \n",
       "[125] \"America/Havana\"                   \"America/Hermosillo\"              \n",
       "[127] \"America/Indiana/Indianapolis\"     \"America/Indiana/Knox\"            \n",
       "[129] \"America/Indiana/Marengo\"          \"America/Indiana/Petersburg\"      \n",
       "[131] \"America/Indiana/Tell_City\"        \"America/Indiana/Vevay\"           \n",
       "[133] \"America/Indiana/Vincennes\"        \"America/Indiana/Winamac\"         \n",
       "[135] \"America/Indianapolis\"             \"America/Inuvik\"                  \n",
       "[137] \"America/Iqaluit\"                  \"America/Jamaica\"                 \n",
       "[139] \"America/Jujuy\"                    \"America/Juneau\"                  \n",
       "[141] \"America/Kentucky/Louisville\"      \"America/Kentucky/Monticello\"     \n",
       "[143] \"America/Knox_IN\"                  \"America/Kralendijk\"              \n",
       "[145] \"America/La_Paz\"                   \"America/Lima\"                    \n",
       "[147] \"America/Los_Angeles\"              \"America/Louisville\"              \n",
       "[149] \"America/Lower_Princes\"            \"America/Maceio\"                  \n",
       "[151] \"America/Managua\"                  \"America/Manaus\"                  \n",
       "[153] \"America/Marigot\"                  \"America/Martinique\"              \n",
       "[155] \"America/Matamoros\"                \"America/Mazatlan\"                \n",
       "[157] \"America/Mendoza\"                  \"America/Menominee\"               \n",
       "[159] \"America/Merida\"                   \"America/Metlakatla\"              \n",
       "[161] \"America/Mexico_City\"              \"America/Miquelon\"                \n",
       "[163] \"America/Moncton\"                  \"America/Monterrey\"               \n",
       "[165] \"America/Montevideo\"               \"America/Montreal\"                \n",
       "[167] \"America/Montserrat\"               \"America/Nassau\"                  \n",
       "[169] \"America/New_York\"                 \"America/Nipigon\"                 \n",
       "[171] \"America/Nome\"                     \"America/Noronha\"                 \n",
       "[173] \"America/North_Dakota/Beulah\"      \"America/North_Dakota/Center\"     \n",
       "[175] \"America/North_Dakota/New_Salem\"   \"America/Ojinaga\"                 \n",
       "[177] \"America/Panama\"                   \"America/Pangnirtung\"             \n",
       "[179] \"America/Paramaribo\"               \"America/Phoenix\"                 \n",
       "[181] \"America/Port-au-Prince\"           \"America/Port_of_Spain\"           \n",
       "[183] \"America/Porto_Acre\"               \"America/Porto_Velho\"             \n",
       "[185] \"America/Puerto_Rico\"              \"America/Punta_Arenas\"            \n",
       "[187] \"America/Rainy_River\"              \"America/Rankin_Inlet\"            \n",
       "[189] \"America/Recife\"                   \"America/Regina\"                  \n",
       "[191] \"America/Resolute\"                 \"America/Rio_Branco\"              \n",
       "[193] \"America/Rosario\"                  \"America/Santa_Isabel\"            \n",
       "[195] \"America/Santarem\"                 \"America/Santiago\"                \n",
       "[197] \"America/Santo_Domingo\"            \"America/Sao_Paulo\"               \n",
       "[199] \"America/Scoresbysund\"             \"America/Shiprock\"                \n",
       "[201] \"America/Sitka\"                    \"America/St_Barthelemy\"           \n",
       "[203] \"America/St_Johns\"                 \"America/St_Kitts\"                \n",
       "[205] \"America/St_Lucia\"                 \"America/St_Thomas\"               \n",
       "[207] \"America/St_Vincent\"               \"America/Swift_Current\"           \n",
       "[209] \"America/Tegucigalpa\"              \"America/Thule\"                   \n",
       "[211] \"America/Thunder_Bay\"              \"America/Tijuana\"                 \n",
       "[213] \"America/Toronto\"                  \"America/Tortola\"                 \n",
       "[215] \"America/Vancouver\"                \"America/Virgin\"                  \n",
       "[217] \"America/Whitehorse\"               \"America/Winnipeg\"                \n",
       "[219] \"America/Yakutat\"                  \"America/Yellowknife\"             \n",
       "[221] \"Antarctica/Casey\"                 \"Antarctica/Davis\"                \n",
       "[223] \"Antarctica/DumontDUrville\"        \"Antarctica/Macquarie\"            \n",
       "[225] \"Antarctica/Mawson\"                \"Antarctica/McMurdo\"              \n",
       "[227] \"Antarctica/Palmer\"                \"Antarctica/Rothera\"              \n",
       "[229] \"Antarctica/South_Pole\"            \"Antarctica/Syowa\"                \n",
       "[231] \"Antarctica/Troll\"                 \"Antarctica/Vostok\"               \n",
       "[233] \"Arctic/Longyearbyen\"              \"Asia/Aden\"                       \n",
       "[235] \"Asia/Almaty\"                      \"Asia/Amman\"                      \n",
       "[237] \"Asia/Anadyr\"                      \"Asia/Aqtau\"                      \n",
       "[239] \"Asia/Aqtobe\"                      \"Asia/Ashgabat\"                   \n",
       "[241] \"Asia/Ashkhabad\"                   \"Asia/Atyrau\"                     \n",
       "[243] \"Asia/Baghdad\"                     \"Asia/Bahrain\"                    \n",
       "[245] \"Asia/Baku\"                        \"Asia/Bangkok\"                    \n",
       "[247] \"Asia/Barnaul\"                     \"Asia/Beirut\"                     \n",
       "[249] \"Asia/Bishkek\"                     \"Asia/Brunei\"                     \n",
       "[251] \"Asia/Calcutta\"                    \"Asia/Chita\"                      \n",
       "[253] \"Asia/Choibalsan\"                  \"Asia/Chongqing\"                  \n",
       "[255] \"Asia/Chungking\"                   \"Asia/Colombo\"                    \n",
       "[257] \"Asia/Dacca\"                       \"Asia/Damascus\"                   \n",
       "[259] \"Asia/Dhaka\"                       \"Asia/Dili\"                       \n",
       "[261] \"Asia/Dubai\"                       \"Asia/Dushanbe\"                   \n",
       "[263] \"Asia/Famagusta\"                   \"Asia/Gaza\"                       \n",
       "[265] \"Asia/Harbin\"                      \"Asia/Hebron\"                     \n",
       "[267] \"Asia/Ho_Chi_Minh\"                 \"Asia/Hong_Kong\"                  \n",
       "[269] \"Asia/Hovd\"                        \"Asia/Irkutsk\"                    \n",
       "[271] \"Asia/Istanbul\"                    \"Asia/Jakarta\"                    \n",
       "[273] \"Asia/Jayapura\"                    \"Asia/Jerusalem\"                  \n",
       "[275] \"Asia/Kabul\"                       \"Asia/Kamchatka\"                  \n",
       "[277] \"Asia/Karachi\"                     \"Asia/Kashgar\"                    \n",
       "[279] \"Asia/Kathmandu\"                   \"Asia/Katmandu\"                   \n",
       "[281] \"Asia/Khandyga\"                    \"Asia/Kolkata\"                    \n",
       "[283] \"Asia/Krasnoyarsk\"                 \"Asia/Kuala_Lumpur\"               \n",
       "[285] \"Asia/Kuching\"                     \"Asia/Kuwait\"                     \n",
       "[287] \"Asia/Macao\"                       \"Asia/Macau\"                      \n",
       "[289] \"Asia/Magadan\"                     \"Asia/Makassar\"                   \n",
       "[291] \"Asia/Manila\"                      \"Asia/Muscat\"                     \n",
       "[293] \"Asia/Nicosia\"                     \"Asia/Novokuznetsk\"               \n",
       "[295] \"Asia/Novosibirsk\"                 \"Asia/Omsk\"                       \n",
       "[297] \"Asia/Oral\"                        \"Asia/Phnom_Penh\"                 \n",
       "[299] \"Asia/Pontianak\"                   \"Asia/Pyongyang\"                  \n",
       "[301] \"Asia/Qatar\"                       \"Asia/Qyzylorda\"                  \n",
       "[303] \"Asia/Rangoon\"                     \"Asia/Riyadh\"                     \n",
       "[305] \"Asia/Saigon\"                      \"Asia/Sakhalin\"                   \n",
       "[307] \"Asia/Samarkand\"                   \"Asia/Seoul\"                      \n",
       "[309] \"Asia/Shanghai\"                    \"Asia/Singapore\"                  \n",
       "[311] \"Asia/Srednekolymsk\"               \"Asia/Taipei\"                     \n",
       "[313] \"Asia/Tashkent\"                    \"Asia/Tbilisi\"                    \n",
       "[315] \"Asia/Tehran\"                      \"Asia/Tel_Aviv\"                   \n",
       "[317] \"Asia/Thimbu\"                      \"Asia/Thimphu\"                    \n",
       "[319] \"Asia/Tokyo\"                       \"Asia/Tomsk\"                      \n",
       "[321] \"Asia/Ujung_Pandang\"               \"Asia/Ulaanbaatar\"                \n",
       "[323] \"Asia/Ulan_Bator\"                  \"Asia/Urumqi\"                     \n",
       "[325] \"Asia/Ust-Nera\"                    \"Asia/Vientiane\"                  \n",
       "[327] \"Asia/Vladivostok\"                 \"Asia/Yakutsk\"                    \n",
       "[329] \"Asia/Yangon\"                      \"Asia/Yekaterinburg\"              \n",
       "[331] \"Asia/Yerevan\"                     \"Atlantic/Azores\"                 \n",
       "[333] \"Atlantic/Bermuda\"                 \"Atlantic/Canary\"                 \n",
       "[335] \"Atlantic/Cape_Verde\"              \"Atlantic/Faeroe\"                 \n",
       "[337] \"Atlantic/Faroe\"                   \"Atlantic/Jan_Mayen\"              \n",
       "[339] \"Atlantic/Madeira\"                 \"Atlantic/Reykjavik\"              \n",
       "[341] \"Atlantic/South_Georgia\"           \"Atlantic/St_Helena\"              \n",
       "[343] \"Atlantic/Stanley\"                 \"Australia/ACT\"                   \n",
       "[345] \"Australia/Adelaide\"               \"Australia/Brisbane\"              \n",
       "[347] \"Australia/Broken_Hill\"            \"Australia/Canberra\"              \n",
       "[349] \"Australia/Currie\"                 \"Australia/Darwin\"                \n",
       "[351] \"Australia/Eucla\"                  \"Australia/Hobart\"                \n",
       "[353] \"Australia/LHI\"                    \"Australia/Lindeman\"              \n",
       "[355] \"Australia/Lord_Howe\"              \"Australia/Melbourne\"             \n",
       "[357] \"Australia/NSW\"                    \"Australia/North\"                 \n",
       "[359] \"Australia/Perth\"                  \"Australia/Queensland\"            \n",
       "[361] \"Australia/South\"                  \"Australia/Sydney\"                \n",
       "[363] \"Australia/Tasmania\"               \"Australia/Victoria\"              \n",
       "[365] \"Australia/West\"                   \"Australia/Yancowinna\"            \n",
       "[367] \"Brazil/Acre\"                      \"Brazil/DeNoronha\"                \n",
       "[369] \"Brazil/East\"                      \"Brazil/West\"                     \n",
       "[371] \"CET\"                              \"CST6CDT\"                         \n",
       "[373] \"Canada/Atlantic\"                  \"Canada/Central\"                  \n",
       "[375] \"Canada/Eastern\"                   \"Canada/Mountain\"                 \n",
       "[377] \"Canada/Newfoundland\"              \"Canada/Pacific\"                  \n",
       "[379] \"Canada/Saskatchewan\"              \"Canada/Yukon\"                    \n",
       "[381] \"Chile/Continental\"                \"Chile/EasterIsland\"              \n",
       "[383] \"Cuba\"                             \"EET\"                             \n",
       "[385] \"EST\"                              \"EST5EDT\"                         \n",
       "[387] \"Egypt\"                            \"Eire\"                            \n",
       "[389] \"Etc/GMT\"                          \"Etc/GMT+0\"                       \n",
       "[391] \"Etc/GMT+1\"                        \"Etc/GMT+10\"                      \n",
       "[393] \"Etc/GMT+11\"                       \"Etc/GMT+12\"                      \n",
       "[395] \"Etc/GMT+2\"                        \"Etc/GMT+3\"                       \n",
       "[397] \"Etc/GMT+4\"                        \"Etc/GMT+5\"                       \n",
       "[399] \"Etc/GMT+6\"                        \"Etc/GMT+7\"                       \n",
       "[401] \"Etc/GMT+8\"                        \"Etc/GMT+9\"                       \n",
       "[403] \"Etc/GMT-0\"                        \"Etc/GMT-1\"                       \n",
       "[405] \"Etc/GMT-10\"                       \"Etc/GMT-11\"                      \n",
       "[407] \"Etc/GMT-12\"                       \"Etc/GMT-13\"                      \n",
       "[409] \"Etc/GMT-14\"                       \"Etc/GMT-2\"                       \n",
       "[411] \"Etc/GMT-3\"                        \"Etc/GMT-4\"                       \n",
       "[413] \"Etc/GMT-5\"                        \"Etc/GMT-6\"                       \n",
       "[415] \"Etc/GMT-7\"                        \"Etc/GMT-8\"                       \n",
       "[417] \"Etc/GMT-9\"                        \"Etc/GMT0\"                        \n",
       "[419] \"Etc/Greenwich\"                    \"Etc/UCT\"                         \n",
       "[421] \"Etc/UTC\"                          \"Etc/Universal\"                   \n",
       "[423] \"Etc/Zulu\"                         \"Europe/Amsterdam\"                \n",
       "[425] \"Europe/Andorra\"                   \"Europe/Astrakhan\"                \n",
       "[427] \"Europe/Athens\"                    \"Europe/Belfast\"                  \n",
       "[429] \"Europe/Belgrade\"                  \"Europe/Berlin\"                   \n",
       "[431] \"Europe/Bratislava\"                \"Europe/Brussels\"                 \n",
       "[433] \"Europe/Bucharest\"                 \"Europe/Budapest\"                 \n",
       "[435] \"Europe/Busingen\"                  \"Europe/Chisinau\"                 \n",
       "[437] \"Europe/Copenhagen\"                \"Europe/Dublin\"                   \n",
       "[439] \"Europe/Gibraltar\"                 \"Europe/Guernsey\"                 \n",
       "[441] \"Europe/Helsinki\"                  \"Europe/Isle_of_Man\"              \n",
       "[443] \"Europe/Istanbul\"                  \"Europe/Jersey\"                   \n",
       "[445] \"Europe/Kaliningrad\"               \"Europe/Kiev\"                     \n",
       "[447] \"Europe/Kirov\"                     \"Europe/Lisbon\"                   \n",
       "[449] \"Europe/Ljubljana\"                 \"Europe/London\"                   \n",
       "[451] \"Europe/Luxembourg\"                \"Europe/Madrid\"                   \n",
       "[453] \"Europe/Malta\"                     \"Europe/Mariehamn\"                \n",
       "[455] \"Europe/Minsk\"                     \"Europe/Monaco\"                   \n",
       "[457] \"Europe/Moscow\"                    \"Europe/Nicosia\"                  \n",
       "[459] \"Europe/Oslo\"                      \"Europe/Paris\"                    \n",
       "[461] \"Europe/Podgorica\"                 \"Europe/Prague\"                   \n",
       "[463] \"Europe/Riga\"                      \"Europe/Rome\"                     \n",
       "[465] \"Europe/Samara\"                    \"Europe/San_Marino\"               \n",
       "[467] \"Europe/Sarajevo\"                  \"Europe/Saratov\"                  \n",
       "[469] \"Europe/Simferopol\"                \"Europe/Skopje\"                   \n",
       "[471] \"Europe/Sofia\"                     \"Europe/Stockholm\"                \n",
       "[473] \"Europe/Tallinn\"                   \"Europe/Tirane\"                   \n",
       "[475] \"Europe/Tiraspol\"                  \"Europe/Ulyanovsk\"                \n",
       "[477] \"Europe/Uzhgorod\"                  \"Europe/Vaduz\"                    \n",
       "[479] \"Europe/Vatican\"                   \"Europe/Vienna\"                   \n",
       "[481] \"Europe/Vilnius\"                   \"Europe/Volgograd\"                \n",
       "[483] \"Europe/Warsaw\"                    \"Europe/Zagreb\"                   \n",
       "[485] \"Europe/Zaporozhye\"                \"Europe/Zurich\"                   \n",
       "[487] \"GB\"                               \"GB-Eire\"                         \n",
       "[489] \"GMT\"                              \"GMT+0\"                           \n",
       "[491] \"GMT-0\"                            \"GMT0\"                            \n",
       "[493] \"Greenwich\"                        \"HST\"                             \n",
       "[495] \"Hongkong\"                         \"Iceland\"                         \n",
       "[497] \"Indian/Antananarivo\"              \"Indian/Chagos\"                   \n",
       "[499] \"Indian/Christmas\"                 \"Indian/Cocos\"                    \n",
       "[501] \"Indian/Comoro\"                    \"Indian/Kerguelen\"                \n",
       "[503] \"Indian/Mahe\"                      \"Indian/Maldives\"                 \n",
       "[505] \"Indian/Mauritius\"                 \"Indian/Mayotte\"                  \n",
       "[507] \"Indian/Reunion\"                   \"Iran\"                            \n",
       "[509] \"Israel\"                           \"Jamaica\"                         \n",
       "[511] \"Japan\"                            \"Kwajalein\"                       \n",
       "[513] \"Libya\"                            \"MET\"                             \n",
       "[515] \"MST\"                              \"MST7MDT\"                         \n",
       "[517] \"Mexico/BajaNorte\"                 \"Mexico/BajaSur\"                  \n",
       "[519] \"Mexico/General\"                   \"NZ\"                              \n",
       "[521] \"NZ-CHAT\"                          \"Navajo\"                          \n",
       "[523] \"PRC\"                              \"PST8PDT\"                         \n",
       "[525] \"Pacific/Apia\"                     \"Pacific/Auckland\"                \n",
       "[527] \"Pacific/Bougainville\"             \"Pacific/Chatham\"                 \n",
       "[529] \"Pacific/Chuuk\"                    \"Pacific/Easter\"                  \n",
       "[531] \"Pacific/Efate\"                    \"Pacific/Enderbury\"               \n",
       "[533] \"Pacific/Fakaofo\"                  \"Pacific/Fiji\"                    \n",
       "[535] \"Pacific/Funafuti\"                 \"Pacific/Galapagos\"               \n",
       "[537] \"Pacific/Gambier\"                  \"Pacific/Guadalcanal\"             \n",
       "[539] \"Pacific/Guam\"                     \"Pacific/Honolulu\"                \n",
       "[541] \"Pacific/Johnston\"                 \"Pacific/Kiritimati\"              \n",
       "[543] \"Pacific/Kosrae\"                   \"Pacific/Kwajalein\"               \n",
       "[545] \"Pacific/Majuro\"                   \"Pacific/Marquesas\"               \n",
       "[547] \"Pacific/Midway\"                   \"Pacific/Nauru\"                   \n",
       "[549] \"Pacific/Niue\"                     \"Pacific/Norfolk\"                 \n",
       "[551] \"Pacific/Noumea\"                   \"Pacific/Pago_Pago\"               \n",
       "[553] \"Pacific/Palau\"                    \"Pacific/Pitcairn\"                \n",
       "[555] \"Pacific/Pohnpei\"                  \"Pacific/Ponape\"                  \n",
       "[557] \"Pacific/Port_Moresby\"             \"Pacific/Rarotonga\"               \n",
       "[559] \"Pacific/Saipan\"                   \"Pacific/Samoa\"                   \n",
       "[561] \"Pacific/Tahiti\"                   \"Pacific/Tarawa\"                  \n",
       "[563] \"Pacific/Tongatapu\"                \"Pacific/Truk\"                    \n",
       "[565] \"Pacific/Wake\"                     \"Pacific/Wallis\"                  \n",
       "[567] \"Pacific/Yap\"                      \"Poland\"                          \n",
       "[569] \"Portugal\"                         \"ROC\"                             \n",
       "[571] \"ROK\"                              \"Singapore\"                       \n",
       "[573] \"Turkey\"                           \"UCT\"                             \n",
       "[575] \"US/Alaska\"                        \"US/Aleutian\"                     \n",
       "[577] \"US/Arizona\"                       \"US/Central\"                      \n",
       "[579] \"US/East-Indiana\"                  \"US/Eastern\"                      \n",
       "[581] \"US/Hawaii\"                        \"US/Indiana-Starke\"               \n",
       "[583] \"US/Michigan\"                      \"US/Mountain\"                     \n",
       "[585] \"US/Pacific\"                       \"US/Pacific-New\"                  \n",
       "[587] \"US/Samoa\"                         \"UTC\"                             \n",
       "[589] \"Universal\"                        \"W-SU\"                            \n",
       "[591] \"WET\"                              \"Zulu\"                            \n",
       "attr(,\"Version\")\n",
       "[1] \"2018e\""
      ]
     },
     "metadata": {},
     "output_type": "display_data"
    }
   ],
   "source": [
    "OlsonNames()"
   ]
  },
  {
   "cell_type": "markdown",
   "metadata": {
    "slideshow": {
     "slide_type": "subslide"
    }
   },
   "source": [
    "## Practices: The 921 earthquake\n",
    "\n",
    "\"1999-09-21 01:47:16\" the Jiji earthquake occured in Nantou, Taiwan with a Richter scale of 7.3. The first major after-shock occured on \"1999-09-21 01:57:15\". Let us know how long was it between these two shocks."
   ]
  },
  {
   "cell_type": "code",
   "execution_count": 16,
   "metadata": {
    "slideshow": {
     "slide_type": "fragment"
    }
   },
   "outputs": [],
   "source": [
    "first_shock <- \"1999-09-21 01:47:16\"\n",
    "after_shock <- \"1999-09-21 01:57:15\""
   ]
  }
 ],
 "metadata": {
  "celltoolbar": "Slideshow",
  "kernelspec": {
   "display_name": "R",
   "language": "R",
   "name": "ir"
  },
  "language_info": {
   "codemirror_mode": "r",
   "file_extension": ".r",
   "mimetype": "text/x-r-source",
   "name": "R",
   "pygments_lexer": "r",
   "version": "3.5.2"
  }
 },
 "nbformat": 4,
 "nbformat_minor": 2
}
